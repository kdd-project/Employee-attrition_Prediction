{
 "cells": [
  {
   "cell_type": "code",
   "execution_count": 1,
   "metadata": {},
   "outputs": [],
   "source": [
    "import pandas as pd\n",
    "import numpy as np"
   ]
  },
  {
   "cell_type": "code",
   "execution_count": 2,
   "metadata": {},
   "outputs": [
    {
     "data": {
      "text/plain": [
       "(8611, 27)"
      ]
     },
     "execution_count": 2,
     "metadata": {},
     "output_type": "execute_result"
    }
   ],
   "source": [
    "df=pd.read_csv(r\"../data/attrition_data.csv\")\n",
    "df.shape"
   ]
  },
  {
   "cell_type": "code",
   "execution_count": 3,
   "metadata": {},
   "outputs": [
    {
     "data": {
      "text/html": [
       "<div>\n",
       "<style scoped>\n",
       "    .dataframe tbody tr th:only-of-type {\n",
       "        vertical-align: middle;\n",
       "    }\n",
       "\n",
       "    .dataframe tbody tr th {\n",
       "        vertical-align: top;\n",
       "    }\n",
       "\n",
       "    .dataframe thead th {\n",
       "        text-align: right;\n",
       "    }\n",
       "</style>\n",
       "<table border=\"1\" class=\"dataframe\">\n",
       "  <thead>\n",
       "    <tr style=\"text-align: right;\">\n",
       "      <th></th>\n",
       "      <th>EMP_ID</th>\n",
       "      <th>ANNUAL_RATE</th>\n",
       "      <th>HRLY_RATE</th>\n",
       "      <th>JOBCODE</th>\n",
       "      <th>JOB_SATISFACTION</th>\n",
       "      <th>AGE</th>\n",
       "      <th>TERMINATION_YEAR</th>\n",
       "      <th>PERFORMANCE_RATING</th>\n",
       "      <th>PREVYR_1</th>\n",
       "      <th>PREVYR_2</th>\n",
       "      <th>PREVYR_3</th>\n",
       "      <th>PREVYR_4</th>\n",
       "      <th>PREVYR_5</th>\n",
       "    </tr>\n",
       "  </thead>\n",
       "  <tbody>\n",
       "    <tr>\n",
       "      <th>count</th>\n",
       "      <td>8.611000e+03</td>\n",
       "      <td>8.611000e+03</td>\n",
       "      <td>8611.000000</td>\n",
       "      <td>8611.000000</td>\n",
       "      <td>8611.000000</td>\n",
       "      <td>8611.000000</td>\n",
       "      <td>4154.000000</td>\n",
       "      <td>8611.000000</td>\n",
       "      <td>8611.000000</td>\n",
       "      <td>8611.000000</td>\n",
       "      <td>8611.000000</td>\n",
       "      <td>8611.000000</td>\n",
       "      <td>8611.000000</td>\n",
       "    </tr>\n",
       "    <tr>\n",
       "      <th>mean</th>\n",
       "      <td>5.171513e+09</td>\n",
       "      <td>8.911329e+04</td>\n",
       "      <td>49.828475</td>\n",
       "      <td>51407.488793</td>\n",
       "      <td>2.762978</td>\n",
       "      <td>40.157357</td>\n",
       "      <td>2010.924410</td>\n",
       "      <td>3.006387</td>\n",
       "      <td>1.440483</td>\n",
       "      <td>1.141099</td>\n",
       "      <td>0.865753</td>\n",
       "      <td>0.689351</td>\n",
       "      <td>0.520381</td>\n",
       "    </tr>\n",
       "    <tr>\n",
       "      <th>std</th>\n",
       "      <td>2.396210e+09</td>\n",
       "      <td>5.892069e+04</td>\n",
       "      <td>28.379991</td>\n",
       "      <td>22912.299967</td>\n",
       "      <td>1.412292</td>\n",
       "      <td>13.735217</td>\n",
       "      <td>3.878738</td>\n",
       "      <td>1.408727</td>\n",
       "      <td>1.298630</td>\n",
       "      <td>1.308223</td>\n",
       "      <td>1.225873</td>\n",
       "      <td>1.143279</td>\n",
       "      <td>1.012074</td>\n",
       "    </tr>\n",
       "    <tr>\n",
       "      <th>min</th>\n",
       "      <td>1.000475e+09</td>\n",
       "      <td>1.678600e+04</td>\n",
       "      <td>14.000000</td>\n",
       "      <td>10006.000000</td>\n",
       "      <td>1.000000</td>\n",
       "      <td>18.000000</td>\n",
       "      <td>2004.000000</td>\n",
       "      <td>1.000000</td>\n",
       "      <td>0.000000</td>\n",
       "      <td>0.000000</td>\n",
       "      <td>0.000000</td>\n",
       "      <td>0.000000</td>\n",
       "      <td>0.000000</td>\n",
       "    </tr>\n",
       "    <tr>\n",
       "      <th>25%</th>\n",
       "      <td>3.105552e+09</td>\n",
       "      <td>5.051600e+04</td>\n",
       "      <td>31.000000</td>\n",
       "      <td>33520.000000</td>\n",
       "      <td>2.000000</td>\n",
       "      <td>28.000000</td>\n",
       "      <td>2007.000000</td>\n",
       "      <td>2.000000</td>\n",
       "      <td>0.000000</td>\n",
       "      <td>0.000000</td>\n",
       "      <td>0.000000</td>\n",
       "      <td>0.000000</td>\n",
       "      <td>0.000000</td>\n",
       "    </tr>\n",
       "    <tr>\n",
       "      <th>50%</th>\n",
       "      <td>5.227003e+09</td>\n",
       "      <td>7.362700e+04</td>\n",
       "      <td>42.000000</td>\n",
       "      <td>52630.000000</td>\n",
       "      <td>3.000000</td>\n",
       "      <td>39.000000</td>\n",
       "      <td>2011.000000</td>\n",
       "      <td>3.000000</td>\n",
       "      <td>2.000000</td>\n",
       "      <td>0.000000</td>\n",
       "      <td>0.000000</td>\n",
       "      <td>0.000000</td>\n",
       "      <td>0.000000</td>\n",
       "    </tr>\n",
       "    <tr>\n",
       "      <th>75%</th>\n",
       "      <td>7.256871e+09</td>\n",
       "      <td>1.086390e+05</td>\n",
       "      <td>59.000000</td>\n",
       "      <td>69401.000000</td>\n",
       "      <td>4.000000</td>\n",
       "      <td>52.000000</td>\n",
       "      <td>2014.000000</td>\n",
       "      <td>4.000000</td>\n",
       "      <td>3.000000</td>\n",
       "      <td>2.000000</td>\n",
       "      <td>2.000000</td>\n",
       "      <td>2.000000</td>\n",
       "      <td>0.000000</td>\n",
       "    </tr>\n",
       "    <tr>\n",
       "      <th>max</th>\n",
       "      <td>9.982663e+09</td>\n",
       "      <td>1.250924e+06</td>\n",
       "      <td>608.000000</td>\n",
       "      <td>99793.000000</td>\n",
       "      <td>5.000000</td>\n",
       "      <td>64.000000</td>\n",
       "      <td>2017.000000</td>\n",
       "      <td>5.000000</td>\n",
       "      <td>5.000000</td>\n",
       "      <td>5.000000</td>\n",
       "      <td>5.000000</td>\n",
       "      <td>5.000000</td>\n",
       "      <td>5.000000</td>\n",
       "    </tr>\n",
       "  </tbody>\n",
       "</table>\n",
       "</div>"
      ],
      "text/plain": [
       "             EMP_ID   ANNUAL_RATE    HRLY_RATE       JOBCODE  \\\n",
       "count  8.611000e+03  8.611000e+03  8611.000000   8611.000000   \n",
       "mean   5.171513e+09  8.911329e+04    49.828475  51407.488793   \n",
       "std    2.396210e+09  5.892069e+04    28.379991  22912.299967   \n",
       "min    1.000475e+09  1.678600e+04    14.000000  10006.000000   \n",
       "25%    3.105552e+09  5.051600e+04    31.000000  33520.000000   \n",
       "50%    5.227003e+09  7.362700e+04    42.000000  52630.000000   \n",
       "75%    7.256871e+09  1.086390e+05    59.000000  69401.000000   \n",
       "max    9.982663e+09  1.250924e+06   608.000000  99793.000000   \n",
       "\n",
       "       JOB_SATISFACTION          AGE  TERMINATION_YEAR  PERFORMANCE_RATING  \\\n",
       "count       8611.000000  8611.000000       4154.000000         8611.000000   \n",
       "mean           2.762978    40.157357       2010.924410            3.006387   \n",
       "std            1.412292    13.735217          3.878738            1.408727   \n",
       "min            1.000000    18.000000       2004.000000            1.000000   \n",
       "25%            2.000000    28.000000       2007.000000            2.000000   \n",
       "50%            3.000000    39.000000       2011.000000            3.000000   \n",
       "75%            4.000000    52.000000       2014.000000            4.000000   \n",
       "max            5.000000    64.000000       2017.000000            5.000000   \n",
       "\n",
       "          PREVYR_1     PREVYR_2     PREVYR_3     PREVYR_4     PREVYR_5  \n",
       "count  8611.000000  8611.000000  8611.000000  8611.000000  8611.000000  \n",
       "mean      1.440483     1.141099     0.865753     0.689351     0.520381  \n",
       "std       1.298630     1.308223     1.225873     1.143279     1.012074  \n",
       "min       0.000000     0.000000     0.000000     0.000000     0.000000  \n",
       "25%       0.000000     0.000000     0.000000     0.000000     0.000000  \n",
       "50%       2.000000     0.000000     0.000000     0.000000     0.000000  \n",
       "75%       3.000000     2.000000     2.000000     2.000000     0.000000  \n",
       "max       5.000000     5.000000     5.000000     5.000000     5.000000  "
      ]
     },
     "execution_count": 3,
     "metadata": {},
     "output_type": "execute_result"
    }
   ],
   "source": [
    "df.describe()"
   ]
  },
  {
   "cell_type": "code",
   "execution_count": 4,
   "metadata": {},
   "outputs": [],
   "source": [
    "job_group_combiner = {'Plant & Facilities Maintenance':'Manufacturing & Production', 'Physical Flows':'Manufacturing & Production', 'Production & Operations':'Manufacturing & Production', 'Industrial Quality':'Manufacturing & Production', 'Package Development':'Manufacturing & Production', 'Logistics - Manufacturing':'Manufacturing & Production', 'Plant Management':'Manufacturing & Production','Manufacturing Supply Chain':'Supply Chain','Distribution/Administration':'Supply Chain','Supply Chain Finance':'Supply Chain','Market Supply Logistics':'Supply Chain','Corporate Supply Chain':'Supply Chain','Transportation & Warehousing':'Supply Chain','Prod Planning & Inventory Ctl':'Supply Chain','Logistics - Distribution':'Supply Chain','Demand Planning':'Supply Chain','Supply Chain Administration':'Supply Chain','Finance':'Finance','Tax':'Finance','Accounting':'Finance','Flows & Sub-Contracting':'Finance','Accounts Payable':'Finance','Treasury':'Finance','Insurance & Risk Management':'Finance','Supply Chain Administration':'Business','R&I Evaluation':'Business','Public Relations':'Business','Customer Care':'Business','Multi-Channel':'Business','R&I Safety Evaluation':'Business','Customer Relationship Mgmt':'Marketing','Marketing - Direct':'Marketing','Promotional Purchasing':'Marketing','Marketing Support/Services':'Marketing','Market Research':'Marketing','Marketing - Global':'Marketing','Integrated Mktg Communications':'Marketing','Brand Operations':'Marketing','Social Media':'Marketing','Integrated Marketing Comm':'Marketing','General Administration':'General','General Management':'General','R&I General Management':'General','R&I Development/Pre-Develpmnt':'Research & Development','Creative Service/Copy':'Research & Development','Engineering':'Research & Development','Technical Packaging':'Research & Development','Quality Assurance':'Research & Development','Digital':'Research & Development','Analytical/Microbiology':'Research & Development','eCommerce':'Research & Development','Demi-Grand':'Research & Development','Applied Research':'Research & Development','Advanced Research':'Research & Development','Web':'Research & Development','IT Business Applications':'IT','IT Technologies and Infrstrctr':'IT','IT Governance and Management':'IT','IT Architecture and Integrtion':'IT','IT Digital':'IT','IT Security/Risk and Quality':'IT','Sourcing':'Human Resources','Human Resources':'Human Resources','Legal':'Legal','Intellectual Proprty & Patents':'Legal','Regulatory Affairs':'Legal','Claims Substantiation':'Legal'}"
   ]
  },
  {
   "cell_type": "code",
   "execution_count": 5,
   "metadata": {},
   "outputs": [],
   "source": [
    "df['COMBINED_JOB_GROUP'] = [job_group_combiner[job_group] for job_group in df['JOB_GROUP']]"
   ]
  },
  {
   "cell_type": "code",
   "execution_count": 6,
   "metadata": {},
   "outputs": [
    {
     "data": {
      "text/plain": [
       "count                           8611\n",
       "unique                            10\n",
       "top       Manufacturing & Production\n",
       "freq                            2740\n",
       "Name: COMBINED_JOB_GROUP, dtype: object"
      ]
     },
     "execution_count": 6,
     "metadata": {},
     "output_type": "execute_result"
    }
   ],
   "source": [
    "df['COMBINED_JOB_GROUP'].describe()"
   ]
  },
  {
   "cell_type": "code",
   "execution_count": 7,
   "metadata": {},
   "outputs": [],
   "source": [
    "quantiled_annual_rate = df['ANNUAL_RATE'].quantile([0.25,0.5,0.75])\n",
    "discretized_annual_rate_list = []\n",
    "for annual_rate in df['ANNUAL_RATE']:\n",
    "    if quantiled_annual_rate[0.25] > annual_rate:\n",
    "        discretized_annual_rate_list.append('LOW')\n",
    "    elif quantiled_annual_rate[0.25] <= annual_rate and quantiled_annual_rate[0.50] > annual_rate:\n",
    "        discretized_annual_rate_list.append('MEDIUM')\n",
    "    elif quantiled_annual_rate[0.50] <= annual_rate and quantiled_annual_rate[0.75] > annual_rate:\n",
    "        discretized_annual_rate_list.append('HIGH')\n",
    "    elif quantiled_annual_rate[0.75] <= annual_rate:\n",
    "        discretized_annual_rate_list.append('VERY HIGH')\n",
    "df['DISCRETIZED_ANNUAL_RATE'] = discretized_annual_rate_list"
   ]
  },
  {
   "cell_type": "code",
   "execution_count": 8,
   "metadata": {},
   "outputs": [],
   "source": [
    "discretized_age = []\n",
    "for age in df['AGE']:\n",
    "    if age >= 18 and age <= 23:\n",
    "        discretized_age.append('18-23')\n",
    "    elif age > 23 and age <= 29:\n",
    "        discretized_age.append('24-29')\n",
    "    elif age > 29 and age <= 35:\n",
    "        discretized_age.append('30-35')\n",
    "    elif age > 35 and age <= 41:\n",
    "        discretized_age.append('36-41')\n",
    "    elif age > 41 and age <= 47:\n",
    "        discretized_age.append('41-47')\n",
    "    elif age > 47 and age <= 53:\n",
    "        discretized_age.append('48-53')\n",
    "    elif age > 53 and age <= 59:\n",
    "        discretized_age.append('54-59')\n",
    "    elif age > 59:\n",
    "        discretized_age.append('60 or above')\n",
    "df['DISCRETIZED_AGE'] = discretized_age"
   ]
  },
  {
   "cell_type": "code",
   "execution_count": 9,
   "metadata": {},
   "outputs": [],
   "source": [
    "df['PREVYR_1_PRESENT'] = [1 if value > 0 else 0 for value in df['PREVYR_1']]\n",
    "df['PREVYR_2_PRESENT'] = [1 if value > 0 else 0 for value in df['PREVYR_2']]\n",
    "df['PREVYR_3_PRESENT'] = [1 if value > 0 else 0 for value in df['PREVYR_3']]\n",
    "df['PREVYR_4_PRESENT'] = [1 if value > 0 else 0 for value in df['PREVYR_4']]\n",
    "df['PREVYR_5_PRESENT'] = [1 if value > 0 else 0 for value in df['PREVYR_5']]\n",
    "df['EXPERIENCE_AT_COMPANY'] = df['PREVYR_1_PRESENT'] + df['PREVYR_2_PRESENT'] + df['PREVYR_3_PRESENT'] + df['PREVYR_4_PRESENT'] + df['PREVYR_5_PRESENT'] + 1"
   ]
  },
  {
   "cell_type": "code",
   "execution_count": 10,
   "metadata": {},
   "outputs": [],
   "source": [
    "df.to_csv(r'../data/attrition_data_with_calculated_columns.csv', index = False)"
   ]
  },
  {
   "cell_type": "code",
   "execution_count": null,
   "metadata": {},
   "outputs": [],
   "source": []
  }
 ],
 "metadata": {
  "kernelspec": {
   "display_name": "Python 3",
   "language": "python",
   "name": "python3"
  },
  "language_info": {
   "codemirror_mode": {
    "name": "ipython",
    "version": 3
   },
   "file_extension": ".py",
   "mimetype": "text/x-python",
   "name": "python",
   "nbconvert_exporter": "python",
   "pygments_lexer": "ipython3",
   "version": "3.7.3"
  }
 },
 "nbformat": 4,
 "nbformat_minor": 2
}
