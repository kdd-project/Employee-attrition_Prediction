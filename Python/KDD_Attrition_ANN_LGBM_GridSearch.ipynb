{
 "cells": [
  {
   "cell_type": "code",
   "execution_count": 178,
   "metadata": {},
   "outputs": [],
   "source": [
    "import pandas as pd\n",
    "import numpy as np\n",
    "from scipy.stats import uniform, randint\n",
    "from sklearn.metrics import auc, accuracy_score, confusion_matrix, mean_squared_error\n",
    "from sklearn.model_selection import cross_val_score, GridSearchCV, KFold, RandomizedSearchCV, train_test_split\n",
    "from sklearn.metrics import accuracy_score\n",
    "from sklearn.metrics import f1_score\n",
    "from sklearn.metrics import precision_recall_fscore_support\n",
    "from sklearn.neural_network import MLPClassifier"
   ]
  },
  {
   "cell_type": "code",
   "execution_count": 179,
   "metadata": {},
   "outputs": [],
   "source": [
    "df=pd.read_csv(r\"Master_attrition1.csv\")\n",
    "df=df.replace({'STATUS': {'T': 1, 'A': 0}})"
   ]
  },
  {
   "cell_type": "code",
   "execution_count": 180,
   "metadata": {},
   "outputs": [
    {
     "data": {
      "text/plain": [
       "Index(['EMP_ID', 'ANNUAL_RATE', 'HRLY_RATE', 'JOBCODE', 'ETHNICITY', 'SEX',\n",
       "       'MARITAL_STATUS', 'JOB_SATISFACTION', 'AGE', 'NUMBER_OF_TEAM_CHANGED',\n",
       "       'REFERRAL_SOURCE', 'HIRE_MONTH', 'REHIRE', 'TERMINATION_YEAR',\n",
       "       'IS_FIRST_JOB', 'TRAVELLED_REQUIRED', 'PERFORMANCE_RATING',\n",
       "       'DISABLED_EMP', 'DISABLED_VET', 'EDUCATION_LEVEL', 'STATUS',\n",
       "       'JOB_GROUP', 'PREVYR_1', 'PREVYR_2', 'PREVYR_3', 'PREVYR_4', 'PREVYR_5',\n",
       "       'A', 'B', 'C', 'D', 'E', 'experience'],\n",
       "      dtype='object')"
      ]
     },
     "execution_count": 180,
     "metadata": {},
     "output_type": "execute_result"
    }
   ],
   "source": [
    "df.columns"
   ]
  },
  {
   "cell_type": "code",
   "execution_count": 181,
   "metadata": {},
   "outputs": [],
   "source": [
    "X=df.drop(['EMP_ID','STATUS','TERMINATION_YEAR','HIRE_MONTH','A', 'B', 'C', 'D', 'E'], axis=1)\n",
    "y=df['STATUS']\n"
   ]
  },
  {
   "cell_type": "code",
   "execution_count": 182,
   "metadata": {},
   "outputs": [],
   "source": [
    "X = pd.get_dummies(X, columns=['JOB_GROUP','ETHNICITY', 'SEX', 'MARITAL_STATUS', 'NUMBER_OF_TEAM_CHANGED', 'REFERRAL_SOURCE', 'IS_FIRST_JOB', 'TRAVELLED_REQUIRED', 'DISABLED_EMP', 'DISABLED_VET', 'EDUCATION_LEVEL'])"
   ]
  },
  {
   "cell_type": "code",
   "execution_count": 183,
   "metadata": {},
   "outputs": [],
   "source": [
    "X_train, X_test, y_train, y_test = train_test_split(X, y, test_size=0.30, random_state=42)\n"
   ]
  },
  {
   "cell_type": "code",
   "execution_count": 184,
   "metadata": {},
   "outputs": [],
   "source": [
    "from sklearn.preprocessing import StandardScaler\n",
    "scaler = StandardScaler()\n",
    "scaler.fit(X_train)\n",
    "X_train = scaler.transform(X_train)\n",
    "X_test = scaler.transform(X_test)"
   ]
  },
  {
   "cell_type": "code",
   "execution_count": 373,
   "metadata": {},
   "outputs": [
    {
     "data": {
      "text/plain": [
       "MLPClassifier(activation='relu', alpha=1e-05, batch_size='auto', beta_1=0.9,\n",
       "              beta_2=0.999, early_stopping=False, epsilon=1e-08,\n",
       "              hidden_layer_sizes=(5, 2), learning_rate='constant',\n",
       "              learning_rate_init=0.001, max_iter=1000, momentum=0.9,\n",
       "              n_iter_no_change=10, nesterovs_momentum=True, power_t=0.5,\n",
       "              random_state=42, shuffle=True, solver='adam', tol=0.0001,\n",
       "              validation_fraction=0.1, verbose=False, warm_start=True)"
      ]
     },
     "execution_count": 373,
     "metadata": {},
     "output_type": "execute_result"
    }
   ],
   "source": [
    "clf = MLPClassifier(activation = 'relu', solver='adam', alpha=1e-5,\n",
    "                    hidden_layer_sizes=(5,2), learning_rate='constant', max_iter=1000, random_state=42,warm_start=True)\n",
    "\n",
    "clf.fit(X_train, y_train)"
   ]
  },
  {
   "cell_type": "code",
   "execution_count": 374,
   "metadata": {},
   "outputs": [],
   "source": [
    "y_pred = clf.predict(X_test)"
   ]
  },
  {
   "cell_type": "code",
   "execution_count": 375,
   "metadata": {},
   "outputs": [
    {
     "data": {
      "text/plain": [
       "array([0, 0, 1, ..., 1, 1, 1], dtype=int64)"
      ]
     },
     "execution_count": 375,
     "metadata": {},
     "output_type": "execute_result"
    }
   ],
   "source": [
    "y_pred"
   ]
  },
  {
   "cell_type": "code",
   "execution_count": 376,
   "metadata": {},
   "outputs": [],
   "source": [
    "y_pred_proba = clf.predict_proba(X_test)"
   ]
  },
  {
   "cell_type": "code",
   "execution_count": 377,
   "metadata": {},
   "outputs": [
    {
     "data": {
      "text/plain": [
       "array([[0.65426742, 0.34573258],\n",
       "       [0.95873832, 0.04126168],\n",
       "       [0.39388601, 0.60611399],\n",
       "       ...,\n",
       "       [0.36732588, 0.63267412],\n",
       "       [0.07020686, 0.92979314],\n",
       "       [0.41661918, 0.58338082]])"
      ]
     },
     "execution_count": 377,
     "metadata": {},
     "output_type": "execute_result"
    }
   ],
   "source": [
    "y_pred_proba"
   ]
  },
  {
   "cell_type": "code",
   "execution_count": 378,
   "metadata": {},
   "outputs": [
    {
     "name": "stdout",
     "output_type": "stream",
     "text": [
      "0.7125520110957004\n"
     ]
    }
   ],
   "source": [
    "print (accuracy_score(y_pred,y_test))"
   ]
  },
  {
   "cell_type": "code",
   "execution_count": 379,
   "metadata": {},
   "outputs": [
    {
     "name": "stdout",
     "output_type": "stream",
     "text": [
      "[[1291  334]\n",
      " [ 495  764]]\n"
     ]
    }
   ],
   "source": [
    "from sklearn.metrics import classification_report, confusion_matrix\n",
    "print(confusion_matrix(y_test, y_pred))"
   ]
  },
  {
   "cell_type": "code",
   "execution_count": 380,
   "metadata": {},
   "outputs": [
    {
     "data": {
      "text/plain": [
       "0.7125520110957004"
      ]
     },
     "execution_count": 380,
     "metadata": {},
     "output_type": "execute_result"
    }
   ],
   "source": [
    "clf.score(X_test, y_test, sample_weight=None)"
   ]
  },
  {
   "cell_type": "markdown",
   "metadata": {},
   "source": [
    "LightGBM"
   ]
  },
  {
   "cell_type": "code",
   "execution_count": 223,
   "metadata": {},
   "outputs": [],
   "source": [
    "import numpy as np\n",
    "import pandas as pd\n",
    "import lightgbm as lgb\n",
    "\n",
    "from sklearn.metrics import mean_squared_error\n",
    "from sklearn.model_selection import GridSearchCV,train_test_split"
   ]
  },
  {
   "cell_type": "code",
   "execution_count": 224,
   "metadata": {},
   "outputs": [],
   "source": [
    "df=pd.read_csv(r\"Master_attrition1.csv\")\n",
    "df=df.replace({'STATUS': {'T': 1, 'A': 0}})"
   ]
  },
  {
   "cell_type": "code",
   "execution_count": 225,
   "metadata": {},
   "outputs": [],
   "source": [
    "X=df.drop(['EMP_ID','STATUS','TERMINATION_YEAR','HIRE_MONTH','A', 'B', 'C', 'D', 'E'], axis=1)\n",
    "y=df['STATUS']"
   ]
  },
  {
   "cell_type": "code",
   "execution_count": 226,
   "metadata": {},
   "outputs": [],
   "source": [
    "X = pd.get_dummies(X, columns=['JOB_GROUP','ETHNICITY', 'SEX', 'MARITAL_STATUS', 'NUMBER_OF_TEAM_CHANGED', 'REFERRAL_SOURCE', 'IS_FIRST_JOB', 'TRAVELLED_REQUIRED', 'DISABLED_EMP', 'DISABLED_VET', 'EDUCATION_LEVEL'])"
   ]
  },
  {
   "cell_type": "code",
   "execution_count": 227,
   "metadata": {},
   "outputs": [],
   "source": [
    "X_train, X_test, y_train, y_test = train_test_split(X, y, test_size=0.30, random_state=42)"
   ]
  },
  {
   "cell_type": "code",
   "execution_count": 228,
   "metadata": {},
   "outputs": [],
   "source": [
    "from sklearn.preprocessing import StandardScaler\n",
    "scaler = StandardScaler()\n",
    "scaler.fit(X_train)\n",
    "X_train = scaler.transform(X_train)\n",
    "X_test = scaler.transform(X_test)"
   ]
  },
  {
   "cell_type": "code",
   "execution_count": 229,
   "metadata": {},
   "outputs": [],
   "source": [
    "gbm = lgb.LGBMRegressor(boosting_type='gbdt', num_leaves=100,\n",
    "                        learning_rate=0.03,\n",
    "                        n_estimators=200)"
   ]
  },
  {
   "cell_type": "code",
   "execution_count": 230,
   "metadata": {},
   "outputs": [
    {
     "data": {
      "text/plain": [
       "LGBMRegressor(boosting_type='gbdt', class_weight=None, colsample_bytree=1.0,\n",
       "              importance_type='split', learning_rate=0.03, max_depth=-1,\n",
       "              min_child_samples=20, min_child_weight=0.001, min_split_gain=0.0,\n",
       "              n_estimators=200, n_jobs=-1, num_leaves=100, objective=None,\n",
       "              random_state=None, reg_alpha=0.0, reg_lambda=0.0, silent=True,\n",
       "              subsample=1.0, subsample_for_bin=200000, subsample_freq=0)"
      ]
     },
     "execution_count": 230,
     "metadata": {},
     "output_type": "execute_result"
    }
   ],
   "source": [
    "gbm"
   ]
  },
  {
   "cell_type": "code",
   "execution_count": 231,
   "metadata": {},
   "outputs": [
    {
     "name": "stdout",
     "output_type": "stream",
     "text": [
      "[1]\tvalid_0's l1: 0.487898\tvalid_0's l2: 0.241612\n",
      "Training until validation scores don't improve for 5 rounds\n",
      "[2]\tvalid_0's l1: 0.483581\tvalid_0's l2: 0.237525\n",
      "[3]\tvalid_0's l1: 0.479002\tvalid_0's l2: 0.233291\n",
      "[4]\tvalid_0's l1: 0.474615\tvalid_0's l2: 0.229351\n",
      "[5]\tvalid_0's l1: 0.470439\tvalid_0's l2: 0.225729\n",
      "[6]\tvalid_0's l1: 0.466337\tvalid_0's l2: 0.222284\n",
      "[7]\tvalid_0's l1: 0.462431\tvalid_0's l2: 0.219121\n",
      "[8]\tvalid_0's l1: 0.458535\tvalid_0's l2: 0.216012\n",
      "[9]\tvalid_0's l1: 0.454674\tvalid_0's l2: 0.213039\n",
      "[10]\tvalid_0's l1: 0.451145\tvalid_0's l2: 0.210443\n",
      "[11]\tvalid_0's l1: 0.447518\tvalid_0's l2: 0.207777\n",
      "[12]\tvalid_0's l1: 0.444203\tvalid_0's l2: 0.20547\n",
      "[13]\tvalid_0's l1: 0.440686\tvalid_0's l2: 0.203038\n",
      "[14]\tvalid_0's l1: 0.437217\tvalid_0's l2: 0.20068\n",
      "[15]\tvalid_0's l1: 0.434043\tvalid_0's l2: 0.198637\n",
      "[16]\tvalid_0's l1: 0.431013\tvalid_0's l2: 0.196709\n",
      "[17]\tvalid_0's l1: 0.428003\tvalid_0's l2: 0.19485\n",
      "[18]\tvalid_0's l1: 0.425027\tvalid_0's l2: 0.193066\n",
      "[19]\tvalid_0's l1: 0.422107\tvalid_0's l2: 0.191374\n",
      "[20]\tvalid_0's l1: 0.419331\tvalid_0's l2: 0.189813\n",
      "[21]\tvalid_0's l1: 0.416461\tvalid_0's l2: 0.188168\n",
      "[22]\tvalid_0's l1: 0.413879\tvalid_0's l2: 0.186809\n",
      "[23]\tvalid_0's l1: 0.411465\tvalid_0's l2: 0.185614\n",
      "[24]\tvalid_0's l1: 0.408857\tvalid_0's l2: 0.184232\n",
      "[25]\tvalid_0's l1: 0.406322\tvalid_0's l2: 0.182941\n",
      "[26]\tvalid_0's l1: 0.404129\tvalid_0's l2: 0.181929\n",
      "[27]\tvalid_0's l1: 0.40178\tvalid_0's l2: 0.180741\n",
      "[28]\tvalid_0's l1: 0.399653\tvalid_0's l2: 0.179803\n",
      "[29]\tvalid_0's l1: 0.397408\tvalid_0's l2: 0.178731\n",
      "[30]\tvalid_0's l1: 0.395511\tvalid_0's l2: 0.177943\n",
      "[31]\tvalid_0's l1: 0.393262\tvalid_0's l2: 0.176868\n",
      "[32]\tvalid_0's l1: 0.391247\tvalid_0's l2: 0.175982\n",
      "[33]\tvalid_0's l1: 0.389365\tvalid_0's l2: 0.175198\n",
      "[34]\tvalid_0's l1: 0.387628\tvalid_0's l2: 0.174536\n",
      "[35]\tvalid_0's l1: 0.386016\tvalid_0's l2: 0.1739\n",
      "[36]\tvalid_0's l1: 0.384259\tvalid_0's l2: 0.173204\n",
      "[37]\tvalid_0's l1: 0.382522\tvalid_0's l2: 0.172507\n",
      "[38]\tvalid_0's l1: 0.381043\tvalid_0's l2: 0.171973\n",
      "[39]\tvalid_0's l1: 0.379423\tvalid_0's l2: 0.171378\n",
      "[40]\tvalid_0's l1: 0.377892\tvalid_0's l2: 0.17088\n",
      "[41]\tvalid_0's l1: 0.376476\tvalid_0's l2: 0.170466\n",
      "[42]\tvalid_0's l1: 0.374991\tvalid_0's l2: 0.16986\n",
      "[43]\tvalid_0's l1: 0.373434\tvalid_0's l2: 0.169195\n",
      "[44]\tvalid_0's l1: 0.371814\tvalid_0's l2: 0.168539\n",
      "[45]\tvalid_0's l1: 0.3703\tvalid_0's l2: 0.168001\n",
      "[46]\tvalid_0's l1: 0.369043\tvalid_0's l2: 0.167605\n",
      "[47]\tvalid_0's l1: 0.367605\tvalid_0's l2: 0.167146\n",
      "[48]\tvalid_0's l1: 0.366296\tvalid_0's l2: 0.166733\n",
      "[49]\tvalid_0's l1: 0.365145\tvalid_0's l2: 0.166429\n",
      "[50]\tvalid_0's l1: 0.363831\tvalid_0's l2: 0.166059\n",
      "[51]\tvalid_0's l1: 0.362597\tvalid_0's l2: 0.165646\n",
      "[52]\tvalid_0's l1: 0.361609\tvalid_0's l2: 0.165387\n",
      "[53]\tvalid_0's l1: 0.360415\tvalid_0's l2: 0.165004\n",
      "[54]\tvalid_0's l1: 0.359483\tvalid_0's l2: 0.164841\n",
      "[55]\tvalid_0's l1: 0.358325\tvalid_0's l2: 0.164493\n",
      "[56]\tvalid_0's l1: 0.357413\tvalid_0's l2: 0.164319\n",
      "[57]\tvalid_0's l1: 0.356344\tvalid_0's l2: 0.164057\n",
      "[58]\tvalid_0's l1: 0.355179\tvalid_0's l2: 0.163738\n",
      "[59]\tvalid_0's l1: 0.354282\tvalid_0's l2: 0.163558\n",
      "[60]\tvalid_0's l1: 0.35322\tvalid_0's l2: 0.163236\n",
      "[61]\tvalid_0's l1: 0.352354\tvalid_0's l2: 0.163029\n",
      "[62]\tvalid_0's l1: 0.351375\tvalid_0's l2: 0.162717\n",
      "[63]\tvalid_0's l1: 0.350449\tvalid_0's l2: 0.162465\n",
      "[64]\tvalid_0's l1: 0.349537\tvalid_0's l2: 0.162249\n",
      "[65]\tvalid_0's l1: 0.348749\tvalid_0's l2: 0.162012\n",
      "[66]\tvalid_0's l1: 0.34791\tvalid_0's l2: 0.161811\n",
      "[67]\tvalid_0's l1: 0.347269\tvalid_0's l2: 0.161668\n",
      "[68]\tvalid_0's l1: 0.346389\tvalid_0's l2: 0.161446\n",
      "[69]\tvalid_0's l1: 0.345522\tvalid_0's l2: 0.161217\n",
      "[70]\tvalid_0's l1: 0.344757\tvalid_0's l2: 0.161027\n",
      "[71]\tvalid_0's l1: 0.344195\tvalid_0's l2: 0.160901\n",
      "[72]\tvalid_0's l1: 0.343485\tvalid_0's l2: 0.160736\n",
      "[73]\tvalid_0's l1: 0.342838\tvalid_0's l2: 0.160559\n",
      "[74]\tvalid_0's l1: 0.342133\tvalid_0's l2: 0.160434\n",
      "[75]\tvalid_0's l1: 0.341203\tvalid_0's l2: 0.160126\n",
      "[76]\tvalid_0's l1: 0.34062\tvalid_0's l2: 0.160004\n",
      "[77]\tvalid_0's l1: 0.339985\tvalid_0's l2: 0.159837\n",
      "[78]\tvalid_0's l1: 0.339208\tvalid_0's l2: 0.159633\n",
      "[79]\tvalid_0's l1: 0.338614\tvalid_0's l2: 0.159532\n",
      "[80]\tvalid_0's l1: 0.338092\tvalid_0's l2: 0.159451\n",
      "[81]\tvalid_0's l1: 0.337556\tvalid_0's l2: 0.159337\n",
      "[82]\tvalid_0's l1: 0.336814\tvalid_0's l2: 0.159073\n",
      "[83]\tvalid_0's l1: 0.336328\tvalid_0's l2: 0.158999\n",
      "[84]\tvalid_0's l1: 0.33573\tvalid_0's l2: 0.15888\n",
      "[85]\tvalid_0's l1: 0.335229\tvalid_0's l2: 0.158697\n",
      "[86]\tvalid_0's l1: 0.334896\tvalid_0's l2: 0.158662\n",
      "[87]\tvalid_0's l1: 0.334308\tvalid_0's l2: 0.158534\n",
      "[88]\tvalid_0's l1: 0.333673\tvalid_0's l2: 0.158353\n",
      "[89]\tvalid_0's l1: 0.333106\tvalid_0's l2: 0.158211\n",
      "[90]\tvalid_0's l1: 0.332449\tvalid_0's l2: 0.15802\n",
      "[91]\tvalid_0's l1: 0.331839\tvalid_0's l2: 0.157881\n",
      "[92]\tvalid_0's l1: 0.331403\tvalid_0's l2: 0.157806\n",
      "[93]\tvalid_0's l1: 0.330791\tvalid_0's l2: 0.15767\n",
      "[94]\tvalid_0's l1: 0.330486\tvalid_0's l2: 0.157609\n",
      "[95]\tvalid_0's l1: 0.330267\tvalid_0's l2: 0.157621\n",
      "[96]\tvalid_0's l1: 0.33\tvalid_0's l2: 0.157667\n",
      "[97]\tvalid_0's l1: 0.32967\tvalid_0's l2: 0.157648\n",
      "[98]\tvalid_0's l1: 0.3291\tvalid_0's l2: 0.157509\n",
      "[99]\tvalid_0's l1: 0.328808\tvalid_0's l2: 0.157523\n",
      "[100]\tvalid_0's l1: 0.328498\tvalid_0's l2: 0.157526\n",
      "[101]\tvalid_0's l1: 0.328185\tvalid_0's l2: 0.15746\n",
      "[102]\tvalid_0's l1: 0.32796\tvalid_0's l2: 0.157501\n",
      "[103]\tvalid_0's l1: 0.327628\tvalid_0's l2: 0.15746\n",
      "[104]\tvalid_0's l1: 0.327353\tvalid_0's l2: 0.157443\n",
      "[105]\tvalid_0's l1: 0.327092\tvalid_0's l2: 0.157432\n",
      "[106]\tvalid_0's l1: 0.32691\tvalid_0's l2: 0.15746\n",
      "[107]\tvalid_0's l1: 0.326746\tvalid_0's l2: 0.157434\n",
      "[108]\tvalid_0's l1: 0.326536\tvalid_0's l2: 0.15741\n",
      "[109]\tvalid_0's l1: 0.326222\tvalid_0's l2: 0.157368\n",
      "[110]\tvalid_0's l1: 0.326006\tvalid_0's l2: 0.157331\n",
      "[111]\tvalid_0's l1: 0.32574\tvalid_0's l2: 0.157346\n",
      "[112]\tvalid_0's l1: 0.32557\tvalid_0's l2: 0.157384\n",
      "[113]\tvalid_0's l1: 0.325335\tvalid_0's l2: 0.157409\n",
      "[114]\tvalid_0's l1: 0.325009\tvalid_0's l2: 0.157317\n",
      "[115]\tvalid_0's l1: 0.324669\tvalid_0's l2: 0.157249\n",
      "[116]\tvalid_0's l1: 0.324511\tvalid_0's l2: 0.157221\n",
      "[117]\tvalid_0's l1: 0.324232\tvalid_0's l2: 0.157202\n",
      "[118]\tvalid_0's l1: 0.324042\tvalid_0's l2: 0.15722\n",
      "[119]\tvalid_0's l1: 0.323807\tvalid_0's l2: 0.157184\n",
      "[120]\tvalid_0's l1: 0.323584\tvalid_0's l2: 0.157198\n",
      "[121]\tvalid_0's l1: 0.323427\tvalid_0's l2: 0.15714\n",
      "[122]\tvalid_0's l1: 0.323272\tvalid_0's l2: 0.157156\n",
      "[123]\tvalid_0's l1: 0.323006\tvalid_0's l2: 0.157117\n",
      "[124]\tvalid_0's l1: 0.322735\tvalid_0's l2: 0.157036\n",
      "[125]\tvalid_0's l1: 0.322567\tvalid_0's l2: 0.157011\n",
      "[126]\tvalid_0's l1: 0.322342\tvalid_0's l2: 0.156958\n",
      "[127]\tvalid_0's l1: 0.322083\tvalid_0's l2: 0.156974\n",
      "[128]\tvalid_0's l1: 0.321834\tvalid_0's l2: 0.156873\n",
      "[129]\tvalid_0's l1: 0.321642\tvalid_0's l2: 0.156815\n",
      "[130]\tvalid_0's l1: 0.321477\tvalid_0's l2: 0.156844\n",
      "[131]\tvalid_0's l1: 0.321389\tvalid_0's l2: 0.156849\n",
      "[132]\tvalid_0's l1: 0.321202\tvalid_0's l2: 0.156832\n",
      "[133]\tvalid_0's l1: 0.32102\tvalid_0's l2: 0.156806\n",
      "[134]\tvalid_0's l1: 0.320832\tvalid_0's l2: 0.156821\n",
      "[135]\tvalid_0's l1: 0.320759\tvalid_0's l2: 0.156799\n",
      "[136]\tvalid_0's l1: 0.320482\tvalid_0's l2: 0.156777\n",
      "[137]\tvalid_0's l1: 0.320311\tvalid_0's l2: 0.156757\n",
      "[138]\tvalid_0's l1: 0.320238\tvalid_0's l2: 0.156711\n",
      "[139]\tvalid_0's l1: 0.320209\tvalid_0's l2: 0.156756\n",
      "[140]\tvalid_0's l1: 0.32009\tvalid_0's l2: 0.156768\n",
      "[141]\tvalid_0's l1: 0.319891\tvalid_0's l2: 0.156734\n",
      "[142]\tvalid_0's l1: 0.319759\tvalid_0's l2: 0.156714\n",
      "[143]\tvalid_0's l1: 0.319712\tvalid_0's l2: 0.156749\n",
      "Early stopping, best iteration is:\n",
      "[138]\tvalid_0's l1: 0.320238\tvalid_0's l2: 0.156711\n"
     ]
    },
    {
     "data": {
      "text/plain": [
       "LGBMRegressor(boosting_type='gbdt', class_weight=None, colsample_bytree=1.0,\n",
       "              importance_type='split', learning_rate=0.03, max_depth=-1,\n",
       "              min_child_samples=20, min_child_weight=0.001, min_split_gain=0.0,\n",
       "              n_estimators=200, n_jobs=-1, num_leaves=100, objective=None,\n",
       "              random_state=None, reg_alpha=0.0, reg_lambda=0.0, silent=True,\n",
       "              subsample=1.0, subsample_for_bin=200000, subsample_freq=0)"
      ]
     },
     "execution_count": 231,
     "metadata": {},
     "output_type": "execute_result"
    }
   ],
   "source": [
    "gbm.fit(X_train, y_train,\n",
    "        eval_set=[(X_test, y_test)],\n",
    "        eval_metric='l1',\n",
    "        early_stopping_rounds=5)"
   ]
  },
  {
   "cell_type": "code",
   "execution_count": 232,
   "metadata": {},
   "outputs": [],
   "source": [
    "y_pred = gbm.predict(X_test, num_iteration=gbm.best_iteration_)"
   ]
  },
  {
   "cell_type": "code",
   "execution_count": 233,
   "metadata": {},
   "outputs": [
    {
     "name": "stdout",
     "output_type": "stream",
     "text": [
      "The rmse of prediction is: 0.39586798193262435\n"
     ]
    }
   ],
   "source": [
    "print('The rmse of prediction is:', mean_squared_error(y_test, y_pred) ** 0.5)"
   ]
  },
  {
   "cell_type": "code",
   "execution_count": 234,
   "metadata": {},
   "outputs": [
    {
     "name": "stdout",
     "output_type": "stream",
     "text": [
      "Feature importances: [2094, 1001, 2787, 270, 1128, 29, 429, 502, 288, 233, 171, 70, 348, 12, 23, 0, 0, 17, 0, 0, 0, 28, 72, 31, 58, 0, 18, 55, 55, 70, 15, 34, 3, 37, 0, 6, 31, 108, 0, 21, 60, 0, 0, 0, 0, 1, 0, 55, 34, 66, 27, 141, 9, 15, 17, 33, 116, 38, 0, 30, 121, 22, 12, 5, 64, 56, 166, 0, 0, 35, 27, 0, 0, 0, 136, 0, 0, 0, 35, 0, 0, 46, 32, 56, 0, 3, 193, 188, 0, 42, 165, 138, 81, 83, 54, 42, 71, 28, 11, 18, 23, 18, 48, 23, 39, 52, 25, 17, 16, 15, 23, 13, 8, 25, 25, 14, 10, 0, 95, 0, 63, 0, 49, 0, 135, 99, 119, 46, 46]\n"
     ]
    }
   ],
   "source": [
    "print('Feature importances:', list(gbm.feature_importances_))"
   ]
  },
  {
   "cell_type": "code",
   "execution_count": 235,
   "metadata": {},
   "outputs": [
    {
     "name": "stdout",
     "output_type": "stream",
     "text": [
      "0.7749653259361997\n"
     ]
    }
   ],
   "source": [
    "from sklearn.metrics import accuracy_score\n",
    "print (accuracy_score(y_pred.round(),y_test))"
   ]
  },
  {
   "cell_type": "code",
   "execution_count": 236,
   "metadata": {},
   "outputs": [
    {
     "name": "stdout",
     "output_type": "stream",
     "text": [
      "[[1378  247]\n",
      " [ 402  857]]\n"
     ]
    }
   ],
   "source": [
    "from sklearn.metrics import classification_report, confusion_matrix\n",
    "print(confusion_matrix(y_test, y_pred.round()))"
   ]
  },
  {
   "cell_type": "code",
   "execution_count": 263,
   "metadata": {},
   "outputs": [
    {
     "name": "stdout",
     "output_type": "stream",
     "text": [
      "<class 'pandas.core.series.Series'>\n"
     ]
    },
    {
     "data": {
      "text/html": [
       "<div>\n",
       "<style scoped>\n",
       "    .dataframe tbody tr th:only-of-type {\n",
       "        vertical-align: middle;\n",
       "    }\n",
       "\n",
       "    .dataframe tbody tr th {\n",
       "        vertical-align: top;\n",
       "    }\n",
       "\n",
       "    .dataframe thead th {\n",
       "        text-align: right;\n",
       "    }\n",
       "</style>\n",
       "<table border=\"1\" class=\"dataframe\">\n",
       "  <thead>\n",
       "    <tr style=\"text-align: right;\">\n",
       "      <th></th>\n",
       "      <th>columns</th>\n",
       "      <th>importances</th>\n",
       "    </tr>\n",
       "  </thead>\n",
       "  <tbody>\n",
       "    <tr>\n",
       "      <th>2</th>\n",
       "      <td>2</td>\n",
       "      <td>2787</td>\n",
       "    </tr>\n",
       "    <tr>\n",
       "      <th>0</th>\n",
       "      <td>0</td>\n",
       "      <td>2094</td>\n",
       "    </tr>\n",
       "    <tr>\n",
       "      <th>4</th>\n",
       "      <td>4</td>\n",
       "      <td>1128</td>\n",
       "    </tr>\n",
       "    <tr>\n",
       "      <th>1</th>\n",
       "      <td>1</td>\n",
       "      <td>1001</td>\n",
       "    </tr>\n",
       "    <tr>\n",
       "      <th>7</th>\n",
       "      <td>7</td>\n",
       "      <td>502</td>\n",
       "    </tr>\n",
       "    <tr>\n",
       "      <th>6</th>\n",
       "      <td>6</td>\n",
       "      <td>429</td>\n",
       "    </tr>\n",
       "    <tr>\n",
       "      <th>12</th>\n",
       "      <td>12</td>\n",
       "      <td>348</td>\n",
       "    </tr>\n",
       "    <tr>\n",
       "      <th>8</th>\n",
       "      <td>8</td>\n",
       "      <td>288</td>\n",
       "    </tr>\n",
       "    <tr>\n",
       "      <th>3</th>\n",
       "      <td>3</td>\n",
       "      <td>270</td>\n",
       "    </tr>\n",
       "    <tr>\n",
       "      <th>9</th>\n",
       "      <td>9</td>\n",
       "      <td>233</td>\n",
       "    </tr>\n",
       "    <tr>\n",
       "      <th>86</th>\n",
       "      <td>86</td>\n",
       "      <td>193</td>\n",
       "    </tr>\n",
       "    <tr>\n",
       "      <th>87</th>\n",
       "      <td>87</td>\n",
       "      <td>188</td>\n",
       "    </tr>\n",
       "    <tr>\n",
       "      <th>10</th>\n",
       "      <td>10</td>\n",
       "      <td>171</td>\n",
       "    </tr>\n",
       "    <tr>\n",
       "      <th>66</th>\n",
       "      <td>66</td>\n",
       "      <td>166</td>\n",
       "    </tr>\n",
       "    <tr>\n",
       "      <th>90</th>\n",
       "      <td>90</td>\n",
       "      <td>165</td>\n",
       "    </tr>\n",
       "    <tr>\n",
       "      <th>51</th>\n",
       "      <td>51</td>\n",
       "      <td>141</td>\n",
       "    </tr>\n",
       "    <tr>\n",
       "      <th>91</th>\n",
       "      <td>91</td>\n",
       "      <td>138</td>\n",
       "    </tr>\n",
       "    <tr>\n",
       "      <th>74</th>\n",
       "      <td>74</td>\n",
       "      <td>136</td>\n",
       "    </tr>\n",
       "    <tr>\n",
       "      <th>124</th>\n",
       "      <td>124</td>\n",
       "      <td>135</td>\n",
       "    </tr>\n",
       "    <tr>\n",
       "      <th>60</th>\n",
       "      <td>60</td>\n",
       "      <td>121</td>\n",
       "    </tr>\n",
       "  </tbody>\n",
       "</table>\n",
       "</div>"
      ],
      "text/plain": [
       "     columns  importances\n",
       "2          2         2787\n",
       "0          0         2094\n",
       "4          4         1128\n",
       "1          1         1001\n",
       "7          7          502\n",
       "6          6          429\n",
       "12        12          348\n",
       "8          8          288\n",
       "3          3          270\n",
       "9          9          233\n",
       "86        86          193\n",
       "87        87          188\n",
       "10        10          171\n",
       "66        66          166\n",
       "90        90          165\n",
       "51        51          141\n",
       "91        91          138\n",
       "74        74          136\n",
       "124      124          135\n",
       "60        60          121"
      ]
     },
     "execution_count": 263,
     "metadata": {},
     "output_type": "execute_result"
    }
   ],
   "source": [
    "results=pd.DataFrame()\n",
    "# print(pd.DataFrame(X_train))\n",
    "results['columns']=(pd.DataFrame(X_train)).columns\n",
    "print(type(results['columns']))\n",
    "results['importances'] = gbm.feature_importances_\n",
    "results.sort_values(by='importances',ascending=False,inplace=True)\n",
    "results[:20]"
   ]
  },
  {
   "cell_type": "markdown",
   "metadata": {},
   "source": [
    "LGBM GridSearchCV"
   ]
  },
  {
   "cell_type": "code",
   "execution_count": 200,
   "metadata": {},
   "outputs": [],
   "source": [
    "from sklearn.model_selection import GridSearchCV\n",
    "from sklearn.metrics import accuracy_score\n",
    "from sklearn.metrics import classification_report, confusion_matrix"
   ]
  },
  {
   "cell_type": "code",
   "execution_count": 201,
   "metadata": {},
   "outputs": [
    {
     "name": "stdout",
     "output_type": "stream",
     "text": [
      "Fitting 3 folds for each of 1 candidates, totalling 3 fits\n",
      "[CV] boosting_type=gbdt, learning_rate=0.03, n_estimators=200, num_leaves=100, objective=binary \n"
     ]
    },
    {
     "name": "stderr",
     "output_type": "stream",
     "text": [
      "[Parallel(n_jobs=1)]: Using backend SequentialBackend with 1 concurrent workers.\n"
     ]
    },
    {
     "name": "stdout",
     "output_type": "stream",
     "text": [
      "[CV]  boosting_type=gbdt, learning_rate=0.03, n_estimators=200, num_leaves=100, objective=binary, score=0.314, total=   0.8s\n",
      "[CV] boosting_type=gbdt, learning_rate=0.03, n_estimators=200, num_leaves=100, objective=binary \n"
     ]
    },
    {
     "name": "stderr",
     "output_type": "stream",
     "text": [
      "[Parallel(n_jobs=1)]: Done   1 out of   1 | elapsed:    0.8s remaining:    0.0s\n"
     ]
    },
    {
     "name": "stdout",
     "output_type": "stream",
     "text": [
      "[CV]  boosting_type=gbdt, learning_rate=0.03, n_estimators=200, num_leaves=100, objective=binary, score=0.295, total=   1.0s\n",
      "[CV] boosting_type=gbdt, learning_rate=0.03, n_estimators=200, num_leaves=100, objective=binary \n"
     ]
    },
    {
     "name": "stderr",
     "output_type": "stream",
     "text": [
      "[Parallel(n_jobs=1)]: Done   2 out of   2 | elapsed:    1.7s remaining:    0.0s\n"
     ]
    },
    {
     "name": "stdout",
     "output_type": "stream",
     "text": [
      "[CV]  boosting_type=gbdt, learning_rate=0.03, n_estimators=200, num_leaves=100, objective=binary, score=0.330, total=   0.8s\n"
     ]
    },
    {
     "name": "stderr",
     "output_type": "stream",
     "text": [
      "[Parallel(n_jobs=1)]: Done   3 out of   3 | elapsed:    2.6s finished\n"
     ]
    },
    {
     "name": "stdout",
     "output_type": "stream",
     "text": [
      "{'boosting_type': 'gbdt', 'learning_rate': 0.03, 'n_estimators': 200, 'num_leaves': 100, 'objective': 'binary'}\n",
      "0.7721914008321775\n"
     ]
    }
   ],
   "source": [
    "gbm_model = lgb.LGBMRegressor()\n",
    "gbm_grid = [{\n",
    "'boosting_type': ['gbdt'],\n",
    "'n_estimators':[200],\n",
    "'learning_rate':[0.03],\n",
    "'num_leaves':[100],\n",
    "'objective': ['binary']\n",
    "}]\n",
    "\n",
    "gridsearchGBM  = GridSearchCV(gbm_model, gbm_grid, cv=3,verbose=3)\n",
    "\n",
    "#run the grid search\n",
    "gridsearchGBM.fit(X_train, y_train)\n",
    "\n",
    "y_pred = gridsearchGBM.predict(X_test)\n",
    "print(gridsearchGBM.best_params_)\n",
    "\n",
    "print (accuracy_score(y_pred.round(),y_test))"
   ]
  },
  {
   "cell_type": "code",
   "execution_count": null,
   "metadata": {},
   "outputs": [],
   "source": []
  },
  {
   "cell_type": "code",
   "execution_count": null,
   "metadata": {},
   "outputs": [],
   "source": []
  },
  {
   "cell_type": "code",
   "execution_count": null,
   "metadata": {},
   "outputs": [],
   "source": []
  },
  {
   "cell_type": "code",
   "execution_count": null,
   "metadata": {},
   "outputs": [],
   "source": []
  },
  {
   "cell_type": "code",
   "execution_count": null,
   "metadata": {},
   "outputs": [],
   "source": []
  },
  {
   "cell_type": "code",
   "execution_count": 148,
   "metadata": {},
   "outputs": [
    {
     "name": "stdout",
     "output_type": "stream",
     "text": [
      "\n",
      "LGBMClassifier(boosting_type='gbdt', class_weight=None, colsample_bytree=1.0,\n",
      "               importance_type='split', learning_rate=0.1, max_depth=-1,\n",
      "               min_child_samples=20, min_child_weight=0.001, min_split_gain=0.0,\n",
      "               n_estimators=100, n_jobs=-1, num_leaves=31, objective=None,\n",
      "               random_state=None, reg_alpha=0.0, reg_lambda=0.0, silent=True,\n",
      "               subsample=1.0, subsample_for_bin=200000, subsample_freq=0)\n",
      "\n",
      "              precision    recall  f1-score   support\n",
      "\n",
      "           0       0.76      0.85      0.80      1625\n",
      "           1       0.77      0.66      0.71      1259\n",
      "\n",
      "    accuracy                           0.77      2884\n",
      "   macro avg       0.77      0.75      0.76      2884\n",
      "weighted avg       0.77      0.77      0.76      2884\n",
      "\n",
      "\n",
      "[[1376  249]\n",
      " [ 428  831]]\n"
     ]
    }
   ],
   "source": [
    "from sklearn import metrics\n",
    "model = lgb.LGBMClassifier()\n",
    "model.fit(X_train, y_train)\n",
    "print(); print(model)\n",
    "    \n",
    "# make predictions\n",
    "expected_y  = y_test\n",
    "predicted_y = model.predict(X_test)\n",
    "    \n",
    "# summarize the fit of the model\n",
    "print(); print(metrics.classification_report(expected_y, predicted_y))\n",
    "print(); print(metrics.confusion_matrix(expected_y, predicted_y))"
   ]
  },
  {
   "cell_type": "code",
   "execution_count": null,
   "metadata": {},
   "outputs": [],
   "source": []
  },
  {
   "cell_type": "code",
   "execution_count": null,
   "metadata": {},
   "outputs": [],
   "source": []
  },
  {
   "cell_type": "code",
   "execution_count": null,
   "metadata": {},
   "outputs": [],
   "source": []
  },
  {
   "cell_type": "code",
   "execution_count": null,
   "metadata": {},
   "outputs": [],
   "source": []
  },
  {
   "cell_type": "code",
   "execution_count": null,
   "metadata": {},
   "outputs": [],
   "source": []
  },
  {
   "cell_type": "markdown",
   "metadata": {},
   "source": [
    "XG Boost Code From Bhuvana"
   ]
  },
  {
   "cell_type": "code",
   "execution_count": 257,
   "metadata": {},
   "outputs": [
    {
     "data": {
      "text/plain": [
       "XGBClassifier(base_score=0.5, booster='gbtree', colsample_bylevel=1,\n",
       "              colsample_bynode=1, colsample_bytree=1, gamma=0,\n",
       "              learning_rate=0.1, max_delta_step=0, max_depth=3,\n",
       "              min_child_weight=1, missing=None, n_estimators=100, n_jobs=1,\n",
       "              nthread=None, objective='binary:logistic', random_state=42,\n",
       "              reg_alpha=0, reg_lambda=1, scale_pos_weight=1, seed=None,\n",
       "              silent=None, subsample=1, verbosity=1)"
      ]
     },
     "execution_count": 257,
     "metadata": {},
     "output_type": "execute_result"
    }
   ],
   "source": [
    "xgb_model = xgb.XGBClassifier(objective=\"binary:logistic\", random_state=42)\n",
    "xgb_model.fit(x_train, y_train) "
   ]
  },
  {
   "cell_type": "code",
   "execution_count": 258,
   "metadata": {},
   "outputs": [],
   "source": [
    "y_pred = xgb_model.predict(x_test)"
   ]
  },
  {
   "cell_type": "code",
   "execution_count": 259,
   "metadata": {},
   "outputs": [
    {
     "name": "stdout",
     "output_type": "stream",
     "text": [
      "0.7493065187239945\n"
     ]
    }
   ],
   "source": [
    "print (accuracy_score(y_pred,y_test))"
   ]
  },
  {
   "cell_type": "code",
   "execution_count": 208,
   "metadata": {},
   "outputs": [
    {
     "data": {
      "text/plain": [
       "<Figure size 2160x2160 with 0 Axes>"
      ]
     },
     "metadata": {},
     "output_type": "display_data"
    },
    {
     "data": {
      "image/png": "[encoded data removed]",
      "text/plain": [
       "<Figure size 432x288 with 1 Axes>"
      ]
     },
     "metadata": {
      "needs_background": "light"
     },
     "output_type": "display_data"
    }
   ],
   "source": [
    "# plot feature importance using built-in function\n",
    "from numpy import loadtxt\n",
    "from xgboost import XGBClassifier\n",
    "from xgboost import plot_importance\n",
    "from matplotlib import pyplot as plt\n",
    "\n",
    "from matplotlib.pyplot import figure\n",
    "fig= plt.figure(figsize=(30,30))\n",
    "\n",
    "# plot feature importance\n",
    "plot_importance(xgb_model)\n",
    "pyplot.show()"
   ]
  },
  {
   "cell_type": "code",
   "execution_count": 214,
   "metadata": {},
   "outputs": [
    {
     "data": {
      "text/plain": [
       "<Figure size 1800x1800 with 0 Axes>"
      ]
     },
     "metadata": {},
     "output_type": "display_data"
    },
    {
     "data": {
      "image/png": "[encoded data removed]",
      "text/plain": [
       "<Figure size 432x288 with 1 Axes>"
      ]
     },
     "metadata": {
      "needs_background": "light"
     },
     "output_type": "display_data"
    }
   ],
   "source": [
    "fig = plt.gcf()\n",
    "fig.set_size_inches(25, 25,forward=True)\n",
    "plot_importance(xgb_model)\n",
    "pyplot.show()\n"
   ]
  },
  {
   "cell_type": "code",
   "execution_count": 82,
   "metadata": {
    "scrolled": true
   },
   "outputs": [
    {
     "name": "stdout",
     "output_type": "stream",
     "text": [
      "(array([0.69415385, 0.56870532]), array([0.67504488, 0.59027205]), array([0.68446602, 0.57928803]), array([1671, 1213], dtype=int64))\n"
     ]
    }
   ],
   "source": [
    "print(precision_recall_fscore_support(y_pred,y_test))"
   ]
  },
  {
   "cell_type": "code",
   "execution_count": 83,
   "metadata": {},
   "outputs": [
    {
     "name": "stdout",
     "output_type": "stream",
     "text": [
      "(array([0.67504488, 0.59027205]), array([0.69415385, 0.56870532]), array([0.68446602, 0.57928803]), array([1625, 1259], dtype=int64))\n"
     ]
    }
   ],
   "source": [
    "print(precision_recall_fscore_support(y_test,y_pred))"
   ]
  },
  {
   "cell_type": "markdown",
   "metadata": {},
   "source": [
    "###EDA\n"
   ]
  },
  {
   "cell_type": "code",
   "execution_count": 143,
   "metadata": {},
   "outputs": [
    {
     "name": "stderr",
     "output_type": "stream",
     "text": [
      "C:\\Users\\Bhuvana Vellanki\\Anaconda3\\lib\\site-packages\\sklearn\\linear_model\\logistic.py:432: FutureWarning: Default solver will be changed to 'lbfgs' in 0.22. Specify a solver to silence this warning.\n",
      "  FutureWarning)\n"
     ]
    },
    {
     "name": "stdout",
     "output_type": "stream",
     "text": [
      "0.6161581137309292\n"
     ]
    }
   ],
   "source": [
    "##logistic regression\n",
    "\n",
    "from sklearn.linear_model import LogisticRegression\n",
    "x_train=x_train.drop(['ANNUAL_RATE'],axis=1)\n",
    "x_test=x_test.drop(['ANNUAL_RATE'],axis=1)\n",
    "\n",
    "clf = LogisticRegression(random_state=0).fit(x_train, y_train)\n",
    "y_pred=clf.predict(x_test)\n",
    "\n",
    "#y_pred=clf.predict_proba(x_test)\n",
    "\n",
    "\n",
    "print (accuracy_score(y_pred,y_test))"
   ]
  },
  {
   "cell_type": "code",
   "execution_count": 184,
   "metadata": {
    "collapsed": true
   },
   "outputs": [
    {
     "ename": "ValueError",
     "evalue": "Expected 2D array, got 1D array instead:\narray=[0 0 1 ... 0 1 0].\nReshape your data either using array.reshape(-1, 1) if your data has a single feature or array.reshape(1, -1) if it contains a single sample.",
     "output_type": "error",
     "traceback": [
      "\u001b[1;31m---------------------------------------------------------------------------\u001b[0m",
      "\u001b[1;31mValueError\u001b[0m                                Traceback (most recent call last)",
      "\u001b[1;32m<ipython-input-184-053d5caaf4cb>\u001b[0m in \u001b[0;36m<module>\u001b[1;34m\u001b[0m\n\u001b[0;32m      7\u001b[0m \u001b[0mneigh\u001b[0m\u001b[1;33m.\u001b[0m\u001b[0mfit\u001b[0m\u001b[1;33m(\u001b[0m\u001b[0mx_train\u001b[0m\u001b[1;33m,\u001b[0m \u001b[0my_train\u001b[0m\u001b[1;33m)\u001b[0m\u001b[1;33m\u001b[0m\u001b[1;33m\u001b[0m\u001b[0m\n\u001b[0;32m      8\u001b[0m \u001b[0my_pred\u001b[0m \u001b[1;33m=\u001b[0m \u001b[0mneigh\u001b[0m\u001b[1;33m.\u001b[0m\u001b[0mpredict\u001b[0m\u001b[1;33m(\u001b[0m\u001b[0mx_test\u001b[0m\u001b[1;33m)\u001b[0m\u001b[1;33m\u001b[0m\u001b[1;33m\u001b[0m\u001b[0m\n\u001b[1;32m----> 9\u001b[1;33m \u001b[0mneigh\u001b[0m\u001b[1;33m.\u001b[0m\u001b[0mscore\u001b[0m\u001b[1;33m(\u001b[0m\u001b[0my_pred\u001b[0m\u001b[1;33m,\u001b[0m\u001b[0my_test\u001b[0m\u001b[1;33m)\u001b[0m\u001b[1;33m\u001b[0m\u001b[1;33m\u001b[0m\u001b[0m\n\u001b[0m",
      "\u001b[1;32m~\\Anaconda3\\lib\\site-packages\\sklearn\\base.py\u001b[0m in \u001b[0;36mscore\u001b[1;34m(self, X, y, sample_weight)\u001b[0m\n\u001b[0;32m    355\u001b[0m         \"\"\"\n\u001b[0;32m    356\u001b[0m         \u001b[1;32mfrom\u001b[0m \u001b[1;33m.\u001b[0m\u001b[0mmetrics\u001b[0m \u001b[1;32mimport\u001b[0m \u001b[0maccuracy_score\u001b[0m\u001b[1;33m\u001b[0m\u001b[1;33m\u001b[0m\u001b[0m\n\u001b[1;32m--> 357\u001b[1;33m         \u001b[1;32mreturn\u001b[0m \u001b[0maccuracy_score\u001b[0m\u001b[1;33m(\u001b[0m\u001b[0my\u001b[0m\u001b[1;33m,\u001b[0m \u001b[0mself\u001b[0m\u001b[1;33m.\u001b[0m\u001b[0mpredict\u001b[0m\u001b[1;33m(\u001b[0m\u001b[0mX\u001b[0m\u001b[1;33m)\u001b[0m\u001b[1;33m,\u001b[0m \u001b[0msample_weight\u001b[0m\u001b[1;33m=\u001b[0m\u001b[0msample_weight\u001b[0m\u001b[1;33m)\u001b[0m\u001b[1;33m\u001b[0m\u001b[1;33m\u001b[0m\u001b[0m\n\u001b[0m\u001b[0;32m    358\u001b[0m \u001b[1;33m\u001b[0m\u001b[0m\n\u001b[0;32m    359\u001b[0m \u001b[1;33m\u001b[0m\u001b[0m\n",
      "\u001b[1;32m~\\Anaconda3\\lib\\site-packages\\sklearn\\neighbors\\classification.py\u001b[0m in \u001b[0;36mpredict\u001b[1;34m(self, X)\u001b[0m\n\u001b[0;32m    145\u001b[0m             \u001b[0mClass\u001b[0m \u001b[0mlabels\u001b[0m \u001b[1;32mfor\u001b[0m \u001b[0meach\u001b[0m \u001b[0mdata\u001b[0m \u001b[0msample\u001b[0m\u001b[1;33m.\u001b[0m\u001b[1;33m\u001b[0m\u001b[1;33m\u001b[0m\u001b[0m\n\u001b[0;32m    146\u001b[0m         \"\"\"\n\u001b[1;32m--> 147\u001b[1;33m         \u001b[0mX\u001b[0m \u001b[1;33m=\u001b[0m \u001b[0mcheck_array\u001b[0m\u001b[1;33m(\u001b[0m\u001b[0mX\u001b[0m\u001b[1;33m,\u001b[0m \u001b[0maccept_sparse\u001b[0m\u001b[1;33m=\u001b[0m\u001b[1;34m'csr'\u001b[0m\u001b[1;33m)\u001b[0m\u001b[1;33m\u001b[0m\u001b[1;33m\u001b[0m\u001b[0m\n\u001b[0m\u001b[0;32m    148\u001b[0m \u001b[1;33m\u001b[0m\u001b[0m\n\u001b[0;32m    149\u001b[0m         \u001b[0mneigh_dist\u001b[0m\u001b[1;33m,\u001b[0m \u001b[0mneigh_ind\u001b[0m \u001b[1;33m=\u001b[0m \u001b[0mself\u001b[0m\u001b[1;33m.\u001b[0m\u001b[0mkneighbors\u001b[0m\u001b[1;33m(\u001b[0m\u001b[0mX\u001b[0m\u001b[1;33m)\u001b[0m\u001b[1;33m\u001b[0m\u001b[1;33m\u001b[0m\u001b[0m\n",
      "\u001b[1;32m~\\Anaconda3\\lib\\site-packages\\sklearn\\utils\\validation.py\u001b[0m in \u001b[0;36mcheck_array\u001b[1;34m(array, accept_sparse, accept_large_sparse, dtype, order, copy, force_all_finite, ensure_2d, allow_nd, ensure_min_samples, ensure_min_features, warn_on_dtype, estimator)\u001b[0m\n\u001b[0;32m    519\u001b[0m                     \u001b[1;34m\"Reshape your data either using array.reshape(-1, 1) if \"\u001b[0m\u001b[1;33m\u001b[0m\u001b[1;33m\u001b[0m\u001b[0m\n\u001b[0;32m    520\u001b[0m                     \u001b[1;34m\"your data has a single feature or array.reshape(1, -1) \"\u001b[0m\u001b[1;33m\u001b[0m\u001b[1;33m\u001b[0m\u001b[0m\n\u001b[1;32m--> 521\u001b[1;33m                     \"if it contains a single sample.\".format(array))\n\u001b[0m\u001b[0;32m    522\u001b[0m \u001b[1;33m\u001b[0m\u001b[0m\n\u001b[0;32m    523\u001b[0m         \u001b[1;31m# in the future np.flexible dtypes will be handled like object dtypes\u001b[0m\u001b[1;33m\u001b[0m\u001b[1;33m\u001b[0m\u001b[1;33m\u001b[0m\u001b[0m\n",
      "\u001b[1;31mValueError\u001b[0m: Expected 2D array, got 1D array instead:\narray=[0 0 1 ... 0 1 0].\nReshape your data either using array.reshape(-1, 1) if your data has a single feature or array.reshape(1, -1) if it contains a single sample."
     ]
    }
   ],
   "source": [
    "from sklearn.model_selection import train_test_split \n",
    "from sklearn.neighbors import KNeighborsClassifier\n",
    "from sklearn import metrics\n",
    "#x_train=x_train.drop(['ANNUAL_RATE'],axis=1)\n",
    "#x_test=x_test.drop(['ANNUAL_RATE'],axis=1)\n",
    "neigh = KNeighborsClassifier(n_neighbors=5)\n",
    "neigh.fit(x_train, y_train)\n",
    "y_pred = neigh.predict(x_test)\n",
    "neigh.score(y_pred,y_test)"
   ]
  },
  {
   "cell_type": "code",
   "execution_count": 185,
   "metadata": {},
   "outputs": [
    {
     "data": {
      "text/plain": [
       "array([0, 0, 1, ..., 0, 0, 1], dtype=int64)"
      ]
     },
     "execution_count": 185,
     "metadata": {},
     "output_type": "execute_result"
    }
   ],
   "source": [
    "y_test.to_numpy()"
   ]
  },
  {
   "cell_type": "code",
   "execution_count": 186,
   "metadata": {},
   "outputs": [
    {
     "name": "stdout",
     "output_type": "stream",
     "text": [
      "0.5721220527045769\n"
     ]
    }
   ],
   "source": [
    "print (accuracy_score(y_pred,y_test))"
   ]
  },
  {
   "cell_type": "code",
   "execution_count": 130,
   "metadata": {},
   "outputs": [
    {
     "name": "stdout",
     "output_type": "stream",
     "text": [
      "[[1079  546]\n",
      " [ 678  581]]\n"
     ]
    }
   ],
   "source": [
    "\n",
    "from sklearn.metrics import classification_report, confusion_matrix\n",
    "print(confusion_matrix(y_test, pred))"
   ]
  },
  {
   "cell_type": "markdown",
   "metadata": {},
   "source": [
    "###Random forest\n"
   ]
  },
  {
   "cell_type": "code",
   "execution_count": 244,
   "metadata": {},
   "outputs": [],
   "source": [
    "from sklearn.metrics import mean_absolute_error\n",
    "from sklearn.model_selection import train_test_split\n",
    "from sklearn.ensemble import RandomForestRegressor \n",
    "\n",
    "\n",
    "rf_model = RandomForestRegressor(random_state=5,max_depth=15,n_estimators=150 )\n",
    "rf_model.fit(x_train, y_train)\n",
    "y_pred = rf_model.predict(x_test)\n",
    "\n"
   ]
  },
  {
   "cell_type": "code",
   "execution_count": 235,
   "metadata": {},
   "outputs": [
    {
     "name": "stdout",
     "output_type": "stream",
     "text": [
      "0.6331484049930652\n"
     ]
    }
   ],
   "source": [
    "print (accuracy_score(y_pred.round(),y_test))"
   ]
  },
  {
   "cell_type": "code",
   "execution_count": null,
   "metadata": {},
   "outputs": [],
   "source": []
  }
 ],
 "metadata": {
  "kernelspec": {
   "display_name": "Python 3",
   "language": "python",
   "name": "python3"
  },
  "language_info": {
   "codemirror_mode": {
    "name": "ipython",
    "version": 3
   },
   "file_extension": ".py",
   "mimetype": "text/x-python",
   "name": "python",
   "nbconvert_exporter": "python",
   "pygments_lexer": "ipython3",
   "version": "3.7.3"
  }
 },
 "nbformat": 4,
 "nbformat_minor": 2
}
