{
 "cells": [
  {
   "cell_type": "code",
   "execution_count": 1,
   "metadata": {},
   "outputs": [],
   "source": [
    "import numpy as np\n",
    "import pandas as pd\n",
    "from sklearn.preprocessing import StandardScaler\n",
    "from sklearn.preprocessing import LabelEncoder\n",
    "from sklearn.decomposition import PCA\n",
    "from matplotlib import pyplot as plt\n",
    "import plotly"
   ]
  },
  {
   "cell_type": "code",
   "execution_count": 2,
   "metadata": {},
   "outputs": [],
   "source": [
    " np.set_printoptions(formatter={'float': lambda x: \"{0:0.3f}\".format(x)})"
   ]
  },
  {
   "cell_type": "code",
   "execution_count": 3,
   "metadata": {},
   "outputs": [],
   "source": [
    "df=pd.read_csv(r\"../data/attrition_data.csv\")\n",
    "df.drop(['TERMINATION_YEAR'], axis = 1, inplace=True)\n",
    "df.drop(['EMP_ID'], axis = 1, inplace=True)\n",
    "df.drop(['ANNUAL_RATE'], axis = 1, inplace=True)\n",
    "df.drop(['REFERRAL_SOURCE'], axis = 1, inplace=True)\n",
    "df=df.replace({'STATUS': {'T': 1, 'A': 0}})"
   ]
  },
  {
   "cell_type": "code",
   "execution_count": 4,
   "metadata": {},
   "outputs": [],
   "source": [
    "x=df.drop(['STATUS'], axis=1)\n",
    "y=df['STATUS']"
   ]
  },
  {
   "cell_type": "code",
   "execution_count": 5,
   "metadata": {},
   "outputs": [],
   "source": [
    "x = pd.get_dummies(x, columns=['ETHNICITY', 'SEX', 'MARITAL_STATUS', 'NUMBER_OF_TEAM_CHANGED', 'HIRE_MONTH', 'IS_FIRST_JOB', 'TRAVELLED_REQUIRED', 'DISABLED_EMP', 'DISABLED_VET', 'JOB_GROUP'])"
   ]
  },
  {
   "cell_type": "code",
   "execution_count": 6,
   "metadata": {},
   "outputs": [],
   "source": [
    "to_be_label_encoded = ['EDUCATION_LEVEL']\n",
    "label_encoder = LabelEncoder()\n",
    "for column in to_be_label_encoded:\n",
    "    x[column] = label_encoder.fit_transform(x[column])"
   ]
  },
  {
   "cell_type": "code",
   "execution_count": 7,
   "metadata": {},
   "outputs": [],
   "source": [
    "x = StandardScaler().fit_transform(x)"
   ]
  },
  {
   "cell_type": "code",
   "execution_count": 8,
   "metadata": {},
   "outputs": [],
   "source": [
    "pca = PCA()\n",
    "x_pca = pca.fit_transform(x)"
   ]
  },
  {
   "cell_type": "code",
   "execution_count": 9,
   "metadata": {},
   "outputs": [
    {
     "data": {
      "text/plain": [
       "array([0.032, 0.031, 0.018, 0.018, 0.017, 0.017, 0.015, 0.015, 0.015,\n",
       "       0.014, 0.012, 0.011, 0.011, 0.011, 0.010, 0.010, 0.010, 0.010,\n",
       "       0.010, 0.010, 0.010, 0.010, 0.010, 0.010, 0.010, 0.010, 0.010,\n",
       "       0.010, 0.010, 0.009, 0.009, 0.009, 0.009, 0.009, 0.009, 0.009,\n",
       "       0.009, 0.009, 0.009, 0.009, 0.009, 0.009, 0.009, 0.009, 0.009,\n",
       "       0.009, 0.009, 0.009, 0.009, 0.009, 0.009, 0.009, 0.009, 0.009,\n",
       "       0.009, 0.009, 0.009, 0.009, 0.009, 0.009, 0.009, 0.009, 0.009,\n",
       "       0.009, 0.009, 0.009, 0.009, 0.009, 0.009, 0.009, 0.009, 0.009,\n",
       "       0.009, 0.009, 0.009, 0.009, 0.009, 0.008, 0.008, 0.008, 0.008,\n",
       "       0.008, 0.008, 0.008, 0.008, 0.008, 0.008, 0.008, 0.008, 0.008,\n",
       "       0.008, 0.008, 0.008, 0.008, 0.008, 0.008, 0.007, 0.007, 0.006,\n",
       "       0.006, 0.004, 0.003, 0.003, 0.002, 0.002, 0.001, 0.000, 0.000,\n",
       "       0.000, 0.000, 0.000, 0.000, 0.000, 0.000, 0.000, 0.000])"
      ]
     },
     "execution_count": 9,
     "metadata": {},
     "output_type": "execute_result"
    }
   ],
   "source": [
    "explained_variance = pca.explained_variance_ratio_\n",
    "explained_variance"
   ]
  },
  {
   "cell_type": "code",
   "execution_count": 10,
   "metadata": {},
   "outputs": [
    {
     "data": {
      "image/png": "[encoded data removed]",
      "text/plain": [
       "<Figure size 432x288 with 1 Axes>"
      ]
     },
     "metadata": {
      "needs_background": "light"
     },
     "output_type": "display_data"
    }
   ],
   "source": [
    "plt.plot(np.cumsum(pca.explained_variance_ratio_))\n",
    "per_var = np.round(pca.explained_variance_ratio_ * 100, decimals=1)\n",
    "labels = ['PC' + str(x) for x in range(1, len(per_var) + 1)]\n",
    "plt.xlabel('number of components')\n",
    "plt.ylabel('cumulative explained variance')\n",
    "plt.show()"
   ]
  },
  {
   "cell_type": "code",
   "execution_count": 11,
   "metadata": {},
   "outputs": [
    {
     "data": {
      "text/html": [
       "<div>\n",
       "<style scoped>\n",
       "    .dataframe tbody tr th:only-of-type {\n",
       "        vertical-align: middle;\n",
       "    }\n",
       "\n",
       "    .dataframe tbody tr th {\n",
       "        vertical-align: top;\n",
       "    }\n",
       "\n",
       "    .dataframe thead th {\n",
       "        text-align: right;\n",
       "    }\n",
       "</style>\n",
       "<table border=\"1\" class=\"dataframe\">\n",
       "  <thead>\n",
       "    <tr style=\"text-align: right;\">\n",
       "      <th></th>\n",
       "      <th>PC1</th>\n",
       "      <th>PC2</th>\n",
       "      <th>PC3</th>\n",
       "      <th>PC4</th>\n",
       "      <th>PC5</th>\n",
       "      <th>PC6</th>\n",
       "      <th>PC7</th>\n",
       "      <th>PC8</th>\n",
       "      <th>PC9</th>\n",
       "      <th>PC10</th>\n",
       "      <th>...</th>\n",
       "      <th>PC108</th>\n",
       "      <th>PC109</th>\n",
       "      <th>PC110</th>\n",
       "      <th>PC111</th>\n",
       "      <th>PC112</th>\n",
       "      <th>PC113</th>\n",
       "      <th>PC114</th>\n",
       "      <th>PC115</th>\n",
       "      <th>PC116</th>\n",
       "      <th>STATUS</th>\n",
       "    </tr>\n",
       "  </thead>\n",
       "  <tbody>\n",
       "    <tr>\n",
       "      <th>0</th>\n",
       "      <td>1.198703</td>\n",
       "      <td>-2.601600</td>\n",
       "      <td>-0.607127</td>\n",
       "      <td>-0.613553</td>\n",
       "      <td>0.564628</td>\n",
       "      <td>-1.087429</td>\n",
       "      <td>0.712748</td>\n",
       "      <td>-1.705031</td>\n",
       "      <td>0.785697</td>\n",
       "      <td>-1.249709</td>\n",
       "      <td>...</td>\n",
       "      <td>2.246122e-15</td>\n",
       "      <td>-1.919729e-15</td>\n",
       "      <td>-1.979762e-16</td>\n",
       "      <td>-8.203857e-16</td>\n",
       "      <td>1.397138e-15</td>\n",
       "      <td>-2.109864e-15</td>\n",
       "      <td>9.951256e-16</td>\n",
       "      <td>1.289816e-15</td>\n",
       "      <td>1.836574e-16</td>\n",
       "      <td>1</td>\n",
       "    </tr>\n",
       "    <tr>\n",
       "      <th>1</th>\n",
       "      <td>4.602874</td>\n",
       "      <td>2.413942</td>\n",
       "      <td>0.693388</td>\n",
       "      <td>-1.428488</td>\n",
       "      <td>-0.337142</td>\n",
       "      <td>2.273877</td>\n",
       "      <td>0.650325</td>\n",
       "      <td>3.754330</td>\n",
       "      <td>2.943476</td>\n",
       "      <td>-1.553508</td>\n",
       "      <td>...</td>\n",
       "      <td>2.687303e-16</td>\n",
       "      <td>6.449961e-16</td>\n",
       "      <td>-1.451099e-15</td>\n",
       "      <td>-2.489289e-16</td>\n",
       "      <td>2.125353e-16</td>\n",
       "      <td>-2.450522e-16</td>\n",
       "      <td>5.459687e-16</td>\n",
       "      <td>-6.844085e-18</td>\n",
       "      <td>2.749253e-16</td>\n",
       "      <td>0</td>\n",
       "    </tr>\n",
       "    <tr>\n",
       "      <th>2</th>\n",
       "      <td>5.186700</td>\n",
       "      <td>2.091925</td>\n",
       "      <td>-1.355902</td>\n",
       "      <td>-0.896226</td>\n",
       "      <td>0.075521</td>\n",
       "      <td>-0.085992</td>\n",
       "      <td>-0.659715</td>\n",
       "      <td>4.912817</td>\n",
       "      <td>1.048094</td>\n",
       "      <td>-1.182687</td>\n",
       "      <td>...</td>\n",
       "      <td>-3.249126e-15</td>\n",
       "      <td>3.100802e-15</td>\n",
       "      <td>9.021189e-16</td>\n",
       "      <td>1.382702e-15</td>\n",
       "      <td>-4.017008e-16</td>\n",
       "      <td>-7.037995e-15</td>\n",
       "      <td>-2.380478e-15</td>\n",
       "      <td>-1.941622e-15</td>\n",
       "      <td>1.341753e-16</td>\n",
       "      <td>0</td>\n",
       "    </tr>\n",
       "    <tr>\n",
       "      <th>3</th>\n",
       "      <td>-1.720587</td>\n",
       "      <td>-0.743381</td>\n",
       "      <td>-1.711474</td>\n",
       "      <td>2.049688</td>\n",
       "      <td>0.889374</td>\n",
       "      <td>1.104762</td>\n",
       "      <td>-0.932239</td>\n",
       "      <td>-0.817646</td>\n",
       "      <td>1.928219</td>\n",
       "      <td>0.175688</td>\n",
       "      <td>...</td>\n",
       "      <td>6.400591e-16</td>\n",
       "      <td>3.595140e-16</td>\n",
       "      <td>-1.336803e-15</td>\n",
       "      <td>-1.500501e-15</td>\n",
       "      <td>5.464341e-16</td>\n",
       "      <td>1.800543e-15</td>\n",
       "      <td>1.125161e-15</td>\n",
       "      <td>3.883621e-16</td>\n",
       "      <td>1.399795e-16</td>\n",
       "      <td>1</td>\n",
       "    </tr>\n",
       "    <tr>\n",
       "      <th>4</th>\n",
       "      <td>1.526313</td>\n",
       "      <td>1.696959</td>\n",
       "      <td>-0.833420</td>\n",
       "      <td>-1.101448</td>\n",
       "      <td>0.095356</td>\n",
       "      <td>-1.132918</td>\n",
       "      <td>-0.471871</td>\n",
       "      <td>-1.369949</td>\n",
       "      <td>2.336079</td>\n",
       "      <td>-0.040855</td>\n",
       "      <td>...</td>\n",
       "      <td>-1.244409e-15</td>\n",
       "      <td>1.027250e-15</td>\n",
       "      <td>5.050028e-16</td>\n",
       "      <td>-9.094494e-16</td>\n",
       "      <td>-1.016290e-15</td>\n",
       "      <td>-1.663143e-15</td>\n",
       "      <td>4.985551e-16</td>\n",
       "      <td>3.504744e-16</td>\n",
       "      <td>-2.866297e-16</td>\n",
       "      <td>0</td>\n",
       "    </tr>\n",
       "  </tbody>\n",
       "</table>\n",
       "<p>5 rows × 117 columns</p>\n",
       "</div>"
      ],
      "text/plain": [
       "        PC1       PC2       PC3       PC4       PC5       PC6       PC7  \\\n",
       "0  1.198703 -2.601600 -0.607127 -0.613553  0.564628 -1.087429  0.712748   \n",
       "1  4.602874  2.413942  0.693388 -1.428488 -0.337142  2.273877  0.650325   \n",
       "2  5.186700  2.091925 -1.355902 -0.896226  0.075521 -0.085992 -0.659715   \n",
       "3 -1.720587 -0.743381 -1.711474  2.049688  0.889374  1.104762 -0.932239   \n",
       "4  1.526313  1.696959 -0.833420 -1.101448  0.095356 -1.132918 -0.471871   \n",
       "\n",
       "        PC8       PC9      PC10  ...         PC108         PC109  \\\n",
       "0 -1.705031  0.785697 -1.249709  ...  2.246122e-15 -1.919729e-15   \n",
       "1  3.754330  2.943476 -1.553508  ...  2.687303e-16  6.449961e-16   \n",
       "2  4.912817  1.048094 -1.182687  ... -3.249126e-15  3.100802e-15   \n",
       "3 -0.817646  1.928219  0.175688  ...  6.400591e-16  3.595140e-16   \n",
       "4 -1.369949  2.336079 -0.040855  ... -1.244409e-15  1.027250e-15   \n",
       "\n",
       "          PC110         PC111         PC112         PC113         PC114  \\\n",
       "0 -1.979762e-16 -8.203857e-16  1.397138e-15 -2.109864e-15  9.951256e-16   \n",
       "1 -1.451099e-15 -2.489289e-16  2.125353e-16 -2.450522e-16  5.459687e-16   \n",
       "2  9.021189e-16  1.382702e-15 -4.017008e-16 -7.037995e-15 -2.380478e-15   \n",
       "3 -1.336803e-15 -1.500501e-15  5.464341e-16  1.800543e-15  1.125161e-15   \n",
       "4  5.050028e-16 -9.094494e-16 -1.016290e-15 -1.663143e-15  4.985551e-16   \n",
       "\n",
       "          PC115         PC116  STATUS  \n",
       "0  1.289816e-15  1.836574e-16       1  \n",
       "1 -6.844085e-18  2.749253e-16       0  \n",
       "2 -1.941622e-15  1.341753e-16       0  \n",
       "3  3.883621e-16  1.399795e-16       1  \n",
       "4  3.504744e-16 -2.866297e-16       0  \n",
       "\n",
       "[5 rows x 117 columns]"
      ]
     },
     "execution_count": 11,
     "metadata": {},
     "output_type": "execute_result"
    }
   ],
   "source": [
    "X_pca = pd.DataFrame(x_pca)\n",
    "X_pca['STATUS']=y\n",
    "columns = []\n",
    "for i in range(0, len(explained_variance)):\n",
    "    columns.append('PC'+str(i+1))\n",
    "columns.append('STATUS')\n",
    "X_pca.columns = columns\n",
    "X_pca.head()"
   ]
  },
  {
   "cell_type": "code",
   "execution_count": 12,
   "metadata": {},
   "outputs": [],
   "source": [
    "target_names = np.unique(y)"
   ]
  },
  {
   "cell_type": "code",
   "execution_count": 16,
   "metadata": {
    "scrolled": false
   },
   "outputs": [
    {
     "data": {
      "image/png": "[encoded data removed]",
      "text/plain": [
       "<Figure size 504x504 with 1 Axes>"
      ]
     },
     "metadata": {
      "needs_background": "light"
     },
     "output_type": "display_data"
    }
   ],
   "source": [
    "colors = ['blue', 'red']\n",
    "plt.figure(1, figsize=(7, 7))\n",
    "\n",
    "for color, i, target_name in zip(colors, [0, 1], target_names):\n",
    "    plt.scatter(x_pca[y == i, 0], x_pca[y == i, 1], color=color, s=1,\n",
    "                alpha=.8, label=target_name, marker='.')\n",
    "plt.legend(loc='best', shadow=False, scatterpoints=3)\n",
    "plt.title(\n",
    "        \"Scatter plot of the data projected on the 1st \"\n",
    "        \"and 2nd principal components\")\n",
    "plt.xlabel(\"Principal axis 1 - Explains %.1f %% of the variance\" % (\n",
    "        pca.explained_variance_ratio_[0] * 100.0))\n",
    "plt.ylabel(\"Principal axis 2 - Explains %.1f %% of the variance\" % (\n",
    "        pca.explained_variance_ratio_[1] * 100.0))\n",
    "\n",
    "plt.savefig('pca.png', dpi=150)\n",
    "plt.show()"
   ]
  },
  {
   "cell_type": "code",
   "execution_count": 17,
   "metadata": {},
   "outputs": [
    {
     "data": {
      "application/vnd.plotly.v1+json": {
       "config": {
        "linkText": "Export to plot.ly",
        "plotlyServerURL": "https://plot.ly",
        "showLink": false
       },
       "data": [
        {
         "name": "Individual",
         "type": "bar",
         "x": [
          "PC 1",
          "PC 2",
          "PC 3",
          "PC 4",
          "PC 5",
          "PC 6",
          "PC 7",
          "PC 8",
          "PC 9",
          "PC 10",
          "PC 11",
          "PC 12",
          "PC 13",
          "PC 14",
          "PC 15",
          "PC 16",
          "PC 17",
          "PC 18",
          "PC 19",
          "PC 20",
          "PC 21",
          "PC 22",
          "PC 23",
          "PC 24",
          "PC 25",
          "PC 26",
          "PC 27",
          "PC 28",
          "PC 29",
          "PC 30",
          "PC 31",
          "PC 32",
          "PC 33",
          "PC 34",
          "PC 35",
          "PC 36",
          "PC 37",
          "PC 38",
          "PC 39",
          "PC 40",
          "PC 41",
          "PC 42",
          "PC 43",
          "PC 44",
          "PC 45",
          "PC 46",
          "PC 47",
          "PC 48",
          "PC 49",
          "PC 50",
          "PC 51",
          "PC 52",
          "PC 53",
          "PC 54",
          "PC 55",
          "PC 56",
          "PC 57",
          "PC 58",
          "PC 59",
          "PC 60",
          "PC 61",
          "PC 62",
          "PC 63",
          "PC 64",
          "PC 65",
          "PC 66",
          "PC 67",
          "PC 68",
          "PC 69",
          "PC 70",
          "PC 71",
          "PC 72",
          "PC 73",
          "PC 74",
          "PC 75",
          "PC 76",
          "PC 77",
          "PC 78",
          "PC 79",
          "PC 80",
          "PC 81",
          "PC 82",
          "PC 83",
          "PC 84",
          "PC 85",
          "PC 86",
          "PC 87",
          "PC 88",
          "PC 89",
          "PC 90",
          "PC 91",
          "PC 92",
          "PC 93",
          "PC 94",
          "PC 95",
          "PC 96",
          "PC 97",
          "PC 98",
          "PC 99",
          "PC 100",
          "PC 101",
          "PC 102",
          "PC 103",
          "PC 104",
          "PC 105",
          "PC 106",
          "PC 107",
          "PC 108",
          "PC 109",
          "PC 110",
          "PC 111",
          "PC 112",
          "PC 113",
          "PC 114",
          "PC 115",
          "PC 116"
         ],
         "y": [
          3.2378196908610657,
          3.09186531675062,
          1.7855671619718037,
          1.7521112577702194,
          1.7335388907105336,
          1.7110073140775437,
          1.50214068155456,
          1.4869797161717093,
          1.4692532931513214,
          1.423708456959625,
          1.1821004096004053,
          1.1206839137098876,
          1.0826353510381592,
          1.0645563622288194,
          1.0434455391306565,
          1.0201350104029336,
          1.0144267558040765,
          1.007701117384298,
          1.0039271426602165,
          1.0033960994639488,
          0.9940501569094391,
          0.9896569145513052,
          0.9829250335614697,
          0.9795048907980503,
          0.974449166025595,
          0.9712023371694933,
          0.9655874344970918,
          0.9585445430759265,
          0.9539962313706893,
          0.9455512634607678,
          0.9389861317818231,
          0.9277711294275052,
          0.9238917589069772,
          0.9216495618520205,
          0.9155214832189608,
          0.906351740611655,
          0.9005668714971833,
          0.8933358254576939,
          0.8884378908629886,
          0.8845333314980339,
          0.88415868130428,
          0.8828808774107605,
          0.8816194447620427,
          0.878454666843354,
          0.877982938436118,
          0.8765285232700695,
          0.8760196083859495,
          0.8735408037900526,
          0.8726005268689923,
          0.8716452326608441,
          0.8713812700434965,
          0.8702886699359582,
          0.8696462341802788,
          0.8691993242904955,
          0.8683591412985603,
          0.8680923839943178,
          0.8674462828261781,
          0.866872733258125,
          0.8664930030470941,
          0.8662867330953428,
          0.8659622297945369,
          0.8653111717451769,
          0.8647972004983077,
          0.8645794781217924,
          0.8642971080817132,
          0.8636819767714717,
          0.8632683786974724,
          0.8627820275163648,
          0.8618591605917966,
          0.8604661277874299,
          0.8601315189287352,
          0.8576302486459365,
          0.8567860614630012,
          0.8563586201136264,
          0.8552061184484695,
          0.852154973597053,
          0.8508958907983813,
          0.8488180345020431,
          0.8460813879735629,
          0.8440679811625263,
          0.8356831003824998,
          0.8344552556498424,
          0.8278603033091908,
          0.8272931475353142,
          0.8236797924231312,
          0.8225588285642533,
          0.8182140834647307,
          0.813124647993779,
          0.8094761971976845,
          0.7984813141198495,
          0.7943193062458503,
          0.7819171692105217,
          0.7789822199906069,
          0.7728014634841456,
          0.7594479788247616,
          0.7546446956739402,
          0.7121302507793624,
          0.6668727072523825,
          0.634872920111008,
          0.5730420686605792,
          0.37587038645516296,
          0.2661388963685724,
          0.2641563093276574,
          0.20520080168902116,
          0.18778605934512158,
          0.0828441430622661,
          9.803111459463782e-31,
          2.20856635122795e-31,
          1.8454383985485238e-31,
          1.422675421510625e-31,
          9.218022761778387e-32,
          7.95873556326904e-32,
          6.929107733511278e-32,
          3.2847265225767095e-32,
          2.4918954035230824e-32,
          6.1355915586403786e-33
         ]
        },
        {
         "name": "Cumulative",
         "type": "scatter",
         "x": [
          "PC 1",
          "PC 2",
          "PC 3",
          "PC 4",
          "PC 5",
          "PC 6",
          "PC 7",
          "PC 8",
          "PC 9",
          "PC 10",
          "PC 11",
          "PC 12",
          "PC 13",
          "PC 14",
          "PC 15",
          "PC 16",
          "PC 17",
          "PC 18",
          "PC 19",
          "PC 20",
          "PC 21",
          "PC 22",
          "PC 23",
          "PC 24",
          "PC 25",
          "PC 26",
          "PC 27",
          "PC 28",
          "PC 29",
          "PC 30",
          "PC 31",
          "PC 32",
          "PC 33",
          "PC 34",
          "PC 35",
          "PC 36",
          "PC 37",
          "PC 38",
          "PC 39",
          "PC 40",
          "PC 41",
          "PC 42",
          "PC 43",
          "PC 44",
          "PC 45",
          "PC 46",
          "PC 47",
          "PC 48",
          "PC 49",
          "PC 50",
          "PC 51",
          "PC 52",
          "PC 53",
          "PC 54",
          "PC 55",
          "PC 56",
          "PC 57",
          "PC 58",
          "PC 59",
          "PC 60",
          "PC 61",
          "PC 62",
          "PC 63",
          "PC 64",
          "PC 65",
          "PC 66",
          "PC 67",
          "PC 68",
          "PC 69",
          "PC 70",
          "PC 71",
          "PC 72",
          "PC 73",
          "PC 74",
          "PC 75",
          "PC 76",
          "PC 77",
          "PC 78",
          "PC 79",
          "PC 80",
          "PC 81",
          "PC 82",
          "PC 83",
          "PC 84",
          "PC 85",
          "PC 86",
          "PC 87",
          "PC 88",
          "PC 89",
          "PC 90",
          "PC 91",
          "PC 92",
          "PC 93",
          "PC 94",
          "PC 95",
          "PC 96",
          "PC 97",
          "PC 98",
          "PC 99",
          "PC 100",
          "PC 101",
          "PC 102",
          "PC 103",
          "PC 104",
          "PC 105",
          "PC 106",
          "PC 107",
          "PC 108",
          "PC 109",
          "PC 110",
          "PC 111",
          "PC 112",
          "PC 113",
          "PC 114",
          "PC 115",
          "PC 116"
         ],
         "y": [
          3.2378196908610657,
          6.329685007611685,
          8.115252169583488,
          9.867363427353707,
          11.600902318064241,
          13.311909632141784,
          14.814050313696344,
          16.301030029868052,
          17.770283323019374,
          19.193991779978997,
          20.376092189579403,
          21.49677610328929,
          22.57941145432745,
          23.64396781655627,
          24.687413355686925,
          25.70754836608986,
          26.721975121893937,
          27.729676239278234,
          28.73360338193845,
          29.7369994814024,
          30.731049638311838,
          31.720706552863142,
          32.70363158642461,
          33.68313647722266,
          34.657585643248254,
          35.62878798041775,
          36.594375414914836,
          37.55291995799076,
          38.50691618936145,
          39.45246745282221,
          40.39145358460404,
          41.31922471403154,
          42.24311647293852,
          43.16476603479054,
          44.0802875180095,
          44.98663925862115,
          45.88720613011834,
          46.780541955576034,
          47.66897984643902,
          48.553513177937056,
          49.437671859241334,
          50.3205527366521,
          51.20217218141414,
          52.080626848257495,
          52.958609786693614,
          53.83513830996368,
          54.711157918349635,
          55.584698722139684,
          56.45729924900868,
          57.328944481669524,
          58.200325751713024,
          59.07061442164898,
          59.94026065582926,
          60.80945998011976,
          61.677819121418324,
          62.54591150541264,
          63.41335778823882,
          64.28023052149695,
          65.14672352454404,
          66.01301025763938,
          66.87897248743391,
          67.74428365917909,
          68.60908085967739,
          69.47366033779919,
          70.3379574458809,
          71.20163942265238,
          72.06490780134985,
          72.9276898288662,
          73.789548989458,
          74.65001511724543,
          75.51014663617417,
          76.3677768848201,
          77.2245629462831,
          78.08092156639673,
          78.93612768484519,
          79.78828265844224,
          80.63917854924063,
          81.48799658374267,
          82.33407797171624,
          83.17814595287877,
          84.01382905326126,
          84.8482843089111,
          85.6761446122203,
          86.50343775975561,
          87.32711755217875,
          88.149676380743,
          88.96789046420773,
          89.7810151122015,
          90.59049130939918,
          91.38897262351904,
          92.18329192976489,
          92.96520909897541,
          93.74419131896602,
          94.51699278245016,
          95.27644076127493,
          96.03108545694887,
          96.74321570772824,
          97.41008841498062,
          98.04496133509163,
          98.61800340375221,
          98.99387379020737,
          99.26001268657595,
          99.52416899590361,
          99.72936979759262,
          99.91715585693774,
          100,
          100,
          100,
          100,
          100,
          100,
          100,
          100,
          100,
          100,
          100
         ]
        }
       ],
       "layout": {
        "annotations": [
         {
          "showarrow": false,
          "text": "Explained Variance",
          "x": 1.16,
          "xref": "paper",
          "y": 1.05,
          "yref": "paper"
         }
        ],
        "template": {
         "data": {
          "bar": [
           {
            "error_x": {
             "color": "#2a3f5f"
            },
            "error_y": {
             "color": "#2a3f5f"
            },
            "marker": {
             "line": {
              "color": "#E5ECF6",
              "width": 0.5
             }
            },
            "type": "bar"
           }
          ],
          "barpolar": [
           {
            "marker": {
             "line": {
              "color": "#E5ECF6",
              "width": 0.5
             }
            },
            "type": "barpolar"
           }
          ],
          "carpet": [
           {
            "aaxis": {
             "endlinecolor": "#2a3f5f",
             "gridcolor": "white",
             "linecolor": "white",
             "minorgridcolor": "white",
             "startlinecolor": "#2a3f5f"
            },
            "baxis": {
             "endlinecolor": "#2a3f5f",
             "gridcolor": "white",
             "linecolor": "white",
             "minorgridcolor": "white",
             "startlinecolor": "#2a3f5f"
            },
            "type": "carpet"
           }
          ],
          "choropleth": [
           {
            "colorbar": {
             "outlinewidth": 0,
             "ticks": ""
            },
            "type": "choropleth"
           }
          ],
          "contour": [
           {
            "colorbar": {
             "outlinewidth": 0,
             "ticks": ""
            },
            "colorscale": [
             [
              0,
              "#0d0887"
             ],
             [
              0.1111111111111111,
              "#46039f"
             ],
             [
              0.2222222222222222,
              "#7201a8"
             ],
             [
              0.3333333333333333,
              "#9c179e"
             ],
             [
              0.4444444444444444,
              "#bd3786"
             ],
             [
              0.5555555555555556,
              "#d8576b"
             ],
             [
              0.6666666666666666,
              "#ed7953"
             ],
             [
              0.7777777777777778,
              "#fb9f3a"
             ],
             [
              0.8888888888888888,
              "#fdca26"
             ],
             [
              1,
              "#f0f921"
             ]
            ],
            "type": "contour"
           }
          ],
          "contourcarpet": [
           {
            "colorbar": {
             "outlinewidth": 0,
             "ticks": ""
            },
            "type": "contourcarpet"
           }
          ],
          "heatmap": [
           {
            "colorbar": {
             "outlinewidth": 0,
             "ticks": ""
            },
            "colorscale": [
             [
              0,
              "#0d0887"
             ],
             [
              0.1111111111111111,
              "#46039f"
             ],
             [
              0.2222222222222222,
              "#7201a8"
             ],
             [
              0.3333333333333333,
              "#9c179e"
             ],
             [
              0.4444444444444444,
              "#bd3786"
             ],
             [
              0.5555555555555556,
              "#d8576b"
             ],
             [
              0.6666666666666666,
              "#ed7953"
             ],
             [
              0.7777777777777778,
              "#fb9f3a"
             ],
             [
              0.8888888888888888,
              "#fdca26"
             ],
             [
              1,
              "#f0f921"
             ]
            ],
            "type": "heatmap"
           }
          ],
          "heatmapgl": [
           {
            "colorbar": {
             "outlinewidth": 0,
             "ticks": ""
            },
            "colorscale": [
             [
              0,
              "#0d0887"
             ],
             [
              0.1111111111111111,
              "#46039f"
             ],
             [
              0.2222222222222222,
              "#7201a8"
             ],
             [
              0.3333333333333333,
              "#9c179e"
             ],
             [
              0.4444444444444444,
              "#bd3786"
             ],
             [
              0.5555555555555556,
              "#d8576b"
             ],
             [
              0.6666666666666666,
              "#ed7953"
             ],
             [
              0.7777777777777778,
              "#fb9f3a"
             ],
             [
              0.8888888888888888,
              "#fdca26"
             ],
             [
              1,
              "#f0f921"
             ]
            ],
            "type": "heatmapgl"
           }
          ],
          "histogram": [
           {
            "marker": {
             "colorbar": {
              "outlinewidth": 0,
              "ticks": ""
             }
            },
            "type": "histogram"
           }
          ],
          "histogram2d": [
           {
            "colorbar": {
             "outlinewidth": 0,
             "ticks": ""
            },
            "colorscale": [
             [
              0,
              "#0d0887"
             ],
             [
              0.1111111111111111,
              "#46039f"
             ],
             [
              0.2222222222222222,
              "#7201a8"
             ],
             [
              0.3333333333333333,
              "#9c179e"
             ],
             [
              0.4444444444444444,
              "#bd3786"
             ],
             [
              0.5555555555555556,
              "#d8576b"
             ],
             [
              0.6666666666666666,
              "#ed7953"
             ],
             [
              0.7777777777777778,
              "#fb9f3a"
             ],
             [
              0.8888888888888888,
              "#fdca26"
             ],
             [
              1,
              "#f0f921"
             ]
            ],
            "type": "histogram2d"
           }
          ],
          "histogram2dcontour": [
           {
            "colorbar": {
             "outlinewidth": 0,
             "ticks": ""
            },
            "colorscale": [
             [
              0,
              "#0d0887"
             ],
             [
              0.1111111111111111,
              "#46039f"
             ],
             [
              0.2222222222222222,
              "#7201a8"
             ],
             [
              0.3333333333333333,
              "#9c179e"
             ],
             [
              0.4444444444444444,
              "#bd3786"
             ],
             [
              0.5555555555555556,
              "#d8576b"
             ],
             [
              0.6666666666666666,
              "#ed7953"
             ],
             [
              0.7777777777777778,
              "#fb9f3a"
             ],
             [
              0.8888888888888888,
              "#fdca26"
             ],
             [
              1,
              "#f0f921"
             ]
            ],
            "type": "histogram2dcontour"
           }
          ],
          "mesh3d": [
           {
            "colorbar": {
             "outlinewidth": 0,
             "ticks": ""
            },
            "type": "mesh3d"
           }
          ],
          "parcoords": [
           {
            "line": {
             "colorbar": {
              "outlinewidth": 0,
              "ticks": ""
             }
            },
            "type": "parcoords"
           }
          ],
          "pie": [
           {
            "automargin": true,
            "type": "pie"
           }
          ],
          "scatter": [
           {
            "marker": {
             "colorbar": {
              "outlinewidth": 0,
              "ticks": ""
             }
            },
            "type": "scatter"
           }
          ],
          "scatter3d": [
           {
            "line": {
             "colorbar": {
              "outlinewidth": 0,
              "ticks": ""
             }
            },
            "marker": {
             "colorbar": {
              "outlinewidth": 0,
              "ticks": ""
             }
            },
            "type": "scatter3d"
           }
          ],
          "scattercarpet": [
           {
            "marker": {
             "colorbar": {
              "outlinewidth": 0,
              "ticks": ""
             }
            },
            "type": "scattercarpet"
           }
          ],
          "scattergeo": [
           {
            "marker": {
             "colorbar": {
              "outlinewidth": 0,
              "ticks": ""
             }
            },
            "type": "scattergeo"
           }
          ],
          "scattergl": [
           {
            "marker": {
             "colorbar": {
              "outlinewidth": 0,
              "ticks": ""
             }
            },
            "type": "scattergl"
           }
          ],
          "scattermapbox": [
           {
            "marker": {
             "colorbar": {
              "outlinewidth": 0,
              "ticks": ""
             }
            },
            "type": "scattermapbox"
           }
          ],
          "scatterpolar": [
           {
            "marker": {
             "colorbar": {
              "outlinewidth": 0,
              "ticks": ""
             }
            },
            "type": "scatterpolar"
           }
          ],
          "scatterpolargl": [
           {
            "marker": {
             "colorbar": {
              "outlinewidth": 0,
              "ticks": ""
             }
            },
            "type": "scatterpolargl"
           }
          ],
          "scatterternary": [
           {
            "marker": {
             "colorbar": {
              "outlinewidth": 0,
              "ticks": ""
             }
            },
            "type": "scatterternary"
           }
          ],
          "surface": [
           {
            "colorbar": {
             "outlinewidth": 0,
             "ticks": ""
            },
            "colorscale": [
             [
              0,
              "#0d0887"
             ],
             [
              0.1111111111111111,
              "#46039f"
             ],
             [
              0.2222222222222222,
              "#7201a8"
             ],
             [
              0.3333333333333333,
              "#9c179e"
             ],
             [
              0.4444444444444444,
              "#bd3786"
             ],
             [
              0.5555555555555556,
              "#d8576b"
             ],
             [
              0.6666666666666666,
              "#ed7953"
             ],
             [
              0.7777777777777778,
              "#fb9f3a"
             ],
             [
              0.8888888888888888,
              "#fdca26"
             ],
             [
              1,
              "#f0f921"
             ]
            ],
            "type": "surface"
           }
          ],
          "table": [
           {
            "cells": {
             "fill": {
              "color": "#EBF0F8"
             },
             "line": {
              "color": "white"
             }
            },
            "header": {
             "fill": {
              "color": "#C8D4E3"
             },
             "line": {
              "color": "white"
             }
            },
            "type": "table"
           }
          ]
         },
         "layout": {
          "annotationdefaults": {
           "arrowcolor": "#2a3f5f",
           "arrowhead": 0,
           "arrowwidth": 1
          },
          "coloraxis": {
           "colorbar": {
            "outlinewidth": 0,
            "ticks": ""
           }
          },
          "colorscale": {
           "diverging": [
            [
             0,
             "#8e0152"
            ],
            [
             0.1,
             "#c51b7d"
            ],
            [
             0.2,
             "#de77ae"
            ],
            [
             0.3,
             "#f1b6da"
            ],
            [
             0.4,
             "#fde0ef"
            ],
            [
             0.5,
             "#f7f7f7"
            ],
            [
             0.6,
             "#e6f5d0"
            ],
            [
             0.7,
             "#b8e186"
            ],
            [
             0.8,
             "#7fbc41"
            ],
            [
             0.9,
             "#4d9221"
            ],
            [
             1,
             "#276419"
            ]
           ],
           "sequential": [
            [
             0,
             "#0d0887"
            ],
            [
             0.1111111111111111,
             "#46039f"
            ],
            [
             0.2222222222222222,
             "#7201a8"
            ],
            [
             0.3333333333333333,
             "#9c179e"
            ],
            [
             0.4444444444444444,
             "#bd3786"
            ],
            [
             0.5555555555555556,
             "#d8576b"
            ],
            [
             0.6666666666666666,
             "#ed7953"
            ],
            [
             0.7777777777777778,
             "#fb9f3a"
            ],
            [
             0.8888888888888888,
             "#fdca26"
            ],
            [
             1,
             "#f0f921"
            ]
           ],
           "sequentialminus": [
            [
             0,
             "#0d0887"
            ],
            [
             0.1111111111111111,
             "#46039f"
            ],
            [
             0.2222222222222222,
             "#7201a8"
            ],
            [
             0.3333333333333333,
             "#9c179e"
            ],
            [
             0.4444444444444444,
             "#bd3786"
            ],
            [
             0.5555555555555556,
             "#d8576b"
            ],
            [
             0.6666666666666666,
             "#ed7953"
            ],
            [
             0.7777777777777778,
             "#fb9f3a"
            ],
            [
             0.8888888888888888,
             "#fdca26"
            ],
            [
             1,
             "#f0f921"
            ]
           ]
          },
          "colorway": [
           "#636efa",
           "#EF553B",
           "#00cc96",
           "#ab63fa",
           "#FFA15A",
           "#19d3f3",
           "#FF6692",
           "#B6E880",
           "#FF97FF",
           "#FECB52"
          ],
          "font": {
           "color": "#2a3f5f"
          },
          "geo": {
           "bgcolor": "white",
           "lakecolor": "white",
           "landcolor": "#E5ECF6",
           "showlakes": true,
           "showland": true,
           "subunitcolor": "white"
          },
          "hoverlabel": {
           "align": "left"
          },
          "hovermode": "closest",
          "mapbox": {
           "style": "light"
          },
          "paper_bgcolor": "white",
          "plot_bgcolor": "#E5ECF6",
          "polar": {
           "angularaxis": {
            "gridcolor": "white",
            "linecolor": "white",
            "ticks": ""
           },
           "bgcolor": "#E5ECF6",
           "radialaxis": {
            "gridcolor": "white",
            "linecolor": "white",
            "ticks": ""
           }
          },
          "scene": {
           "xaxis": {
            "backgroundcolor": "#E5ECF6",
            "gridcolor": "white",
            "gridwidth": 2,
            "linecolor": "white",
            "showbackground": true,
            "ticks": "",
            "zerolinecolor": "white"
           },
           "yaxis": {
            "backgroundcolor": "#E5ECF6",
            "gridcolor": "white",
            "gridwidth": 2,
            "linecolor": "white",
            "showbackground": true,
            "ticks": "",
            "zerolinecolor": "white"
           },
           "zaxis": {
            "backgroundcolor": "#E5ECF6",
            "gridcolor": "white",
            "gridwidth": 2,
            "linecolor": "white",
            "showbackground": true,
            "ticks": "",
            "zerolinecolor": "white"
           }
          },
          "shapedefaults": {
           "line": {
            "color": "#2a3f5f"
           }
          },
          "ternary": {
           "aaxis": {
            "gridcolor": "white",
            "linecolor": "white",
            "ticks": ""
           },
           "baxis": {
            "gridcolor": "white",
            "linecolor": "white",
            "ticks": ""
           },
           "bgcolor": "#E5ECF6",
           "caxis": {
            "gridcolor": "white",
            "linecolor": "white",
            "ticks": ""
           }
          },
          "title": {
           "x": 0.05
          },
          "xaxis": {
           "automargin": true,
           "gridcolor": "white",
           "linecolor": "white",
           "ticks": "",
           "title": {
            "standoff": 15
           },
           "zerolinecolor": "white",
           "zerolinewidth": 2
          },
          "yaxis": {
           "automargin": true,
           "gridcolor": "white",
           "linecolor": "white",
           "ticks": "",
           "title": {
            "standoff": 15
           },
           "zerolinecolor": "white",
           "zerolinewidth": 2
          }
         }
        },
        "title": {
         "text": "Explained variance by different principal components"
        },
        "yaxis": {
         "title": {
          "text": "Explained variance in percent"
         }
        }
       }
      },
      "text/html": [
       "<div>\n",
       "        \n",
       "        \n",
       "            <div id=\"33d90098-6e68-4993-ab41-dc716ba633f7\" class=\"plotly-graph-div\" style=\"height:525px; width:100%;\"></div>\n",
       "            <script type=\"text/javascript\">\n",
       "                require([\"plotly\"], function(Plotly) {\n",
       "                    window.PLOTLYENV=window.PLOTLYENV || {};\n",
       "                    \n",
       "                if (document.getElementById(\"33d90098-6e68-4993-ab41-dc716ba633f7\")) {\n",
       "                    Plotly.newPlot(\n",
       "                        '33d90098-6e68-4993-ab41-dc716ba633f7',\n",
       "                        [{\"name\": \"Individual\", \"type\": \"bar\", \"x\": [\"PC 1\", \"PC 2\", \"PC 3\", \"PC 4\", \"PC 5\", \"PC 6\", \"PC 7\", \"PC 8\", \"PC 9\", \"PC 10\", \"PC 11\", \"PC 12\", \"PC 13\", \"PC 14\", \"PC 15\", \"PC 16\", \"PC 17\", \"PC 18\", \"PC 19\", \"PC 20\", \"PC 21\", \"PC 22\", \"PC 23\", \"PC 24\", \"PC 25\", \"PC 26\", \"PC 27\", \"PC 28\", \"PC 29\", \"PC 30\", \"PC 31\", \"PC 32\", \"PC 33\", \"PC 34\", \"PC 35\", \"PC 36\", \"PC 37\", \"PC 38\", \"PC 39\", \"PC 40\", \"PC 41\", \"PC 42\", \"PC 43\", \"PC 44\", \"PC 45\", \"PC 46\", \"PC 47\", \"PC 48\", \"PC 49\", \"PC 50\", \"PC 51\", \"PC 52\", \"PC 53\", \"PC 54\", \"PC 55\", \"PC 56\", \"PC 57\", \"PC 58\", \"PC 59\", \"PC 60\", \"PC 61\", \"PC 62\", \"PC 63\", \"PC 64\", \"PC 65\", \"PC 66\", \"PC 67\", \"PC 68\", \"PC 69\", \"PC 70\", \"PC 71\", \"PC 72\", \"PC 73\", \"PC 74\", \"PC 75\", \"PC 76\", \"PC 77\", \"PC 78\", \"PC 79\", \"PC 80\", \"PC 81\", \"PC 82\", \"PC 83\", \"PC 84\", \"PC 85\", \"PC 86\", \"PC 87\", \"PC 88\", \"PC 89\", \"PC 90\", \"PC 91\", \"PC 92\", \"PC 93\", \"PC 94\", \"PC 95\", \"PC 96\", \"PC 97\", \"PC 98\", \"PC 99\", \"PC 100\", \"PC 101\", \"PC 102\", \"PC 103\", \"PC 104\", \"PC 105\", \"PC 106\", \"PC 107\", \"PC 108\", \"PC 109\", \"PC 110\", \"PC 111\", \"PC 112\", \"PC 113\", \"PC 114\", \"PC 115\", \"PC 116\"], \"y\": [3.2378196908610657, 3.09186531675062, 1.7855671619718037, 1.7521112577702194, 1.7335388907105336, 1.7110073140775437, 1.50214068155456, 1.4869797161717093, 1.4692532931513214, 1.423708456959625, 1.1821004096004053, 1.1206839137098876, 1.0826353510381592, 1.0645563622288194, 1.0434455391306565, 1.0201350104029336, 1.0144267558040765, 1.007701117384298, 1.0039271426602165, 1.0033960994639488, 0.9940501569094391, 0.9896569145513052, 0.9829250335614697, 0.9795048907980503, 0.974449166025595, 0.9712023371694933, 0.9655874344970918, 0.9585445430759265, 0.9539962313706893, 0.9455512634607678, 0.9389861317818231, 0.9277711294275052, 0.9238917589069772, 0.9216495618520205, 0.9155214832189608, 0.906351740611655, 0.9005668714971833, 0.8933358254576939, 0.8884378908629886, 0.8845333314980339, 0.88415868130428, 0.8828808774107605, 0.8816194447620427, 0.878454666843354, 0.877982938436118, 0.8765285232700695, 0.8760196083859495, 0.8735408037900526, 0.8726005268689923, 0.8716452326608441, 0.8713812700434965, 0.8702886699359582, 0.8696462341802788, 0.8691993242904955, 0.8683591412985603, 0.8680923839943178, 0.8674462828261781, 0.866872733258125, 0.8664930030470941, 0.8662867330953428, 0.8659622297945369, 0.8653111717451769, 0.8647972004983077, 0.8645794781217924, 0.8642971080817132, 0.8636819767714717, 0.8632683786974724, 0.8627820275163648, 0.8618591605917966, 0.8604661277874299, 0.8601315189287352, 0.8576302486459365, 0.8567860614630012, 0.8563586201136264, 0.8552061184484695, 0.852154973597053, 0.8508958907983813, 0.8488180345020431, 0.8460813879735629, 0.8440679811625263, 0.8356831003824998, 0.8344552556498424, 0.8278603033091908, 0.8272931475353142, 0.8236797924231312, 0.8225588285642533, 0.8182140834647307, 0.813124647993779, 0.8094761971976845, 0.7984813141198495, 0.7943193062458503, 0.7819171692105217, 0.7789822199906069, 0.7728014634841456, 0.7594479788247616, 0.7546446956739402, 0.7121302507793624, 0.6668727072523825, 0.634872920111008, 0.5730420686605792, 0.37587038645516296, 0.2661388963685724, 0.2641563093276574, 0.20520080168902116, 0.18778605934512158, 0.0828441430622661, 9.803111459463782e-31, 2.20856635122795e-31, 1.8454383985485238e-31, 1.422675421510625e-31, 9.218022761778387e-32, 7.95873556326904e-32, 6.929107733511278e-32, 3.2847265225767095e-32, 2.4918954035230824e-32, 6.1355915586403786e-33]}, {\"name\": \"Cumulative\", \"type\": \"scatter\", \"x\": [\"PC 1\", \"PC 2\", \"PC 3\", \"PC 4\", \"PC 5\", \"PC 6\", \"PC 7\", \"PC 8\", \"PC 9\", \"PC 10\", \"PC 11\", \"PC 12\", \"PC 13\", \"PC 14\", \"PC 15\", \"PC 16\", \"PC 17\", \"PC 18\", \"PC 19\", \"PC 20\", \"PC 21\", \"PC 22\", \"PC 23\", \"PC 24\", \"PC 25\", \"PC 26\", \"PC 27\", \"PC 28\", \"PC 29\", \"PC 30\", \"PC 31\", \"PC 32\", \"PC 33\", \"PC 34\", \"PC 35\", \"PC 36\", \"PC 37\", \"PC 38\", \"PC 39\", \"PC 40\", \"PC 41\", \"PC 42\", \"PC 43\", \"PC 44\", \"PC 45\", \"PC 46\", \"PC 47\", \"PC 48\", \"PC 49\", \"PC 50\", \"PC 51\", \"PC 52\", \"PC 53\", \"PC 54\", \"PC 55\", \"PC 56\", \"PC 57\", \"PC 58\", \"PC 59\", \"PC 60\", \"PC 61\", \"PC 62\", \"PC 63\", \"PC 64\", \"PC 65\", \"PC 66\", \"PC 67\", \"PC 68\", \"PC 69\", \"PC 70\", \"PC 71\", \"PC 72\", \"PC 73\", \"PC 74\", \"PC 75\", \"PC 76\", \"PC 77\", \"PC 78\", \"PC 79\", \"PC 80\", \"PC 81\", \"PC 82\", \"PC 83\", \"PC 84\", \"PC 85\", \"PC 86\", \"PC 87\", \"PC 88\", \"PC 89\", \"PC 90\", \"PC 91\", \"PC 92\", \"PC 93\", \"PC 94\", \"PC 95\", \"PC 96\", \"PC 97\", \"PC 98\", \"PC 99\", \"PC 100\", \"PC 101\", \"PC 102\", \"PC 103\", \"PC 104\", \"PC 105\", \"PC 106\", \"PC 107\", \"PC 108\", \"PC 109\", \"PC 110\", \"PC 111\", \"PC 112\", \"PC 113\", \"PC 114\", \"PC 115\", \"PC 116\"], \"y\": [3.2378196908610657, 6.329685007611685, 8.115252169583488, 9.867363427353707, 11.600902318064241, 13.311909632141784, 14.814050313696344, 16.301030029868052, 17.770283323019374, 19.193991779978997, 20.376092189579403, 21.49677610328929, 22.57941145432745, 23.64396781655627, 24.687413355686925, 25.70754836608986, 26.721975121893937, 27.729676239278234, 28.73360338193845, 29.7369994814024, 30.731049638311838, 31.720706552863142, 32.70363158642461, 33.68313647722266, 34.657585643248254, 35.62878798041775, 36.594375414914836, 37.55291995799076, 38.50691618936145, 39.45246745282221, 40.39145358460404, 41.31922471403154, 42.24311647293852, 43.16476603479054, 44.0802875180095, 44.98663925862115, 45.88720613011834, 46.780541955576034, 47.66897984643902, 48.553513177937056, 49.437671859241334, 50.3205527366521, 51.20217218141414, 52.080626848257495, 52.958609786693614, 53.83513830996368, 54.711157918349635, 55.584698722139684, 56.45729924900868, 57.328944481669524, 58.200325751713024, 59.07061442164898, 59.94026065582926, 60.80945998011976, 61.677819121418324, 62.54591150541264, 63.41335778823882, 64.28023052149695, 65.14672352454404, 66.01301025763938, 66.87897248743391, 67.74428365917909, 68.60908085967739, 69.47366033779919, 70.3379574458809, 71.20163942265238, 72.06490780134985, 72.9276898288662, 73.789548989458, 74.65001511724543, 75.51014663617417, 76.3677768848201, 77.2245629462831, 78.08092156639673, 78.93612768484519, 79.78828265844224, 80.63917854924063, 81.48799658374267, 82.33407797171624, 83.17814595287877, 84.01382905326126, 84.8482843089111, 85.6761446122203, 86.50343775975561, 87.32711755217875, 88.149676380743, 88.96789046420773, 89.7810151122015, 90.59049130939918, 91.38897262351904, 92.18329192976489, 92.96520909897541, 93.74419131896602, 94.51699278245016, 95.27644076127493, 96.03108545694887, 96.74321570772824, 97.41008841498062, 98.04496133509163, 98.61800340375221, 98.99387379020737, 99.26001268657595, 99.52416899590361, 99.72936979759262, 99.91715585693774, 100.0, 100.0, 100.0, 100.0, 100.0, 100.0, 100.0, 100.0, 100.0, 100.0, 100.0]}],\n",
       "                        {\"annotations\": [{\"showarrow\": false, \"text\": \"Explained Variance\", \"x\": 1.16, \"xref\": \"paper\", \"y\": 1.05, \"yref\": \"paper\"}], \"template\": {\"data\": {\"bar\": [{\"error_x\": {\"color\": \"#2a3f5f\"}, \"error_y\": {\"color\": \"#2a3f5f\"}, \"marker\": {\"line\": {\"color\": \"#E5ECF6\", \"width\": 0.5}}, \"type\": \"bar\"}], \"barpolar\": [{\"marker\": {\"line\": {\"color\": \"#E5ECF6\", \"width\": 0.5}}, \"type\": \"barpolar\"}], \"carpet\": [{\"aaxis\": {\"endlinecolor\": \"#2a3f5f\", \"gridcolor\": \"white\", \"linecolor\": \"white\", \"minorgridcolor\": \"white\", \"startlinecolor\": \"#2a3f5f\"}, \"baxis\": {\"endlinecolor\": \"#2a3f5f\", \"gridcolor\": \"white\", \"linecolor\": \"white\", \"minorgridcolor\": \"white\", \"startlinecolor\": \"#2a3f5f\"}, \"type\": \"carpet\"}], \"choropleth\": [{\"colorbar\": {\"outlinewidth\": 0, \"ticks\": \"\"}, \"type\": \"choropleth\"}], \"contour\": [{\"colorbar\": {\"outlinewidth\": 0, \"ticks\": \"\"}, \"colorscale\": [[0.0, \"#0d0887\"], [0.1111111111111111, \"#46039f\"], [0.2222222222222222, \"#7201a8\"], [0.3333333333333333, \"#9c179e\"], [0.4444444444444444, \"#bd3786\"], [0.5555555555555556, \"#d8576b\"], [0.6666666666666666, \"#ed7953\"], [0.7777777777777778, \"#fb9f3a\"], [0.8888888888888888, \"#fdca26\"], [1.0, \"#f0f921\"]], \"type\": \"contour\"}], \"contourcarpet\": [{\"colorbar\": {\"outlinewidth\": 0, \"ticks\": \"\"}, \"type\": \"contourcarpet\"}], \"heatmap\": [{\"colorbar\": {\"outlinewidth\": 0, \"ticks\": \"\"}, \"colorscale\": [[0.0, \"#0d0887\"], [0.1111111111111111, \"#46039f\"], [0.2222222222222222, \"#7201a8\"], [0.3333333333333333, \"#9c179e\"], [0.4444444444444444, \"#bd3786\"], [0.5555555555555556, \"#d8576b\"], [0.6666666666666666, \"#ed7953\"], [0.7777777777777778, \"#fb9f3a\"], [0.8888888888888888, \"#fdca26\"], [1.0, \"#f0f921\"]], \"type\": \"heatmap\"}], \"heatmapgl\": [{\"colorbar\": {\"outlinewidth\": 0, \"ticks\": \"\"}, \"colorscale\": [[0.0, \"#0d0887\"], [0.1111111111111111, \"#46039f\"], [0.2222222222222222, \"#7201a8\"], [0.3333333333333333, \"#9c179e\"], [0.4444444444444444, \"#bd3786\"], [0.5555555555555556, \"#d8576b\"], [0.6666666666666666, \"#ed7953\"], [0.7777777777777778, \"#fb9f3a\"], [0.8888888888888888, \"#fdca26\"], [1.0, \"#f0f921\"]], \"type\": \"heatmapgl\"}], \"histogram\": [{\"marker\": {\"colorbar\": {\"outlinewidth\": 0, \"ticks\": \"\"}}, \"type\": \"histogram\"}], \"histogram2d\": [{\"colorbar\": {\"outlinewidth\": 0, \"ticks\": \"\"}, \"colorscale\": [[0.0, \"#0d0887\"], [0.1111111111111111, \"#46039f\"], [0.2222222222222222, \"#7201a8\"], [0.3333333333333333, \"#9c179e\"], [0.4444444444444444, \"#bd3786\"], [0.5555555555555556, \"#d8576b\"], [0.6666666666666666, \"#ed7953\"], [0.7777777777777778, \"#fb9f3a\"], [0.8888888888888888, \"#fdca26\"], [1.0, \"#f0f921\"]], \"type\": \"histogram2d\"}], \"histogram2dcontour\": [{\"colorbar\": {\"outlinewidth\": 0, \"ticks\": \"\"}, \"colorscale\": [[0.0, \"#0d0887\"], [0.1111111111111111, \"#46039f\"], [0.2222222222222222, \"#7201a8\"], [0.3333333333333333, \"#9c179e\"], [0.4444444444444444, \"#bd3786\"], [0.5555555555555556, \"#d8576b\"], [0.6666666666666666, \"#ed7953\"], [0.7777777777777778, \"#fb9f3a\"], [0.8888888888888888, \"#fdca26\"], [1.0, \"#f0f921\"]], \"type\": \"histogram2dcontour\"}], \"mesh3d\": [{\"colorbar\": {\"outlinewidth\": 0, \"ticks\": \"\"}, \"type\": \"mesh3d\"}], \"parcoords\": [{\"line\": {\"colorbar\": {\"outlinewidth\": 0, \"ticks\": \"\"}}, \"type\": \"parcoords\"}], \"pie\": [{\"automargin\": true, \"type\": \"pie\"}], \"scatter\": [{\"marker\": {\"colorbar\": {\"outlinewidth\": 0, \"ticks\": \"\"}}, \"type\": \"scatter\"}], \"scatter3d\": [{\"line\": {\"colorbar\": {\"outlinewidth\": 0, \"ticks\": \"\"}}, \"marker\": {\"colorbar\": {\"outlinewidth\": 0, \"ticks\": \"\"}}, \"type\": \"scatter3d\"}], \"scattercarpet\": [{\"marker\": {\"colorbar\": {\"outlinewidth\": 0, \"ticks\": \"\"}}, \"type\": \"scattercarpet\"}], \"scattergeo\": [{\"marker\": {\"colorbar\": {\"outlinewidth\": 0, \"ticks\": \"\"}}, \"type\": \"scattergeo\"}], \"scattergl\": [{\"marker\": {\"colorbar\": {\"outlinewidth\": 0, \"ticks\": \"\"}}, \"type\": \"scattergl\"}], \"scattermapbox\": [{\"marker\": {\"colorbar\": {\"outlinewidth\": 0, \"ticks\": \"\"}}, \"type\": \"scattermapbox\"}], \"scatterpolar\": [{\"marker\": {\"colorbar\": {\"outlinewidth\": 0, \"ticks\": \"\"}}, \"type\": \"scatterpolar\"}], \"scatterpolargl\": [{\"marker\": {\"colorbar\": {\"outlinewidth\": 0, \"ticks\": \"\"}}, \"type\": \"scatterpolargl\"}], \"scatterternary\": [{\"marker\": {\"colorbar\": {\"outlinewidth\": 0, \"ticks\": \"\"}}, \"type\": \"scatterternary\"}], \"surface\": [{\"colorbar\": {\"outlinewidth\": 0, \"ticks\": \"\"}, \"colorscale\": [[0.0, \"#0d0887\"], [0.1111111111111111, \"#46039f\"], [0.2222222222222222, \"#7201a8\"], [0.3333333333333333, \"#9c179e\"], [0.4444444444444444, \"#bd3786\"], [0.5555555555555556, \"#d8576b\"], [0.6666666666666666, \"#ed7953\"], [0.7777777777777778, \"#fb9f3a\"], [0.8888888888888888, \"#fdca26\"], [1.0, \"#f0f921\"]], \"type\": \"surface\"}], \"table\": [{\"cells\": {\"fill\": {\"color\": \"#EBF0F8\"}, \"line\": {\"color\": \"white\"}}, \"header\": {\"fill\": {\"color\": \"#C8D4E3\"}, \"line\": {\"color\": \"white\"}}, \"type\": \"table\"}]}, \"layout\": {\"annotationdefaults\": {\"arrowcolor\": \"#2a3f5f\", \"arrowhead\": 0, \"arrowwidth\": 1}, \"coloraxis\": {\"colorbar\": {\"outlinewidth\": 0, \"ticks\": \"\"}}, \"colorscale\": {\"diverging\": [[0, \"#8e0152\"], [0.1, \"#c51b7d\"], [0.2, \"#de77ae\"], [0.3, \"#f1b6da\"], [0.4, \"#fde0ef\"], [0.5, \"#f7f7f7\"], [0.6, \"#e6f5d0\"], [0.7, \"#b8e186\"], [0.8, \"#7fbc41\"], [0.9, \"#4d9221\"], [1, \"#276419\"]], \"sequential\": [[0.0, \"#0d0887\"], [0.1111111111111111, \"#46039f\"], [0.2222222222222222, \"#7201a8\"], [0.3333333333333333, \"#9c179e\"], [0.4444444444444444, \"#bd3786\"], [0.5555555555555556, \"#d8576b\"], [0.6666666666666666, \"#ed7953\"], [0.7777777777777778, \"#fb9f3a\"], [0.8888888888888888, \"#fdca26\"], [1.0, \"#f0f921\"]], \"sequentialminus\": [[0.0, \"#0d0887\"], [0.1111111111111111, \"#46039f\"], [0.2222222222222222, \"#7201a8\"], [0.3333333333333333, \"#9c179e\"], [0.4444444444444444, \"#bd3786\"], [0.5555555555555556, \"#d8576b\"], [0.6666666666666666, \"#ed7953\"], [0.7777777777777778, \"#fb9f3a\"], [0.8888888888888888, \"#fdca26\"], [1.0, \"#f0f921\"]]}, \"colorway\": [\"#636efa\", \"#EF553B\", \"#00cc96\", \"#ab63fa\", \"#FFA15A\", \"#19d3f3\", \"#FF6692\", \"#B6E880\", \"#FF97FF\", \"#FECB52\"], \"font\": {\"color\": \"#2a3f5f\"}, \"geo\": {\"bgcolor\": \"white\", \"lakecolor\": \"white\", \"landcolor\": \"#E5ECF6\", \"showlakes\": true, \"showland\": true, \"subunitcolor\": \"white\"}, \"hoverlabel\": {\"align\": \"left\"}, \"hovermode\": \"closest\", \"mapbox\": {\"style\": \"light\"}, \"paper_bgcolor\": \"white\", \"plot_bgcolor\": \"#E5ECF6\", \"polar\": {\"angularaxis\": {\"gridcolor\": \"white\", \"linecolor\": \"white\", \"ticks\": \"\"}, \"bgcolor\": \"#E5ECF6\", \"radialaxis\": {\"gridcolor\": \"white\", \"linecolor\": \"white\", \"ticks\": \"\"}}, \"scene\": {\"xaxis\": {\"backgroundcolor\": \"#E5ECF6\", \"gridcolor\": \"white\", \"gridwidth\": 2, \"linecolor\": \"white\", \"showbackground\": true, \"ticks\": \"\", \"zerolinecolor\": \"white\"}, \"yaxis\": {\"backgroundcolor\": \"#E5ECF6\", \"gridcolor\": \"white\", \"gridwidth\": 2, \"linecolor\": \"white\", \"showbackground\": true, \"ticks\": \"\", \"zerolinecolor\": \"white\"}, \"zaxis\": {\"backgroundcolor\": \"#E5ECF6\", \"gridcolor\": \"white\", \"gridwidth\": 2, \"linecolor\": \"white\", \"showbackground\": true, \"ticks\": \"\", \"zerolinecolor\": \"white\"}}, \"shapedefaults\": {\"line\": {\"color\": \"#2a3f5f\"}}, \"ternary\": {\"aaxis\": {\"gridcolor\": \"white\", \"linecolor\": \"white\", \"ticks\": \"\"}, \"baxis\": {\"gridcolor\": \"white\", \"linecolor\": \"white\", \"ticks\": \"\"}, \"bgcolor\": \"#E5ECF6\", \"caxis\": {\"gridcolor\": \"white\", \"linecolor\": \"white\", \"ticks\": \"\"}}, \"title\": {\"x\": 0.05}, \"xaxis\": {\"automargin\": true, \"gridcolor\": \"white\", \"linecolor\": \"white\", \"ticks\": \"\", \"title\": {\"standoff\": 15}, \"zerolinecolor\": \"white\", \"zerolinewidth\": 2}, \"yaxis\": {\"automargin\": true, \"gridcolor\": \"white\", \"linecolor\": \"white\", \"ticks\": \"\", \"title\": {\"standoff\": 15}, \"zerolinecolor\": \"white\", \"zerolinewidth\": 2}}}, \"title\": {\"text\": \"Explained variance by different principal components\"}, \"yaxis\": {\"title\": {\"text\": \"Explained variance in percent\"}}},\n",
       "                        {\"responsive\": true}\n",
       "                    ).then(function(){\n",
       "                            \n",
       "var gd = document.getElementById('33d90098-6e68-4993-ab41-dc716ba633f7');\n",
       "var x = new MutationObserver(function (mutations, observer) {{\n",
       "        var display = window.getComputedStyle(gd).display;\n",
       "        if (!display || display === 'none') {{\n",
       "            console.log([gd, 'removed!']);\n",
       "            Plotly.purge(gd);\n",
       "            observer.disconnect();\n",
       "        }}\n",
       "}});\n",
       "\n",
       "// Listen for the removal of the full notebook cells\n",
       "var notebookContainer = gd.closest('#notebook-container');\n",
       "if (notebookContainer) {{\n",
       "    x.observe(notebookContainer, {childList: true});\n",
       "}}\n",
       "\n",
       "// Listen for the clearing of the current output cell\n",
       "var outputEl = gd.closest('.output');\n",
       "if (outputEl) {{\n",
       "    x.observe(outputEl, {childList: true});\n",
       "}}\n",
       "\n",
       "                        })\n",
       "                };\n",
       "                });\n",
       "            </script>\n",
       "        </div>"
      ]
     },
     "metadata": {},
     "output_type": "display_data"
    }
   ],
   "source": [
    "tot = sum(pca.explained_variance_ratio_)\n",
    "var_exp = [(i / tot)*100 for i in sorted(pca.explained_variance_ratio_, reverse=True)]\n",
    "cum_var_exp = np.cumsum(var_exp)\n",
    "\n",
    "trace1 = dict(\n",
    "    type='bar',\n",
    "    x=['PC %s' %i for i in range(1,len(pca.explained_variance_ratio_)+1)],\n",
    "    y=var_exp,\n",
    "    name='Individual'\n",
    ")\n",
    "\n",
    "trace2 = dict(\n",
    "    type='scatter',\n",
    "    x=['PC %s' %i for i in range(1,len(pca.explained_variance_ratio_)+1)], \n",
    "    y=cum_var_exp,\n",
    "    name='Cumulative'\n",
    ")\n",
    "\n",
    "data = [trace1, trace2]\n",
    "\n",
    "layout=dict(\n",
    "    title='Explained variance by different principal components',\n",
    "    yaxis=dict(\n",
    "        title='Explained variance in percent'\n",
    "    ),\n",
    "    annotations=list([\n",
    "        dict(\n",
    "            x=1.16,\n",
    "            y=1.05,\n",
    "            xref='paper',\n",
    "            yref='paper',\n",
    "            text='Explained Variance',\n",
    "            showarrow=False,\n",
    "        )\n",
    "    ])\n",
    ")\n",
    "\n",
    "fig = dict(data=data, layout=layout)\n",
    "plotly.offline.iplot(fig)"
   ]
  },
  {
   "cell_type": "code",
   "execution_count": null,
   "metadata": {},
   "outputs": [],
   "source": []
  }
 ],
 "metadata": {
  "kernelspec": {
   "display_name": "Python 3",
   "language": "python",
   "name": "python3"
  },
  "language_info": {
   "codemirror_mode": {
    "name": "ipython",
    "version": 3
   },
   "file_extension": ".py",
   "mimetype": "text/x-python",
   "name": "python",
   "nbconvert_exporter": "python",
   "pygments_lexer": "ipython3",
   "version": "3.7.3"
  }
 },
 "nbformat": 4,
 "nbformat_minor": 2
}
