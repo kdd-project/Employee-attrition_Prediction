{
 "cells": [
  {
   "cell_type": "code",
   "execution_count": 95,
   "metadata": {},
   "outputs": [],
   "source": [
    "import numpy as np\n",
    "import pandas as pd\n",
    "from sklearn.preprocessing import StandardScaler\n",
    "from sklearn.preprocessing import LabelEncoder\n",
    "from sklearn.decomposition import PCA\n",
    "from matplotlib import pyplot as plt\n",
    "import plotly"
   ]
  },
  {
   "cell_type": "code",
   "execution_count": 96,
   "metadata": {},
   "outputs": [],
   "source": [
    " np.set_printoptions(formatter={'float': lambda x: \"{0:0.3f}\".format(x)})"
   ]
  },
  {
   "cell_type": "code",
   "execution_count": 97,
   "metadata": {},
   "outputs": [],
   "source": [
    "df=pd.read_csv(r\"../data/attrition_data.csv\")\n",
    "df.drop(['TERMINATION_YEAR'], axis = 1, inplace=True)\n",
    "df.drop(['EMP_ID'], axis = 1, inplace=True)\n",
    "df=df.replace({'STATUS': {'T': 1, 'A': 0}})"
   ]
  },
  {
   "cell_type": "code",
   "execution_count": 98,
   "metadata": {},
   "outputs": [],
   "source": [
    "x=df.drop(['STATUS'], axis=1)\n",
    "y=df['STATUS']"
   ]
  },
  {
   "cell_type": "code",
   "execution_count": 99,
   "metadata": {},
   "outputs": [],
   "source": [
    "x = pd.get_dummies(x, columns=['ETHNICITY', 'REFERRAL_SOURCE', 'SEX', 'MARITAL_STATUS', 'NUMBER_OF_TEAM_CHANGED', 'HIRE_MONTH', 'IS_FIRST_JOB', 'TRAVELLED_REQUIRED', 'DISABLED_EMP', 'DISABLED_VET', 'JOB_GROUP'])"
   ]
  },
  {
   "cell_type": "code",
   "execution_count": 100,
   "metadata": {},
   "outputs": [],
   "source": [
    "to_be_label_encoded = ['EDUCATION_LEVEL']\n",
    "label_encoder = LabelEncoder()\n",
    "for column in to_be_label_encoded:\n",
    "    x[column] = label_encoder.fit_transform(x[column])"
   ]
  },
  {
   "cell_type": "code",
   "execution_count": 101,
   "metadata": {},
   "outputs": [],
   "source": [
    "x = StandardScaler().fit_transform(x)"
   ]
  },
  {
   "cell_type": "code",
   "execution_count": 102,
   "metadata": {},
   "outputs": [],
   "source": [
    "pca = PCA()\n",
    "x_pca = pca.fit_transform(x)"
   ]
  },
  {
   "cell_type": "code",
   "execution_count": 103,
   "metadata": {},
   "outputs": [
    {
     "data": {
      "text/plain": [
       "array([0.028, 0.027, 0.017, 0.015, 0.015, 0.015, 0.015, 0.013, 0.013,\n",
       "       0.013, 0.010, 0.010, 0.009, 0.009, 0.009, 0.009, 0.009, 0.009,\n",
       "       0.009, 0.009, 0.009, 0.009, 0.009, 0.009, 0.009, 0.008, 0.008,\n",
       "       0.008, 0.008, 0.008, 0.008, 0.008, 0.008, 0.008, 0.008, 0.008,\n",
       "       0.008, 0.008, 0.008, 0.008, 0.008, 0.008, 0.008, 0.008, 0.008,\n",
       "       0.008, 0.008, 0.008, 0.008, 0.008, 0.008, 0.008, 0.008, 0.008,\n",
       "       0.008, 0.008, 0.008, 0.007, 0.007, 0.007, 0.007, 0.007, 0.007,\n",
       "       0.007, 0.007, 0.007, 0.007, 0.007, 0.007, 0.007, 0.007, 0.007,\n",
       "       0.007, 0.007, 0.007, 0.007, 0.007, 0.007, 0.007, 0.007, 0.007,\n",
       "       0.007, 0.007, 0.007, 0.007, 0.007, 0.007, 0.007, 0.007, 0.007,\n",
       "       0.007, 0.007, 0.007, 0.007, 0.007, 0.007, 0.007, 0.007, 0.007,\n",
       "       0.007, 0.007, 0.007, 0.007, 0.007, 0.007, 0.007, 0.007, 0.007,\n",
       "       0.007, 0.007, 0.007, 0.006, 0.006, 0.006, 0.006, 0.006, 0.005,\n",
       "       0.005, 0.003, 0.003, 0.002, 0.002, 0.002, 0.001, 0.000, 0.000,\n",
       "       0.000, 0.000, 0.000, 0.000, 0.000, 0.000, 0.000, 0.000, 0.000,\n",
       "       0.000])"
      ]
     },
     "execution_count": 103,
     "metadata": {},
     "output_type": "execute_result"
    }
   ],
   "source": [
    "explained_variance = pca.explained_variance_ratio_\n",
    "explained_variance"
   ]
  },
  {
   "cell_type": "code",
   "execution_count": 104,
   "metadata": {},
   "outputs": [
    {
     "data": {
      "image/png": "[encoded data removed]",
      "text/plain": [
       "<Figure size 432x288 with 1 Axes>"
      ]
     },
     "metadata": {
      "needs_background": "light"
     },
     "output_type": "display_data"
    }
   ],
   "source": [
    "plt.plot(np.cumsum(pca.explained_variance_ratio_))\n",
    "per_var = np.round(pca.explained_variance_ratio_ * 100, decimals=1)\n",
    "labels = ['PC' + str(x) for x in range(1, len(per_var) + 1)]\n",
    "plt.xlabel('number of components')\n",
    "plt.ylabel('cumulative explained variance')\n",
    "plt.show()"
   ]
  },
  {
   "cell_type": "code",
   "execution_count": 105,
   "metadata": {},
   "outputs": [
    {
     "data": {
      "text/html": [
       "<div>\n",
       "<style scoped>\n",
       "    .dataframe tbody tr th:only-of-type {\n",
       "        vertical-align: middle;\n",
       "    }\n",
       "\n",
       "    .dataframe tbody tr th {\n",
       "        vertical-align: top;\n",
       "    }\n",
       "\n",
       "    .dataframe thead th {\n",
       "        text-align: right;\n",
       "    }\n",
       "</style>\n",
       "<table border=\"1\" class=\"dataframe\">\n",
       "  <thead>\n",
       "    <tr style=\"text-align: right;\">\n",
       "      <th></th>\n",
       "      <th>PC1</th>\n",
       "      <th>PC2</th>\n",
       "      <th>PC3</th>\n",
       "      <th>PC4</th>\n",
       "      <th>PC5</th>\n",
       "      <th>PC6</th>\n",
       "      <th>PC7</th>\n",
       "      <th>PC8</th>\n",
       "      <th>PC9</th>\n",
       "      <th>PC10</th>\n",
       "      <th>...</th>\n",
       "      <th>PC128</th>\n",
       "      <th>PC129</th>\n",
       "      <th>PC130</th>\n",
       "      <th>PC131</th>\n",
       "      <th>PC132</th>\n",
       "      <th>PC133</th>\n",
       "      <th>PC134</th>\n",
       "      <th>PC135</th>\n",
       "      <th>PC136</th>\n",
       "      <th>STATUS</th>\n",
       "    </tr>\n",
       "  </thead>\n",
       "  <tbody>\n",
       "    <tr>\n",
       "      <th>0</th>\n",
       "      <td>-1.345171</td>\n",
       "      <td>2.739204</td>\n",
       "      <td>-0.118516</td>\n",
       "      <td>-0.617513</td>\n",
       "      <td>-0.593737</td>\n",
       "      <td>0.561247</td>\n",
       "      <td>-1.118240</td>\n",
       "      <td>0.471422</td>\n",
       "      <td>-1.761156</td>\n",
       "      <td>1.517118</td>\n",
       "      <td>...</td>\n",
       "      <td>8.305815e-16</td>\n",
       "      <td>-6.015465e-16</td>\n",
       "      <td>7.405867e-16</td>\n",
       "      <td>4.088003e-16</td>\n",
       "      <td>1.463834e-15</td>\n",
       "      <td>2.914304e-16</td>\n",
       "      <td>-3.785931e-18</td>\n",
       "      <td>-3.560855e-16</td>\n",
       "      <td>-3.697284e-17</td>\n",
       "      <td>1</td>\n",
       "    </tr>\n",
       "    <tr>\n",
       "      <th>1</th>\n",
       "      <td>4.504440</td>\n",
       "      <td>1.952104</td>\n",
       "      <td>-2.472234</td>\n",
       "      <td>0.821188</td>\n",
       "      <td>-1.627281</td>\n",
       "      <td>0.195825</td>\n",
       "      <td>1.913708</td>\n",
       "      <td>1.524088</td>\n",
       "      <td>3.694735</td>\n",
       "      <td>2.474853</td>\n",
       "      <td>...</td>\n",
       "      <td>2.190200e-16</td>\n",
       "      <td>4.740479e-16</td>\n",
       "      <td>-1.949962e-15</td>\n",
       "      <td>4.521061e-17</td>\n",
       "      <td>1.480215e-15</td>\n",
       "      <td>-1.415667e-16</td>\n",
       "      <td>4.075149e-16</td>\n",
       "      <td>8.640387e-16</td>\n",
       "      <td>-2.937007e-17</td>\n",
       "      <td>0</td>\n",
       "    </tr>\n",
       "    <tr>\n",
       "      <th>2</th>\n",
       "      <td>4.376256</td>\n",
       "      <td>2.710920</td>\n",
       "      <td>-2.960306</td>\n",
       "      <td>-1.364159</td>\n",
       "      <td>-1.003096</td>\n",
       "      <td>0.385654</td>\n",
       "      <td>-0.459900</td>\n",
       "      <td>0.602283</td>\n",
       "      <td>4.680560</td>\n",
       "      <td>0.434154</td>\n",
       "      <td>...</td>\n",
       "      <td>-1.918386e-16</td>\n",
       "      <td>-2.091507e-17</td>\n",
       "      <td>7.211801e-16</td>\n",
       "      <td>-1.564141e-15</td>\n",
       "      <td>1.459356e-15</td>\n",
       "      <td>-1.173372e-17</td>\n",
       "      <td>6.101128e-17</td>\n",
       "      <td>3.734092e-17</td>\n",
       "      <td>-2.058612e-17</td>\n",
       "      <td>0</td>\n",
       "    </tr>\n",
       "    <tr>\n",
       "      <th>3</th>\n",
       "      <td>-1.514456</td>\n",
       "      <td>-0.833589</td>\n",
       "      <td>0.979379</td>\n",
       "      <td>-1.756750</td>\n",
       "      <td>2.000073</td>\n",
       "      <td>0.811865</td>\n",
       "      <td>1.158389</td>\n",
       "      <td>-1.339610</td>\n",
       "      <td>0.080985</td>\n",
       "      <td>1.882390</td>\n",
       "      <td>...</td>\n",
       "      <td>-5.175152e-16</td>\n",
       "      <td>7.288312e-16</td>\n",
       "      <td>-3.106551e-15</td>\n",
       "      <td>4.658334e-15</td>\n",
       "      <td>-4.293983e-15</td>\n",
       "      <td>-1.943265e-16</td>\n",
       "      <td>1.515984e-15</td>\n",
       "      <td>-1.760848e-15</td>\n",
       "      <td>-2.056466e-16</td>\n",
       "      <td>1</td>\n",
       "    </tr>\n",
       "    <tr>\n",
       "      <th>4</th>\n",
       "      <td>2.408719</td>\n",
       "      <td>-0.140760</td>\n",
       "      <td>0.600899</td>\n",
       "      <td>-0.835958</td>\n",
       "      <td>-0.985533</td>\n",
       "      <td>0.021280</td>\n",
       "      <td>-1.120288</td>\n",
       "      <td>-0.883616</td>\n",
       "      <td>-0.573787</td>\n",
       "      <td>2.341680</td>\n",
       "      <td>...</td>\n",
       "      <td>5.712481e-15</td>\n",
       "      <td>-2.208472e-16</td>\n",
       "      <td>-2.223656e-15</td>\n",
       "      <td>-4.232801e-15</td>\n",
       "      <td>-6.221514e-17</td>\n",
       "      <td>-4.894329e-16</td>\n",
       "      <td>-2.347978e-16</td>\n",
       "      <td>2.504256e-16</td>\n",
       "      <td>7.829063e-17</td>\n",
       "      <td>0</td>\n",
       "    </tr>\n",
       "  </tbody>\n",
       "</table>\n",
       "<p>5 rows × 137 columns</p>\n",
       "</div>"
      ],
      "text/plain": [
       "        PC1       PC2       PC3       PC4       PC5       PC6       PC7  \\\n",
       "0 -1.345171  2.739204 -0.118516 -0.617513 -0.593737  0.561247 -1.118240   \n",
       "1  4.504440  1.952104 -2.472234  0.821188 -1.627281  0.195825  1.913708   \n",
       "2  4.376256  2.710920 -2.960306 -1.364159 -1.003096  0.385654 -0.459900   \n",
       "3 -1.514456 -0.833589  0.979379 -1.756750  2.000073  0.811865  1.158389   \n",
       "4  2.408719 -0.140760  0.600899 -0.835958 -0.985533  0.021280 -1.120288   \n",
       "\n",
       "        PC8       PC9      PC10  ...         PC128         PC129  \\\n",
       "0  0.471422 -1.761156  1.517118  ...  8.305815e-16 -6.015465e-16   \n",
       "1  1.524088  3.694735  2.474853  ...  2.190200e-16  4.740479e-16   \n",
       "2  0.602283  4.680560  0.434154  ... -1.918386e-16 -2.091507e-17   \n",
       "3 -1.339610  0.080985  1.882390  ... -5.175152e-16  7.288312e-16   \n",
       "4 -0.883616 -0.573787  2.341680  ...  5.712481e-15 -2.208472e-16   \n",
       "\n",
       "          PC130         PC131         PC132         PC133         PC134  \\\n",
       "0  7.405867e-16  4.088003e-16  1.463834e-15  2.914304e-16 -3.785931e-18   \n",
       "1 -1.949962e-15  4.521061e-17  1.480215e-15 -1.415667e-16  4.075149e-16   \n",
       "2  7.211801e-16 -1.564141e-15  1.459356e-15 -1.173372e-17  6.101128e-17   \n",
       "3 -3.106551e-15  4.658334e-15 -4.293983e-15 -1.943265e-16  1.515984e-15   \n",
       "4 -2.223656e-15 -4.232801e-15 -6.221514e-17 -4.894329e-16 -2.347978e-16   \n",
       "\n",
       "          PC135         PC136  STATUS  \n",
       "0 -3.560855e-16 -3.697284e-17       1  \n",
       "1  8.640387e-16 -2.937007e-17       0  \n",
       "2  3.734092e-17 -2.058612e-17       0  \n",
       "3 -1.760848e-15 -2.056466e-16       1  \n",
       "4  2.504256e-16  7.829063e-17       0  \n",
       "\n",
       "[5 rows x 137 columns]"
      ]
     },
     "execution_count": 105,
     "metadata": {},
     "output_type": "execute_result"
    }
   ],
   "source": [
    "X_pca = pd.DataFrame(x_pca)\n",
    "X_pca['STATUS']=y\n",
    "columns = []\n",
    "for i in range(0, len(explained_variance)):\n",
    "    columns.append('PC'+str(i+1))\n",
    "columns.append('STATUS')\n",
    "X_pca.columns = columns\n",
    "X_pca.head()"
   ]
  },
  {
   "cell_type": "code",
   "execution_count": 106,
   "metadata": {},
   "outputs": [],
   "source": [
    "target_names = np.unique(y)"
   ]
  },
  {
   "cell_type": "code",
   "execution_count": 107,
   "metadata": {
    "scrolled": false
   },
   "outputs": [
    {
     "data": {
      "image/png": "[encoded data removed]",
      "text/plain": [
       "<Figure size 504x504 with 1 Axes>"
      ]
     },
     "metadata": {
      "needs_background": "light"
     },
     "output_type": "display_data"
    }
   ],
   "source": [
    "colors = ['blue', 'red']\n",
    "plt.figure(1, figsize=(7, 7))\n",
    "\n",
    "for color, i, target_name in zip(colors, [0, 1], target_names):\n",
    "    plt.scatter(x_pca[y == i, 0], x_pca[y == i, 1], color=color, s=1,\n",
    "                alpha=.8, label=target_name, marker='.')\n",
    "plt.legend(loc='best', shadow=False, scatterpoints=3)\n",
    "plt.title(\n",
    "        \"Scatter plot of the data projected on the 1st \"\n",
    "        \"and 2nd principal components\")\n",
    "plt.xlabel(\"Principal axis 1 - Explains %.1f %% of the variance\" % (\n",
    "        pca.explained_variance_ratio_[0] * 100.0))\n",
    "plt.ylabel(\"Principal axis 2 - Explains %.1f %% of the variance\" % (\n",
    "        pca.explained_variance_ratio_[1] * 100.0))\n",
    "\n",
    "plt.savefig('pca.png', dpi=150)\n",
    "plt.show()"
   ]
  },
  {
   "cell_type": "code",
   "execution_count": 108,
   "metadata": {},
   "outputs": [
    {
     "data": {
      "application/vnd.plotly.v1+json": {
       "config": {
        "linkText": "Export to plot.ly",
        "plotlyServerURL": "https://plot.ly",
        "showLink": false
       },
       "data": [
        {
         "name": "Individual",
         "type": "bar",
         "x": [
          "PC 1",
          "PC 2",
          "PC 3",
          "PC 4",
          "PC 5",
          "PC 6",
          "PC 7",
          "PC 8",
          "PC 9",
          "PC 10",
          "PC 11",
          "PC 12",
          "PC 13",
          "PC 14",
          "PC 15",
          "PC 16",
          "PC 17",
          "PC 18",
          "PC 19",
          "PC 20",
          "PC 21",
          "PC 22",
          "PC 23",
          "PC 24",
          "PC 25",
          "PC 26",
          "PC 27",
          "PC 28",
          "PC 29",
          "PC 30",
          "PC 31",
          "PC 32",
          "PC 33",
          "PC 34",
          "PC 35",
          "PC 36",
          "PC 37",
          "PC 38",
          "PC 39",
          "PC 40",
          "PC 41",
          "PC 42",
          "PC 43",
          "PC 44",
          "PC 45",
          "PC 46",
          "PC 47",
          "PC 48",
          "PC 49",
          "PC 50",
          "PC 51",
          "PC 52",
          "PC 53",
          "PC 54",
          "PC 55",
          "PC 56",
          "PC 57",
          "PC 58",
          "PC 59",
          "PC 60",
          "PC 61",
          "PC 62",
          "PC 63",
          "PC 64",
          "PC 65",
          "PC 66",
          "PC 67",
          "PC 68",
          "PC 69",
          "PC 70",
          "PC 71",
          "PC 72",
          "PC 73",
          "PC 74",
          "PC 75",
          "PC 76",
          "PC 77",
          "PC 78",
          "PC 79",
          "PC 80",
          "PC 81",
          "PC 82",
          "PC 83",
          "PC 84",
          "PC 85",
          "PC 86",
          "PC 87",
          "PC 88",
          "PC 89",
          "PC 90",
          "PC 91",
          "PC 92",
          "PC 93",
          "PC 94",
          "PC 95",
          "PC 96",
          "PC 97",
          "PC 98",
          "PC 99",
          "PC 100",
          "PC 101",
          "PC 102",
          "PC 103",
          "PC 104",
          "PC 105",
          "PC 106",
          "PC 107",
          "PC 108",
          "PC 109",
          "PC 110",
          "PC 111",
          "PC 112",
          "PC 113",
          "PC 114",
          "PC 115",
          "PC 116",
          "PC 117",
          "PC 118",
          "PC 119",
          "PC 120",
          "PC 121",
          "PC 122",
          "PC 123",
          "PC 124",
          "PC 125",
          "PC 126",
          "PC 127",
          "PC 128",
          "PC 129",
          "PC 130",
          "PC 131",
          "PC 132",
          "PC 133",
          "PC 134",
          "PC 135",
          "PC 136"
         ],
         "y": [
          2.8127742082946905,
          2.7384564050833804,
          1.7293274901199827,
          1.526242456538462,
          1.4959389855456762,
          1.4785950309915954,
          1.459577200140942,
          1.2821780328574455,
          1.2696198051786753,
          1.2568760047944803,
          1.0142829160592381,
          0.9645141295604392,
          0.9348198763600083,
          0.9231492831130956,
          0.8995500019722744,
          0.892482504301895,
          0.888312066388538,
          0.8836830355925878,
          0.8743492274928273,
          0.8702945606820297,
          0.8653765182013927,
          0.8620796653538182,
          0.8608846404324424,
          0.8558774508258242,
          0.8506437865610734,
          0.8474986259033868,
          0.8436231805734185,
          0.8391183663928974,
          0.8374991897503049,
          0.8313139353156571,
          0.8261399424747271,
          0.8249201412524936,
          0.8218076266931351,
          0.8209808101204616,
          0.8182691422164857,
          0.8137164382973503,
          0.8115561560659373,
          0.8070802717874522,
          0.8043796672827178,
          0.8006029090989522,
          0.797793716509277,
          0.7925309499566112,
          0.7918995308255918,
          0.7908801565902464,
          0.7895931199944944,
          0.7853401024168536,
          0.7834743099406917,
          0.7814547625189289,
          0.7757755608369739,
          0.7729915749429537,
          0.7703379471050015,
          0.7673292543600633,
          0.7624852288757216,
          0.7581219281537649,
          0.7564594125642783,
          0.7522352756272624,
          0.7515599499824364,
          0.749998109193796,
          0.7481424339782056,
          0.7463519188167282,
          0.745707132418675,
          0.7448182312648479,
          0.7432900720986844,
          0.7425712183260851,
          0.7417539236456598,
          0.7412688311963478,
          0.7403399023905753,
          0.7398583946424773,
          0.7395873554301495,
          0.7389803748022822,
          0.7382190674655826,
          0.737850922644095,
          0.7369021197307632,
          0.7366901310479999,
          0.7351161797902522,
          0.7345592681821353,
          0.733260862220935,
          0.7317609694314369,
          0.7316650590408565,
          0.7306051401838485,
          0.728725493152674,
          0.7277458407725063,
          0.7253164307305959,
          0.7243308643425026,
          0.7221854968934498,
          0.7211609451383243,
          0.7198133290488785,
          0.7168714692106299,
          0.7145013152752718,
          0.7125527153970643,
          0.7101915692237017,
          0.7083314405216901,
          0.7061817704587801,
          0.7038312839187296,
          0.7016703638673589,
          0.7015270983556579,
          0.6952107359232187,
          0.6932668968484991,
          0.6912689614470547,
          0.6898648538744834,
          0.6886096325861731,
          0.6821223719042917,
          0.6797638022503971,
          0.6765416740143984,
          0.6748504451236569,
          0.6713232517457342,
          0.6668294473329024,
          0.6622275201986826,
          0.6583909053259941,
          0.6546861361815273,
          0.650458483155562,
          0.6451143536997347,
          0.6377272318348909,
          0.6312559506789658,
          0.6037685939886205,
          0.5647342429603476,
          0.5393812433298841,
          0.4858241498121755,
          0.3198102105845473,
          0.2963523808193484,
          0.22583050426625575,
          0.17448416695645205,
          0.1597110094648434,
          0.07037743191013626,
          0.035482700693678544,
          0.001841199967956691,
          5.5472190198276475e-31,
          3.598330756393874e-31,
          1.9277854616961025e-31,
          1.7741536580972388e-31,
          1.4667095982554013e-31,
          9.282238055593758e-32,
          2.9507012731267915e-32,
          1.9513370462829217e-32,
          1.3299357804870296e-32,
          5.04286556530587e-34
         ]
        },
        {
         "name": "Cumulative",
         "type": "scatter",
         "x": [
          "PC 1",
          "PC 2",
          "PC 3",
          "PC 4",
          "PC 5",
          "PC 6",
          "PC 7",
          "PC 8",
          "PC 9",
          "PC 10",
          "PC 11",
          "PC 12",
          "PC 13",
          "PC 14",
          "PC 15",
          "PC 16",
          "PC 17",
          "PC 18",
          "PC 19",
          "PC 20",
          "PC 21",
          "PC 22",
          "PC 23",
          "PC 24",
          "PC 25",
          "PC 26",
          "PC 27",
          "PC 28",
          "PC 29",
          "PC 30",
          "PC 31",
          "PC 32",
          "PC 33",
          "PC 34",
          "PC 35",
          "PC 36",
          "PC 37",
          "PC 38",
          "PC 39",
          "PC 40",
          "PC 41",
          "PC 42",
          "PC 43",
          "PC 44",
          "PC 45",
          "PC 46",
          "PC 47",
          "PC 48",
          "PC 49",
          "PC 50",
          "PC 51",
          "PC 52",
          "PC 53",
          "PC 54",
          "PC 55",
          "PC 56",
          "PC 57",
          "PC 58",
          "PC 59",
          "PC 60",
          "PC 61",
          "PC 62",
          "PC 63",
          "PC 64",
          "PC 65",
          "PC 66",
          "PC 67",
          "PC 68",
          "PC 69",
          "PC 70",
          "PC 71",
          "PC 72",
          "PC 73",
          "PC 74",
          "PC 75",
          "PC 76",
          "PC 77",
          "PC 78",
          "PC 79",
          "PC 80",
          "PC 81",
          "PC 82",
          "PC 83",
          "PC 84",
          "PC 85",
          "PC 86",
          "PC 87",
          "PC 88",
          "PC 89",
          "PC 90",
          "PC 91",
          "PC 92",
          "PC 93",
          "PC 94",
          "PC 95",
          "PC 96",
          "PC 97",
          "PC 98",
          "PC 99",
          "PC 100",
          "PC 101",
          "PC 102",
          "PC 103",
          "PC 104",
          "PC 105",
          "PC 106",
          "PC 107",
          "PC 108",
          "PC 109",
          "PC 110",
          "PC 111",
          "PC 112",
          "PC 113",
          "PC 114",
          "PC 115",
          "PC 116",
          "PC 117",
          "PC 118",
          "PC 119",
          "PC 120",
          "PC 121",
          "PC 122",
          "PC 123",
          "PC 124",
          "PC 125",
          "PC 126",
          "PC 127",
          "PC 128",
          "PC 129",
          "PC 130",
          "PC 131",
          "PC 132",
          "PC 133",
          "PC 134",
          "PC 135",
          "PC 136"
         ],
         "y": [
          2.8127742082946905,
          5.5512306133780704,
          7.280558103498053,
          8.806800560036514,
          10.30273954558219,
          11.781334576573785,
          13.240911776714727,
          14.523089809572172,
          15.792709614750848,
          17.04958561954533,
          18.063868535604566,
          19.028382665165005,
          19.963202541525014,
          20.88635182463811,
          21.785901826610385,
          22.67838433091228,
          23.566696397300817,
          24.450379432893403,
          25.32472866038623,
          26.19502322106826,
          27.060399739269656,
          27.922479404623473,
          28.783364045055915,
          29.63924149588174,
          30.489885282442813,
          31.3373839083462,
          32.18100708891962,
          33.02012545531252,
          33.85762464506282,
          34.688938580378476,
          35.5150785228532,
          36.33999866410569,
          37.16180629079883,
          37.98278710091929,
          38.801056243135776,
          39.614772681433124,
          40.426328837499064,
          41.23340910928652,
          42.037788776569236,
          42.838391685668185,
          43.63618540217746,
          44.428716352134074,
          45.22061588295966,
          46.01149603954991,
          46.801089159544404,
          47.58642926196126,
          48.36990357190195,
          49.15135833442088,
          49.92713389525785,
          50.70012547020081,
          51.47046341730581,
          52.23779267166587,
          53.00027790054159,
          53.75839982869535,
          54.51485924125963,
          55.26709451688689,
          56.01865446686933,
          56.768652576063126,
          57.51679501004133,
          58.263146928858056,
          59.00885406127673,
          59.75367229254158,
          60.49696236464027,
          61.23953358296635,
          61.98128750661201,
          62.72255633780836,
          63.46289624019894,
          64.20275463484141,
          64.94234199027156,
          65.68132236507384,
          66.41954143253942,
          67.15739235518352,
          67.89429447491428,
          68.63098460596227,
          69.36610078575252,
          70.10066005393466,
          70.83392091615559,
          71.56568188558703,
          72.29734694462788,
          73.02795208481173,
          73.75667757796441,
          74.48442341873691,
          75.20973984946751,
          75.93407071381002,
          76.65625621070346,
          77.37741715584178,
          78.09723048489066,
          78.81410195410129,
          79.52860326937656,
          80.24115598477363,
          80.95134755399732,
          81.65967899451901,
          82.3658607649778,
          83.06969204889653,
          83.77136241276389,
          84.47288951111955,
          85.16810024704276,
          85.86136714389126,
          86.55263610533831,
          87.24250095921279,
          87.93111059179897,
          88.61323296370325,
          89.29299676595365,
          89.96953843996805,
          90.6443888850917,
          91.31571213683743,
          91.98254158417033,
          92.64476910436902,
          93.303160009695,
          93.95784614587653,
          94.60830462903209,
          95.25341898273183,
          95.89114621456672,
          96.52240216524568,
          97.1261707592343,
          97.69090500219464,
          98.23028624552452,
          98.7161103953367,
          99.03592060592125,
          99.33227298674059,
          99.55810349100685,
          99.7325876579633,
          99.89229866742814,
          99.96267609933827,
          99.99815880003194,
          99.9999999999999,
          99.9999999999999,
          99.9999999999999,
          99.9999999999999,
          99.9999999999999,
          99.9999999999999,
          99.9999999999999,
          99.9999999999999,
          99.9999999999999,
          99.9999999999999,
          99.9999999999999
         ]
        }
       ],
       "layout": {
        "annotations": [
         {
          "showarrow": false,
          "text": "Explained Variance",
          "x": 1.16,
          "xref": "paper",
          "y": 1.05,
          "yref": "paper"
         }
        ],
        "template": {
         "data": {
          "bar": [
           {
            "error_x": {
             "color": "#2a3f5f"
            },
            "error_y": {
             "color": "#2a3f5f"
            },
            "marker": {
             "line": {
              "color": "#E5ECF6",
              "width": 0.5
             }
            },
            "type": "bar"
           }
          ],
          "barpolar": [
           {
            "marker": {
             "line": {
              "color": "#E5ECF6",
              "width": 0.5
             }
            },
            "type": "barpolar"
           }
          ],
          "carpet": [
           {
            "aaxis": {
             "endlinecolor": "#2a3f5f",
             "gridcolor": "white",
             "linecolor": "white",
             "minorgridcolor": "white",
             "startlinecolor": "#2a3f5f"
            },
            "baxis": {
             "endlinecolor": "#2a3f5f",
             "gridcolor": "white",
             "linecolor": "white",
             "minorgridcolor": "white",
             "startlinecolor": "#2a3f5f"
            },
            "type": "carpet"
           }
          ],
          "choropleth": [
           {
            "colorbar": {
             "outlinewidth": 0,
             "ticks": ""
            },
            "type": "choropleth"
           }
          ],
          "contour": [
           {
            "colorbar": {
             "outlinewidth": 0,
             "ticks": ""
            },
            "colorscale": [
             [
              0,
              "#0d0887"
             ],
             [
              0.1111111111111111,
              "#46039f"
             ],
             [
              0.2222222222222222,
              "#7201a8"
             ],
             [
              0.3333333333333333,
              "#9c179e"
             ],
             [
              0.4444444444444444,
              "#bd3786"
             ],
             [
              0.5555555555555556,
              "#d8576b"
             ],
             [
              0.6666666666666666,
              "#ed7953"
             ],
             [
              0.7777777777777778,
              "#fb9f3a"
             ],
             [
              0.8888888888888888,
              "#fdca26"
             ],
             [
              1,
              "#f0f921"
             ]
            ],
            "type": "contour"
           }
          ],
          "contourcarpet": [
           {
            "colorbar": {
             "outlinewidth": 0,
             "ticks": ""
            },
            "type": "contourcarpet"
           }
          ],
          "heatmap": [
           {
            "colorbar": {
             "outlinewidth": 0,
             "ticks": ""
            },
            "colorscale": [
             [
              0,
              "#0d0887"
             ],
             [
              0.1111111111111111,
              "#46039f"
             ],
             [
              0.2222222222222222,
              "#7201a8"
             ],
             [
              0.3333333333333333,
              "#9c179e"
             ],
             [
              0.4444444444444444,
              "#bd3786"
             ],
             [
              0.5555555555555556,
              "#d8576b"
             ],
             [
              0.6666666666666666,
              "#ed7953"
             ],
             [
              0.7777777777777778,
              "#fb9f3a"
             ],
             [
              0.8888888888888888,
              "#fdca26"
             ],
             [
              1,
              "#f0f921"
             ]
            ],
            "type": "heatmap"
           }
          ],
          "heatmapgl": [
           {
            "colorbar": {
             "outlinewidth": 0,
             "ticks": ""
            },
            "colorscale": [
             [
              0,
              "#0d0887"
             ],
             [
              0.1111111111111111,
              "#46039f"
             ],
             [
              0.2222222222222222,
              "#7201a8"
             ],
             [
              0.3333333333333333,
              "#9c179e"
             ],
             [
              0.4444444444444444,
              "#bd3786"
             ],
             [
              0.5555555555555556,
              "#d8576b"
             ],
             [
              0.6666666666666666,
              "#ed7953"
             ],
             [
              0.7777777777777778,
              "#fb9f3a"
             ],
             [
              0.8888888888888888,
              "#fdca26"
             ],
             [
              1,
              "#f0f921"
             ]
            ],
            "type": "heatmapgl"
           }
          ],
          "histogram": [
           {
            "marker": {
             "colorbar": {
              "outlinewidth": 0,
              "ticks": ""
             }
            },
            "type": "histogram"
           }
          ],
          "histogram2d": [
           {
            "colorbar": {
             "outlinewidth": 0,
             "ticks": ""
            },
            "colorscale": [
             [
              0,
              "#0d0887"
             ],
             [
              0.1111111111111111,
              "#46039f"
             ],
             [
              0.2222222222222222,
              "#7201a8"
             ],
             [
              0.3333333333333333,
              "#9c179e"
             ],
             [
              0.4444444444444444,
              "#bd3786"
             ],
             [
              0.5555555555555556,
              "#d8576b"
             ],
             [
              0.6666666666666666,
              "#ed7953"
             ],
             [
              0.7777777777777778,
              "#fb9f3a"
             ],
             [
              0.8888888888888888,
              "#fdca26"
             ],
             [
              1,
              "#f0f921"
             ]
            ],
            "type": "histogram2d"
           }
          ],
          "histogram2dcontour": [
           {
            "colorbar": {
             "outlinewidth": 0,
             "ticks": ""
            },
            "colorscale": [
             [
              0,
              "#0d0887"
             ],
             [
              0.1111111111111111,
              "#46039f"
             ],
             [
              0.2222222222222222,
              "#7201a8"
             ],
             [
              0.3333333333333333,
              "#9c179e"
             ],
             [
              0.4444444444444444,
              "#bd3786"
             ],
             [
              0.5555555555555556,
              "#d8576b"
             ],
             [
              0.6666666666666666,
              "#ed7953"
             ],
             [
              0.7777777777777778,
              "#fb9f3a"
             ],
             [
              0.8888888888888888,
              "#fdca26"
             ],
             [
              1,
              "#f0f921"
             ]
            ],
            "type": "histogram2dcontour"
           }
          ],
          "mesh3d": [
           {
            "colorbar": {
             "outlinewidth": 0,
             "ticks": ""
            },
            "type": "mesh3d"
           }
          ],
          "parcoords": [
           {
            "line": {
             "colorbar": {
              "outlinewidth": 0,
              "ticks": ""
             }
            },
            "type": "parcoords"
           }
          ],
          "pie": [
           {
            "automargin": true,
            "type": "pie"
           }
          ],
          "scatter": [
           {
            "marker": {
             "colorbar": {
              "outlinewidth": 0,
              "ticks": ""
             }
            },
            "type": "scatter"
           }
          ],
          "scatter3d": [
           {
            "line": {
             "colorbar": {
              "outlinewidth": 0,
              "ticks": ""
             }
            },
            "marker": {
             "colorbar": {
              "outlinewidth": 0,
              "ticks": ""
             }
            },
            "type": "scatter3d"
           }
          ],
          "scattercarpet": [
           {
            "marker": {
             "colorbar": {
              "outlinewidth": 0,
              "ticks": ""
             }
            },
            "type": "scattercarpet"
           }
          ],
          "scattergeo": [
           {
            "marker": {
             "colorbar": {
              "outlinewidth": 0,
              "ticks": ""
             }
            },
            "type": "scattergeo"
           }
          ],
          "scattergl": [
           {
            "marker": {
             "colorbar": {
              "outlinewidth": 0,
              "ticks": ""
             }
            },
            "type": "scattergl"
           }
          ],
          "scattermapbox": [
           {
            "marker": {
             "colorbar": {
              "outlinewidth": 0,
              "ticks": ""
             }
            },
            "type": "scattermapbox"
           }
          ],
          "scatterpolar": [
           {
            "marker": {
             "colorbar": {
              "outlinewidth": 0,
              "ticks": ""
             }
            },
            "type": "scatterpolar"
           }
          ],
          "scatterpolargl": [
           {
            "marker": {
             "colorbar": {
              "outlinewidth": 0,
              "ticks": ""
             }
            },
            "type": "scatterpolargl"
           }
          ],
          "scatterternary": [
           {
            "marker": {
             "colorbar": {
              "outlinewidth": 0,
              "ticks": ""
             }
            },
            "type": "scatterternary"
           }
          ],
          "surface": [
           {
            "colorbar": {
             "outlinewidth": 0,
             "ticks": ""
            },
            "colorscale": [
             [
              0,
              "#0d0887"
             ],
             [
              0.1111111111111111,
              "#46039f"
             ],
             [
              0.2222222222222222,
              "#7201a8"
             ],
             [
              0.3333333333333333,
              "#9c179e"
             ],
             [
              0.4444444444444444,
              "#bd3786"
             ],
             [
              0.5555555555555556,
              "#d8576b"
             ],
             [
              0.6666666666666666,
              "#ed7953"
             ],
             [
              0.7777777777777778,
              "#fb9f3a"
             ],
             [
              0.8888888888888888,
              "#fdca26"
             ],
             [
              1,
              "#f0f921"
             ]
            ],
            "type": "surface"
           }
          ],
          "table": [
           {
            "cells": {
             "fill": {
              "color": "#EBF0F8"
             },
             "line": {
              "color": "white"
             }
            },
            "header": {
             "fill": {
              "color": "#C8D4E3"
             },
             "line": {
              "color": "white"
             }
            },
            "type": "table"
           }
          ]
         },
         "layout": {
          "annotationdefaults": {
           "arrowcolor": "#2a3f5f",
           "arrowhead": 0,
           "arrowwidth": 1
          },
          "coloraxis": {
           "colorbar": {
            "outlinewidth": 0,
            "ticks": ""
           }
          },
          "colorscale": {
           "diverging": [
            [
             0,
             "#8e0152"
            ],
            [
             0.1,
             "#c51b7d"
            ],
            [
             0.2,
             "#de77ae"
            ],
            [
             0.3,
             "#f1b6da"
            ],
            [
             0.4,
             "#fde0ef"
            ],
            [
             0.5,
             "#f7f7f7"
            ],
            [
             0.6,
             "#e6f5d0"
            ],
            [
             0.7,
             "#b8e186"
            ],
            [
             0.8,
             "#7fbc41"
            ],
            [
             0.9,
             "#4d9221"
            ],
            [
             1,
             "#276419"
            ]
           ],
           "sequential": [
            [
             0,
             "#0d0887"
            ],
            [
             0.1111111111111111,
             "#46039f"
            ],
            [
             0.2222222222222222,
             "#7201a8"
            ],
            [
             0.3333333333333333,
             "#9c179e"
            ],
            [
             0.4444444444444444,
             "#bd3786"
            ],
            [
             0.5555555555555556,
             "#d8576b"
            ],
            [
             0.6666666666666666,
             "#ed7953"
            ],
            [
             0.7777777777777778,
             "#fb9f3a"
            ],
            [
             0.8888888888888888,
             "#fdca26"
            ],
            [
             1,
             "#f0f921"
            ]
           ],
           "sequentialminus": [
            [
             0,
             "#0d0887"
            ],
            [
             0.1111111111111111,
             "#46039f"
            ],
            [
             0.2222222222222222,
             "#7201a8"
            ],
            [
             0.3333333333333333,
             "#9c179e"
            ],
            [
             0.4444444444444444,
             "#bd3786"
            ],
            [
             0.5555555555555556,
             "#d8576b"
            ],
            [
             0.6666666666666666,
             "#ed7953"
            ],
            [
             0.7777777777777778,
             "#fb9f3a"
            ],
            [
             0.8888888888888888,
             "#fdca26"
            ],
            [
             1,
             "#f0f921"
            ]
           ]
          },
          "colorway": [
           "#636efa",
           "#EF553B",
           "#00cc96",
           "#ab63fa",
           "#FFA15A",
           "#19d3f3",
           "#FF6692",
           "#B6E880",
           "#FF97FF",
           "#FECB52"
          ],
          "font": {
           "color": "#2a3f5f"
          },
          "geo": {
           "bgcolor": "white",
           "lakecolor": "white",
           "landcolor": "#E5ECF6",
           "showlakes": true,
           "showland": true,
           "subunitcolor": "white"
          },
          "hoverlabel": {
           "align": "left"
          },
          "hovermode": "closest",
          "mapbox": {
           "style": "light"
          },
          "paper_bgcolor": "white",
          "plot_bgcolor": "#E5ECF6",
          "polar": {
           "angularaxis": {
            "gridcolor": "white",
            "linecolor": "white",
            "ticks": ""
           },
           "bgcolor": "#E5ECF6",
           "radialaxis": {
            "gridcolor": "white",
            "linecolor": "white",
            "ticks": ""
           }
          },
          "scene": {
           "xaxis": {
            "backgroundcolor": "#E5ECF6",
            "gridcolor": "white",
            "gridwidth": 2,
            "linecolor": "white",
            "showbackground": true,
            "ticks": "",
            "zerolinecolor": "white"
           },
           "yaxis": {
            "backgroundcolor": "#E5ECF6",
            "gridcolor": "white",
            "gridwidth": 2,
            "linecolor": "white",
            "showbackground": true,
            "ticks": "",
            "zerolinecolor": "white"
           },
           "zaxis": {
            "backgroundcolor": "#E5ECF6",
            "gridcolor": "white",
            "gridwidth": 2,
            "linecolor": "white",
            "showbackground": true,
            "ticks": "",
            "zerolinecolor": "white"
           }
          },
          "shapedefaults": {
           "line": {
            "color": "#2a3f5f"
           }
          },
          "ternary": {
           "aaxis": {
            "gridcolor": "white",
            "linecolor": "white",
            "ticks": ""
           },
           "baxis": {
            "gridcolor": "white",
            "linecolor": "white",
            "ticks": ""
           },
           "bgcolor": "#E5ECF6",
           "caxis": {
            "gridcolor": "white",
            "linecolor": "white",
            "ticks": ""
           }
          },
          "title": {
           "x": 0.05
          },
          "xaxis": {
           "automargin": true,
           "gridcolor": "white",
           "linecolor": "white",
           "ticks": "",
           "title": {
            "standoff": 15
           },
           "zerolinecolor": "white",
           "zerolinewidth": 2
          },
          "yaxis": {
           "automargin": true,
           "gridcolor": "white",
           "linecolor": "white",
           "ticks": "",
           "title": {
            "standoff": 15
           },
           "zerolinecolor": "white",
           "zerolinewidth": 2
          }
         }
        },
        "title": {
         "text": "Explained variance by different principal components"
        },
        "yaxis": {
         "title": {
          "text": "Explained variance in percent"
         }
        }
       }
      },
      "text/html": [
       "<div>\n",
       "        \n",
       "        \n",
       "            <div id=\"c05c8c64-7675-4f2e-ab56-5f4345716103\" class=\"plotly-graph-div\" style=\"height:525px; width:100%;\"></div>\n",
       "            <script type=\"text/javascript\">\n",
       "                require([\"plotly\"], function(Plotly) {\n",
       "                    window.PLOTLYENV=window.PLOTLYENV || {};\n",
       "                    \n",
       "                if (document.getElementById(\"c05c8c64-7675-4f2e-ab56-5f4345716103\")) {\n",
       "                    Plotly.newPlot(\n",
       "                        'c05c8c64-7675-4f2e-ab56-5f4345716103',\n",
       "                        [{\"name\": \"Individual\", \"type\": \"bar\", \"x\": [\"PC 1\", \"PC 2\", \"PC 3\", \"PC 4\", \"PC 5\", \"PC 6\", \"PC 7\", \"PC 8\", \"PC 9\", \"PC 10\", \"PC 11\", \"PC 12\", \"PC 13\", \"PC 14\", \"PC 15\", \"PC 16\", \"PC 17\", \"PC 18\", \"PC 19\", \"PC 20\", \"PC 21\", \"PC 22\", \"PC 23\", \"PC 24\", \"PC 25\", \"PC 26\", \"PC 27\", \"PC 28\", \"PC 29\", \"PC 30\", \"PC 31\", \"PC 32\", \"PC 33\", \"PC 34\", \"PC 35\", \"PC 36\", \"PC 37\", \"PC 38\", \"PC 39\", \"PC 40\", \"PC 41\", \"PC 42\", \"PC 43\", \"PC 44\", \"PC 45\", \"PC 46\", \"PC 47\", \"PC 48\", \"PC 49\", \"PC 50\", \"PC 51\", \"PC 52\", \"PC 53\", \"PC 54\", \"PC 55\", \"PC 56\", \"PC 57\", \"PC 58\", \"PC 59\", \"PC 60\", \"PC 61\", \"PC 62\", \"PC 63\", \"PC 64\", \"PC 65\", \"PC 66\", \"PC 67\", \"PC 68\", \"PC 69\", \"PC 70\", \"PC 71\", \"PC 72\", \"PC 73\", \"PC 74\", \"PC 75\", \"PC 76\", \"PC 77\", \"PC 78\", \"PC 79\", \"PC 80\", \"PC 81\", \"PC 82\", \"PC 83\", \"PC 84\", \"PC 85\", \"PC 86\", \"PC 87\", \"PC 88\", \"PC 89\", \"PC 90\", \"PC 91\", \"PC 92\", \"PC 93\", \"PC 94\", \"PC 95\", \"PC 96\", \"PC 97\", \"PC 98\", \"PC 99\", \"PC 100\", \"PC 101\", \"PC 102\", \"PC 103\", \"PC 104\", \"PC 105\", \"PC 106\", \"PC 107\", \"PC 108\", \"PC 109\", \"PC 110\", \"PC 111\", \"PC 112\", \"PC 113\", \"PC 114\", \"PC 115\", \"PC 116\", \"PC 117\", \"PC 118\", \"PC 119\", \"PC 120\", \"PC 121\", \"PC 122\", \"PC 123\", \"PC 124\", \"PC 125\", \"PC 126\", \"PC 127\", \"PC 128\", \"PC 129\", \"PC 130\", \"PC 131\", \"PC 132\", \"PC 133\", \"PC 134\", \"PC 135\", \"PC 136\"], \"y\": [2.8127742082946905, 2.7384564050833804, 1.7293274901199827, 1.526242456538462, 1.4959389855456762, 1.4785950309915954, 1.459577200140942, 1.2821780328574455, 1.2696198051786753, 1.2568760047944803, 1.0142829160592381, 0.9645141295604392, 0.9348198763600083, 0.9231492831130956, 0.8995500019722744, 0.892482504301895, 0.888312066388538, 0.8836830355925878, 0.8743492274928273, 0.8702945606820297, 0.8653765182013927, 0.8620796653538182, 0.8608846404324424, 0.8558774508258242, 0.8506437865610734, 0.8474986259033868, 0.8436231805734185, 0.8391183663928974, 0.8374991897503049, 0.8313139353156571, 0.8261399424747271, 0.8249201412524936, 0.8218076266931351, 0.8209808101204616, 0.8182691422164857, 0.8137164382973503, 0.8115561560659373, 0.8070802717874522, 0.8043796672827178, 0.8006029090989522, 0.797793716509277, 0.7925309499566112, 0.7918995308255918, 0.7908801565902464, 0.7895931199944944, 0.7853401024168536, 0.7834743099406917, 0.7814547625189289, 0.7757755608369739, 0.7729915749429537, 0.7703379471050015, 0.7673292543600633, 0.7624852288757216, 0.7581219281537649, 0.7564594125642783, 0.7522352756272624, 0.7515599499824364, 0.749998109193796, 0.7481424339782056, 0.7463519188167282, 0.745707132418675, 0.7448182312648479, 0.7432900720986844, 0.7425712183260851, 0.7417539236456598, 0.7412688311963478, 0.7403399023905753, 0.7398583946424773, 0.7395873554301495, 0.7389803748022822, 0.7382190674655826, 0.737850922644095, 0.7369021197307632, 0.7366901310479999, 0.7351161797902522, 0.7345592681821353, 0.733260862220935, 0.7317609694314369, 0.7316650590408565, 0.7306051401838485, 0.728725493152674, 0.7277458407725063, 0.7253164307305959, 0.7243308643425026, 0.7221854968934498, 0.7211609451383243, 0.7198133290488785, 0.7168714692106299, 0.7145013152752718, 0.7125527153970643, 0.7101915692237017, 0.7083314405216901, 0.7061817704587801, 0.7038312839187296, 0.7016703638673589, 0.7015270983556579, 0.6952107359232187, 0.6932668968484991, 0.6912689614470547, 0.6898648538744834, 0.6886096325861731, 0.6821223719042917, 0.6797638022503971, 0.6765416740143984, 0.6748504451236569, 0.6713232517457342, 0.6668294473329024, 0.6622275201986826, 0.6583909053259941, 0.6546861361815273, 0.650458483155562, 0.6451143536997347, 0.6377272318348909, 0.6312559506789658, 0.6037685939886205, 0.5647342429603476, 0.5393812433298841, 0.4858241498121755, 0.3198102105845473, 0.2963523808193484, 0.22583050426625575, 0.17448416695645205, 0.1597110094648434, 0.07037743191013626, 0.035482700693678544, 0.001841199967956691, 5.5472190198276475e-31, 3.598330756393874e-31, 1.9277854616961025e-31, 1.7741536580972388e-31, 1.4667095982554013e-31, 9.282238055593758e-32, 2.9507012731267915e-32, 1.9513370462829217e-32, 1.3299357804870296e-32, 5.04286556530587e-34]}, {\"name\": \"Cumulative\", \"type\": \"scatter\", \"x\": [\"PC 1\", \"PC 2\", \"PC 3\", \"PC 4\", \"PC 5\", \"PC 6\", \"PC 7\", \"PC 8\", \"PC 9\", \"PC 10\", \"PC 11\", \"PC 12\", \"PC 13\", \"PC 14\", \"PC 15\", \"PC 16\", \"PC 17\", \"PC 18\", \"PC 19\", \"PC 20\", \"PC 21\", \"PC 22\", \"PC 23\", \"PC 24\", \"PC 25\", \"PC 26\", \"PC 27\", \"PC 28\", \"PC 29\", \"PC 30\", \"PC 31\", \"PC 32\", \"PC 33\", \"PC 34\", \"PC 35\", \"PC 36\", \"PC 37\", \"PC 38\", \"PC 39\", \"PC 40\", \"PC 41\", \"PC 42\", \"PC 43\", \"PC 44\", \"PC 45\", \"PC 46\", \"PC 47\", \"PC 48\", \"PC 49\", \"PC 50\", \"PC 51\", \"PC 52\", \"PC 53\", \"PC 54\", \"PC 55\", \"PC 56\", \"PC 57\", \"PC 58\", \"PC 59\", \"PC 60\", \"PC 61\", \"PC 62\", \"PC 63\", \"PC 64\", \"PC 65\", \"PC 66\", \"PC 67\", \"PC 68\", \"PC 69\", \"PC 70\", \"PC 71\", \"PC 72\", \"PC 73\", \"PC 74\", \"PC 75\", \"PC 76\", \"PC 77\", \"PC 78\", \"PC 79\", \"PC 80\", \"PC 81\", \"PC 82\", \"PC 83\", \"PC 84\", \"PC 85\", \"PC 86\", \"PC 87\", \"PC 88\", \"PC 89\", \"PC 90\", \"PC 91\", \"PC 92\", \"PC 93\", \"PC 94\", \"PC 95\", \"PC 96\", \"PC 97\", \"PC 98\", \"PC 99\", \"PC 100\", \"PC 101\", \"PC 102\", \"PC 103\", \"PC 104\", \"PC 105\", \"PC 106\", \"PC 107\", \"PC 108\", \"PC 109\", \"PC 110\", \"PC 111\", \"PC 112\", \"PC 113\", \"PC 114\", \"PC 115\", \"PC 116\", \"PC 117\", \"PC 118\", \"PC 119\", \"PC 120\", \"PC 121\", \"PC 122\", \"PC 123\", \"PC 124\", \"PC 125\", \"PC 126\", \"PC 127\", \"PC 128\", \"PC 129\", \"PC 130\", \"PC 131\", \"PC 132\", \"PC 133\", \"PC 134\", \"PC 135\", \"PC 136\"], \"y\": [2.8127742082946905, 5.5512306133780704, 7.280558103498053, 8.806800560036514, 10.30273954558219, 11.781334576573785, 13.240911776714727, 14.523089809572172, 15.792709614750848, 17.04958561954533, 18.063868535604566, 19.028382665165005, 19.963202541525014, 20.88635182463811, 21.785901826610385, 22.67838433091228, 23.566696397300817, 24.450379432893403, 25.32472866038623, 26.19502322106826, 27.060399739269656, 27.922479404623473, 28.783364045055915, 29.63924149588174, 30.489885282442813, 31.3373839083462, 32.18100708891962, 33.02012545531252, 33.85762464506282, 34.688938580378476, 35.5150785228532, 36.33999866410569, 37.16180629079883, 37.98278710091929, 38.801056243135776, 39.614772681433124, 40.426328837499064, 41.23340910928652, 42.037788776569236, 42.838391685668185, 43.63618540217746, 44.428716352134074, 45.22061588295966, 46.01149603954991, 46.801089159544404, 47.58642926196126, 48.36990357190195, 49.15135833442088, 49.92713389525785, 50.70012547020081, 51.47046341730581, 52.23779267166587, 53.00027790054159, 53.75839982869535, 54.51485924125963, 55.26709451688689, 56.01865446686933, 56.768652576063126, 57.51679501004133, 58.263146928858056, 59.00885406127673, 59.75367229254158, 60.49696236464027, 61.23953358296635, 61.98128750661201, 62.72255633780836, 63.46289624019894, 64.20275463484141, 64.94234199027156, 65.68132236507384, 66.41954143253942, 67.15739235518352, 67.89429447491428, 68.63098460596227, 69.36610078575252, 70.10066005393466, 70.83392091615559, 71.56568188558703, 72.29734694462788, 73.02795208481173, 73.75667757796441, 74.48442341873691, 75.20973984946751, 75.93407071381002, 76.65625621070346, 77.37741715584178, 78.09723048489066, 78.81410195410129, 79.52860326937656, 80.24115598477363, 80.95134755399732, 81.65967899451901, 82.3658607649778, 83.06969204889653, 83.77136241276389, 84.47288951111955, 85.16810024704276, 85.86136714389126, 86.55263610533831, 87.24250095921279, 87.93111059179897, 88.61323296370325, 89.29299676595365, 89.96953843996805, 90.6443888850917, 91.31571213683743, 91.98254158417033, 92.64476910436902, 93.303160009695, 93.95784614587653, 94.60830462903209, 95.25341898273183, 95.89114621456672, 96.52240216524568, 97.1261707592343, 97.69090500219464, 98.23028624552452, 98.7161103953367, 99.03592060592125, 99.33227298674059, 99.55810349100685, 99.7325876579633, 99.89229866742814, 99.96267609933827, 99.99815880003194, 99.9999999999999, 99.9999999999999, 99.9999999999999, 99.9999999999999, 99.9999999999999, 99.9999999999999, 99.9999999999999, 99.9999999999999, 99.9999999999999, 99.9999999999999, 99.9999999999999]}],\n",
       "                        {\"annotations\": [{\"showarrow\": false, \"text\": \"Explained Variance\", \"x\": 1.16, \"xref\": \"paper\", \"y\": 1.05, \"yref\": \"paper\"}], \"template\": {\"data\": {\"bar\": [{\"error_x\": {\"color\": \"#2a3f5f\"}, \"error_y\": {\"color\": \"#2a3f5f\"}, \"marker\": {\"line\": {\"color\": \"#E5ECF6\", \"width\": 0.5}}, \"type\": \"bar\"}], \"barpolar\": [{\"marker\": {\"line\": {\"color\": \"#E5ECF6\", \"width\": 0.5}}, \"type\": \"barpolar\"}], \"carpet\": [{\"aaxis\": {\"endlinecolor\": \"#2a3f5f\", \"gridcolor\": \"white\", \"linecolor\": \"white\", \"minorgridcolor\": \"white\", \"startlinecolor\": \"#2a3f5f\"}, \"baxis\": {\"endlinecolor\": \"#2a3f5f\", \"gridcolor\": \"white\", \"linecolor\": \"white\", \"minorgridcolor\": \"white\", \"startlinecolor\": \"#2a3f5f\"}, \"type\": \"carpet\"}], \"choropleth\": [{\"colorbar\": {\"outlinewidth\": 0, \"ticks\": \"\"}, \"type\": \"choropleth\"}], \"contour\": [{\"colorbar\": {\"outlinewidth\": 0, \"ticks\": \"\"}, \"colorscale\": [[0.0, \"#0d0887\"], [0.1111111111111111, \"#46039f\"], [0.2222222222222222, \"#7201a8\"], [0.3333333333333333, \"#9c179e\"], [0.4444444444444444, \"#bd3786\"], [0.5555555555555556, \"#d8576b\"], [0.6666666666666666, \"#ed7953\"], [0.7777777777777778, \"#fb9f3a\"], [0.8888888888888888, \"#fdca26\"], [1.0, \"#f0f921\"]], \"type\": \"contour\"}], \"contourcarpet\": [{\"colorbar\": {\"outlinewidth\": 0, \"ticks\": \"\"}, \"type\": \"contourcarpet\"}], \"heatmap\": [{\"colorbar\": {\"outlinewidth\": 0, \"ticks\": \"\"}, \"colorscale\": [[0.0, \"#0d0887\"], [0.1111111111111111, \"#46039f\"], [0.2222222222222222, \"#7201a8\"], [0.3333333333333333, \"#9c179e\"], [0.4444444444444444, \"#bd3786\"], [0.5555555555555556, \"#d8576b\"], [0.6666666666666666, \"#ed7953\"], [0.7777777777777778, \"#fb9f3a\"], [0.8888888888888888, \"#fdca26\"], [1.0, \"#f0f921\"]], \"type\": \"heatmap\"}], \"heatmapgl\": [{\"colorbar\": {\"outlinewidth\": 0, \"ticks\": \"\"}, \"colorscale\": [[0.0, \"#0d0887\"], [0.1111111111111111, \"#46039f\"], [0.2222222222222222, \"#7201a8\"], [0.3333333333333333, \"#9c179e\"], [0.4444444444444444, \"#bd3786\"], [0.5555555555555556, \"#d8576b\"], [0.6666666666666666, \"#ed7953\"], [0.7777777777777778, \"#fb9f3a\"], [0.8888888888888888, \"#fdca26\"], [1.0, \"#f0f921\"]], \"type\": \"heatmapgl\"}], \"histogram\": [{\"marker\": {\"colorbar\": {\"outlinewidth\": 0, \"ticks\": \"\"}}, \"type\": \"histogram\"}], \"histogram2d\": [{\"colorbar\": {\"outlinewidth\": 0, \"ticks\": \"\"}, \"colorscale\": [[0.0, \"#0d0887\"], [0.1111111111111111, \"#46039f\"], [0.2222222222222222, \"#7201a8\"], [0.3333333333333333, \"#9c179e\"], [0.4444444444444444, \"#bd3786\"], [0.5555555555555556, \"#d8576b\"], [0.6666666666666666, \"#ed7953\"], [0.7777777777777778, \"#fb9f3a\"], [0.8888888888888888, \"#fdca26\"], [1.0, \"#f0f921\"]], \"type\": \"histogram2d\"}], \"histogram2dcontour\": [{\"colorbar\": {\"outlinewidth\": 0, \"ticks\": \"\"}, \"colorscale\": [[0.0, \"#0d0887\"], [0.1111111111111111, \"#46039f\"], [0.2222222222222222, \"#7201a8\"], [0.3333333333333333, \"#9c179e\"], [0.4444444444444444, \"#bd3786\"], [0.5555555555555556, \"#d8576b\"], [0.6666666666666666, \"#ed7953\"], [0.7777777777777778, \"#fb9f3a\"], [0.8888888888888888, \"#fdca26\"], [1.0, \"#f0f921\"]], \"type\": \"histogram2dcontour\"}], \"mesh3d\": [{\"colorbar\": {\"outlinewidth\": 0, \"ticks\": \"\"}, \"type\": \"mesh3d\"}], \"parcoords\": [{\"line\": {\"colorbar\": {\"outlinewidth\": 0, \"ticks\": \"\"}}, \"type\": \"parcoords\"}], \"pie\": [{\"automargin\": true, \"type\": \"pie\"}], \"scatter\": [{\"marker\": {\"colorbar\": {\"outlinewidth\": 0, \"ticks\": \"\"}}, \"type\": \"scatter\"}], \"scatter3d\": [{\"line\": {\"colorbar\": {\"outlinewidth\": 0, \"ticks\": \"\"}}, \"marker\": {\"colorbar\": {\"outlinewidth\": 0, \"ticks\": \"\"}}, \"type\": \"scatter3d\"}], \"scattercarpet\": [{\"marker\": {\"colorbar\": {\"outlinewidth\": 0, \"ticks\": \"\"}}, \"type\": \"scattercarpet\"}], \"scattergeo\": [{\"marker\": {\"colorbar\": {\"outlinewidth\": 0, \"ticks\": \"\"}}, \"type\": \"scattergeo\"}], \"scattergl\": [{\"marker\": {\"colorbar\": {\"outlinewidth\": 0, \"ticks\": \"\"}}, \"type\": \"scattergl\"}], \"scattermapbox\": [{\"marker\": {\"colorbar\": {\"outlinewidth\": 0, \"ticks\": \"\"}}, \"type\": \"scattermapbox\"}], \"scatterpolar\": [{\"marker\": {\"colorbar\": {\"outlinewidth\": 0, \"ticks\": \"\"}}, \"type\": \"scatterpolar\"}], \"scatterpolargl\": [{\"marker\": {\"colorbar\": {\"outlinewidth\": 0, \"ticks\": \"\"}}, \"type\": \"scatterpolargl\"}], \"scatterternary\": [{\"marker\": {\"colorbar\": {\"outlinewidth\": 0, \"ticks\": \"\"}}, \"type\": \"scatterternary\"}], \"surface\": [{\"colorbar\": {\"outlinewidth\": 0, \"ticks\": \"\"}, \"colorscale\": [[0.0, \"#0d0887\"], [0.1111111111111111, \"#46039f\"], [0.2222222222222222, \"#7201a8\"], [0.3333333333333333, \"#9c179e\"], [0.4444444444444444, \"#bd3786\"], [0.5555555555555556, \"#d8576b\"], [0.6666666666666666, \"#ed7953\"], [0.7777777777777778, \"#fb9f3a\"], [0.8888888888888888, \"#fdca26\"], [1.0, \"#f0f921\"]], \"type\": \"surface\"}], \"table\": [{\"cells\": {\"fill\": {\"color\": \"#EBF0F8\"}, \"line\": {\"color\": \"white\"}}, \"header\": {\"fill\": {\"color\": \"#C8D4E3\"}, \"line\": {\"color\": \"white\"}}, \"type\": \"table\"}]}, \"layout\": {\"annotationdefaults\": {\"arrowcolor\": \"#2a3f5f\", \"arrowhead\": 0, \"arrowwidth\": 1}, \"coloraxis\": {\"colorbar\": {\"outlinewidth\": 0, \"ticks\": \"\"}}, \"colorscale\": {\"diverging\": [[0, \"#8e0152\"], [0.1, \"#c51b7d\"], [0.2, \"#de77ae\"], [0.3, \"#f1b6da\"], [0.4, \"#fde0ef\"], [0.5, \"#f7f7f7\"], [0.6, \"#e6f5d0\"], [0.7, \"#b8e186\"], [0.8, \"#7fbc41\"], [0.9, \"#4d9221\"], [1, \"#276419\"]], \"sequential\": [[0.0, \"#0d0887\"], [0.1111111111111111, \"#46039f\"], [0.2222222222222222, \"#7201a8\"], [0.3333333333333333, \"#9c179e\"], [0.4444444444444444, \"#bd3786\"], [0.5555555555555556, \"#d8576b\"], [0.6666666666666666, \"#ed7953\"], [0.7777777777777778, \"#fb9f3a\"], [0.8888888888888888, \"#fdca26\"], [1.0, \"#f0f921\"]], \"sequentialminus\": [[0.0, \"#0d0887\"], [0.1111111111111111, \"#46039f\"], [0.2222222222222222, \"#7201a8\"], [0.3333333333333333, \"#9c179e\"], [0.4444444444444444, \"#bd3786\"], [0.5555555555555556, \"#d8576b\"], [0.6666666666666666, \"#ed7953\"], [0.7777777777777778, \"#fb9f3a\"], [0.8888888888888888, \"#fdca26\"], [1.0, \"#f0f921\"]]}, \"colorway\": [\"#636efa\", \"#EF553B\", \"#00cc96\", \"#ab63fa\", \"#FFA15A\", \"#19d3f3\", \"#FF6692\", \"#B6E880\", \"#FF97FF\", \"#FECB52\"], \"font\": {\"color\": \"#2a3f5f\"}, \"geo\": {\"bgcolor\": \"white\", \"lakecolor\": \"white\", \"landcolor\": \"#E5ECF6\", \"showlakes\": true, \"showland\": true, \"subunitcolor\": \"white\"}, \"hoverlabel\": {\"align\": \"left\"}, \"hovermode\": \"closest\", \"mapbox\": {\"style\": \"light\"}, \"paper_bgcolor\": \"white\", \"plot_bgcolor\": \"#E5ECF6\", \"polar\": {\"angularaxis\": {\"gridcolor\": \"white\", \"linecolor\": \"white\", \"ticks\": \"\"}, \"bgcolor\": \"#E5ECF6\", \"radialaxis\": {\"gridcolor\": \"white\", \"linecolor\": \"white\", \"ticks\": \"\"}}, \"scene\": {\"xaxis\": {\"backgroundcolor\": \"#E5ECF6\", \"gridcolor\": \"white\", \"gridwidth\": 2, \"linecolor\": \"white\", \"showbackground\": true, \"ticks\": \"\", \"zerolinecolor\": \"white\"}, \"yaxis\": {\"backgroundcolor\": \"#E5ECF6\", \"gridcolor\": \"white\", \"gridwidth\": 2, \"linecolor\": \"white\", \"showbackground\": true, \"ticks\": \"\", \"zerolinecolor\": \"white\"}, \"zaxis\": {\"backgroundcolor\": \"#E5ECF6\", \"gridcolor\": \"white\", \"gridwidth\": 2, \"linecolor\": \"white\", \"showbackground\": true, \"ticks\": \"\", \"zerolinecolor\": \"white\"}}, \"shapedefaults\": {\"line\": {\"color\": \"#2a3f5f\"}}, \"ternary\": {\"aaxis\": {\"gridcolor\": \"white\", \"linecolor\": \"white\", \"ticks\": \"\"}, \"baxis\": {\"gridcolor\": \"white\", \"linecolor\": \"white\", \"ticks\": \"\"}, \"bgcolor\": \"#E5ECF6\", \"caxis\": {\"gridcolor\": \"white\", \"linecolor\": \"white\", \"ticks\": \"\"}}, \"title\": {\"x\": 0.05}, \"xaxis\": {\"automargin\": true, \"gridcolor\": \"white\", \"linecolor\": \"white\", \"ticks\": \"\", \"title\": {\"standoff\": 15}, \"zerolinecolor\": \"white\", \"zerolinewidth\": 2}, \"yaxis\": {\"automargin\": true, \"gridcolor\": \"white\", \"linecolor\": \"white\", \"ticks\": \"\", \"title\": {\"standoff\": 15}, \"zerolinecolor\": \"white\", \"zerolinewidth\": 2}}}, \"title\": {\"text\": \"Explained variance by different principal components\"}, \"yaxis\": {\"title\": {\"text\": \"Explained variance in percent\"}}},\n",
       "                        {\"responsive\": true}\n",
       "                    ).then(function(){\n",
       "                            \n",
       "var gd = document.getElementById('c05c8c64-7675-4f2e-ab56-5f4345716103');\n",
       "var x = new MutationObserver(function (mutations, observer) {{\n",
       "        var display = window.getComputedStyle(gd).display;\n",
       "        if (!display || display === 'none') {{\n",
       "            console.log([gd, 'removed!']);\n",
       "            Plotly.purge(gd);\n",
       "            observer.disconnect();\n",
       "        }}\n",
       "}});\n",
       "\n",
       "// Listen for the removal of the full notebook cells\n",
       "var notebookContainer = gd.closest('#notebook-container');\n",
       "if (notebookContainer) {{\n",
       "    x.observe(notebookContainer, {childList: true});\n",
       "}}\n",
       "\n",
       "// Listen for the clearing of the current output cell\n",
       "var outputEl = gd.closest('.output');\n",
       "if (outputEl) {{\n",
       "    x.observe(outputEl, {childList: true});\n",
       "}}\n",
       "\n",
       "                        })\n",
       "                };\n",
       "                });\n",
       "            </script>\n",
       "        </div>"
      ]
     },
     "metadata": {},
     "output_type": "display_data"
    }
   ],
   "source": [
    "tot = sum(pca.explained_variance_ratio_)\n",
    "var_exp = [(i / tot)*100 for i in sorted(pca.explained_variance_ratio_, reverse=True)]\n",
    "cum_var_exp = np.cumsum(var_exp)\n",
    "\n",
    "trace1 = dict(\n",
    "    type='bar',\n",
    "    x=['PC %s' %i for i in range(1,len(pca.explained_variance_ratio_)+1)],\n",
    "    y=var_exp,\n",
    "    name='Individual'\n",
    ")\n",
    "\n",
    "trace2 = dict(\n",
    "    type='scatter',\n",
    "    x=['PC %s' %i for i in range(1,len(pca.explained_variance_ratio_)+1)], \n",
    "    y=cum_var_exp,\n",
    "    name='Cumulative'\n",
    ")\n",
    "\n",
    "data = [trace1, trace2]\n",
    "\n",
    "layout=dict(\n",
    "    title='Explained variance by different principal components',\n",
    "    yaxis=dict(\n",
    "        title='Explained variance in percent'\n",
    "    ),\n",
    "    annotations=list([\n",
    "        dict(\n",
    "            x=1.16,\n",
    "            y=1.05,\n",
    "            xref='paper',\n",
    "            yref='paper',\n",
    "            text='Explained Variance',\n",
    "            showarrow=False,\n",
    "        )\n",
    "    ])\n",
    ")\n",
    "\n",
    "fig = dict(data=data, layout=layout)\n",
    "plotly.offline.iplot(fig)"
   ]
  },
  {
   "cell_type": "code",
   "execution_count": null,
   "metadata": {},
   "outputs": [],
   "source": []
  }
 ],
 "metadata": {
  "kernelspec": {
   "display_name": "Python 3",
   "language": "python",
   "name": "python3"
  },
  "language_info": {
   "codemirror_mode": {
    "name": "ipython",
    "version": 3
   },
   "file_extension": ".py",
   "mimetype": "text/x-python",
   "name": "python",
   "nbconvert_exporter": "python",
   "pygments_lexer": "ipython3",
   "version": "3.7.3"
  }
 },
 "nbformat": 4,
 "nbformat_minor": 2
}
