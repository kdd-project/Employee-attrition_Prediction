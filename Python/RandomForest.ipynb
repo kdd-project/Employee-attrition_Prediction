{
 "cells": [
  {
   "cell_type": "code",
   "execution_count": 30,
   "metadata": {},
   "outputs": [],
   "source": [
    "import pandas as pd\n",
    "import numpy as np\n",
    "from sklearn.model_selection import train_test_split\n",
    "from sklearn.metrics import accuracy_score\n",
    "from sklearn.ensemble import RandomForestClassifier\n",
    "from sklearn.preprocessing import LabelEncoder\n",
    "from matplotlib import pyplot as plt\n",
    "import seaborn as sns\n",
    "from sklearn import metrics\n",
    "from sklearn.metrics import confusion_matrix\n",
    "from sklearn.model_selection import GridSearchCV"
   ]
  },
  {
   "cell_type": "code",
   "execution_count": 31,
   "metadata": {},
   "outputs": [],
   "source": [
    "df=pd.read_csv(r\"../data/attrition_data_with_calculated_columns.csv\")\n",
    "df.drop(['EMP_ID', 'TERMINATION_YEAR', 'ANNUAL_RATE', 'COMBINED_JOB_GROUP', 'DISCRETIZED_ANNUAL_RATE', 'DISCRETIZED_AGE', 'PREVYR_1_PRESENT', 'PREVYR_2_PRESENT', 'PREVYR_3_PRESENT', 'PREVYR_4_PRESENT', 'PREVYR_5_PRESENT', 'employee_cnt', 'white_rate', 'asian_rate', 'black_rate', 'hispa_rate'], axis = 1, inplace=True)\n",
    "df=df.replace({'STATUS': {'T': 1, 'A': 0}})"
   ]
  },
  {
   "cell_type": "code",
   "execution_count": 32,
   "metadata": {},
   "outputs": [],
   "source": [
    "x=df.drop(['STATUS'], axis=1)\n",
    "y=df['STATUS']"
   ]
  },
  {
   "cell_type": "code",
   "execution_count": 33,
   "metadata": {},
   "outputs": [],
   "source": [
    "x = pd.get_dummies(x, columns=['REFERRAL_SOURCE', 'ETHNICITY', 'SEX', 'MARITAL_STATUS', 'NUMBER_OF_TEAM_CHANGED', 'HIRE_MONTH', 'IS_FIRST_JOB', 'TRAVELLED_REQUIRED', 'DISABLED_EMP', 'DISABLED_VET', 'JOB_GROUP'])"
   ]
  },
  {
   "cell_type": "code",
   "execution_count": 34,
   "metadata": {},
   "outputs": [],
   "source": [
    "to_be_label_encoded = ['EDUCATION_LEVEL']\n",
    "label_encoder = LabelEncoder()\n",
    "for column in to_be_label_encoded:\n",
    "    x[column] = label_encoder.fit_transform(x[column])"
   ]
  },
  {
   "cell_type": "code",
   "execution_count": 35,
   "metadata": {},
   "outputs": [],
   "source": [
    "x_train, x_test, y_train, y_test = train_test_split(x, y, test_size=0.30, random_state=42)"
   ]
  },
  {
   "cell_type": "code",
   "execution_count": 36,
   "metadata": {},
   "outputs": [
    {
     "name": "stdout",
     "output_type": "stream",
     "text": [
      "0.7444521497919556\n"
     ]
    }
   ],
   "source": [
    "rf_model = RandomForestClassifier(random_state=5,max_depth=15,n_estimators=100)\n",
    "rf_model.fit(x_train, y_train)\n",
    "y_pred = rf_model.predict(x_test)\n",
    "print(accuracy_score(y_pred,y_test))"
   ]
  },
  {
   "cell_type": "code",
   "execution_count": 37,
   "metadata": {},
   "outputs": [
    {
     "name": "stdout",
     "output_type": "stream",
     "text": [
      "Fitting 4 folds for each of 16 candidates, totalling 64 fits\n",
      "[CV] max_depth=5, n_estimators=50, random_state=5 ....................\n",
      "[CV]  max_depth=5, n_estimators=50, random_state=5, score=0.686, total=   0.2s\n",
      "[CV] max_depth=5, n_estimators=50, random_state=5 ....................\n"
     ]
    },
    {
     "name": "stderr",
     "output_type": "stream",
     "text": [
      "[Parallel(n_jobs=1)]: Using backend SequentialBackend with 1 concurrent workers.\n",
      "[Parallel(n_jobs=1)]: Done   1 out of   1 | elapsed:    0.2s remaining:    0.0s\n"
     ]
    },
    {
     "name": "stdout",
     "output_type": "stream",
     "text": [
      "[CV]  max_depth=5, n_estimators=50, random_state=5, score=0.665, total=   0.2s\n",
      "[CV] max_depth=5, n_estimators=50, random_state=5 ....................\n",
      "[CV]  max_depth=5, n_estimators=50, random_state=5, score=0.674, total=   0.1s\n",
      "[CV] max_depth=5, n_estimators=50, random_state=5 ....................\n"
     ]
    },
    {
     "name": "stderr",
     "output_type": "stream",
     "text": [
      "[Parallel(n_jobs=1)]: Done   2 out of   2 | elapsed:    0.3s remaining:    0.0s\n"
     ]
    },
    {
     "name": "stdout",
     "output_type": "stream",
     "text": [
      "[CV]  max_depth=5, n_estimators=50, random_state=5, score=0.668, total=   0.1s\n",
      "[CV] max_depth=5, n_estimators=80, random_state=5 ....................\n",
      "[CV]  max_depth=5, n_estimators=80, random_state=5, score=0.675, total=   0.2s\n",
      "[CV] max_depth=5, n_estimators=80, random_state=5 ....................\n",
      "[CV]  max_depth=5, n_estimators=80, random_state=5, score=0.663, total=   0.3s\n",
      "[CV] max_depth=5, n_estimators=80, random_state=5 ....................\n",
      "[CV]  max_depth=5, n_estimators=80, random_state=5, score=0.672, total=   0.2s\n",
      "[CV] max_depth=5, n_estimators=80, random_state=5 ....................\n",
      "[CV]  max_depth=5, n_estimators=80, random_state=5, score=0.666, total=   0.2s\n",
      "[CV] max_depth=5, n_estimators=100, random_state=5 ...................\n",
      "[CV]  max_depth=5, n_estimators=100, random_state=5, score=0.680, total=   0.3s\n",
      "[CV] max_depth=5, n_estimators=100, random_state=5 ...................\n",
      "[CV]  max_depth=5, n_estimators=100, random_state=5, score=0.662, total=   0.3s\n",
      "[CV] max_depth=5, n_estimators=100, random_state=5 ...................\n",
      "[CV]  max_depth=5, n_estimators=100, random_state=5, score=0.674, total=   0.3s\n",
      "[CV] max_depth=5, n_estimators=100, random_state=5 ...................\n",
      "[CV]  max_depth=5, n_estimators=100, random_state=5, score=0.667, total=   0.2s\n",
      "[CV] max_depth=5, n_estimators=120, random_state=5 ...................\n",
      "[CV]  max_depth=5, n_estimators=120, random_state=5, score=0.676, total=   0.3s\n",
      "[CV] max_depth=5, n_estimators=120, random_state=5 ...................\n",
      "[CV]  max_depth=5, n_estimators=120, random_state=5, score=0.658, total=   0.3s\n",
      "[CV] max_depth=5, n_estimators=120, random_state=5 ...................\n",
      "[CV]  max_depth=5, n_estimators=120, random_state=5, score=0.674, total=   0.3s\n",
      "[CV] max_depth=5, n_estimators=120, random_state=5 ...................\n",
      "[CV]  max_depth=5, n_estimators=120, random_state=5, score=0.665, total=   0.3s\n",
      "[CV] max_depth=10, n_estimators=50, random_state=5 ...................\n",
      "[CV]  max_depth=10, n_estimators=50, random_state=5, score=0.709, total=   0.2s\n",
      "[CV] max_depth=10, n_estimators=50, random_state=5 ...................\n",
      "[CV]  max_depth=10, n_estimators=50, random_state=5, score=0.702, total=   0.2s\n",
      "[CV] max_depth=10, n_estimators=50, random_state=5 ...................\n",
      "[CV]  max_depth=10, n_estimators=50, random_state=5, score=0.711, total=   0.2s\n",
      "[CV] max_depth=10, n_estimators=50, random_state=5 ...................\n",
      "[CV]  max_depth=10, n_estimators=50, random_state=5, score=0.689, total=   0.2s\n",
      "[CV] max_depth=10, n_estimators=80, random_state=5 ...................\n",
      "[CV]  max_depth=10, n_estimators=80, random_state=5, score=0.704, total=   0.3s\n",
      "[CV] max_depth=10, n_estimators=80, random_state=5 ...................\n",
      "[CV]  max_depth=10, n_estimators=80, random_state=5, score=0.700, total=   0.3s\n",
      "[CV] max_depth=10, n_estimators=80, random_state=5 ...................\n",
      "[CV]  max_depth=10, n_estimators=80, random_state=5, score=0.702, total=   0.3s\n",
      "[CV] max_depth=10, n_estimators=80, random_state=5 ...................\n",
      "[CV]  max_depth=10, n_estimators=80, random_state=5, score=0.704, total=   0.3s\n",
      "[CV] max_depth=10, n_estimators=100, random_state=5 ..................\n",
      "[CV]  max_depth=10, n_estimators=100, random_state=5, score=0.706, total=   0.3s\n",
      "[CV] max_depth=10, n_estimators=100, random_state=5 ..................\n",
      "[CV]  max_depth=10, n_estimators=100, random_state=5, score=0.699, total=   0.3s\n",
      "[CV] max_depth=10, n_estimators=100, random_state=5 ..................\n",
      "[CV]  max_depth=10, n_estimators=100, random_state=5, score=0.707, total=   0.3s\n",
      "[CV] max_depth=10, n_estimators=100, random_state=5 ..................\n",
      "[CV]  max_depth=10, n_estimators=100, random_state=5, score=0.703, total=   0.3s\n",
      "[CV] max_depth=10, n_estimators=120, random_state=5 ..................\n",
      "[CV]  max_depth=10, n_estimators=120, random_state=5, score=0.710, total=   0.4s\n",
      "[CV] max_depth=10, n_estimators=120, random_state=5 ..................\n",
      "[CV]  max_depth=10, n_estimators=120, random_state=5, score=0.696, total=   0.4s\n",
      "[CV] max_depth=10, n_estimators=120, random_state=5 ..................\n",
      "[CV]  max_depth=10, n_estimators=120, random_state=5, score=0.704, total=   0.4s\n",
      "[CV] max_depth=10, n_estimators=120, random_state=5 ..................\n",
      "[CV]  max_depth=10, n_estimators=120, random_state=5, score=0.698, total=   0.4s\n",
      "[CV] max_depth=15, n_estimators=50, random_state=5 ...................\n",
      "[CV]  max_depth=15, n_estimators=50, random_state=5, score=0.716, total=   0.2s\n",
      "[CV] max_depth=15, n_estimators=50, random_state=5 ...................\n",
      "[CV]  max_depth=15, n_estimators=50, random_state=5, score=0.709, total=   0.2s\n",
      "[CV] max_depth=15, n_estimators=50, random_state=5 ...................\n",
      "[CV]  max_depth=15, n_estimators=50, random_state=5, score=0.713, total=   0.2s\n",
      "[CV] max_depth=15, n_estimators=50, random_state=5 ...................\n",
      "[CV]  max_depth=15, n_estimators=50, random_state=5, score=0.717, total=   0.2s\n",
      "[CV] max_depth=15, n_estimators=80, random_state=5 ...................\n",
      "[CV]  max_depth=15, n_estimators=80, random_state=5, score=0.712, total=   0.3s\n",
      "[CV] max_depth=15, n_estimators=80, random_state=5 ...................\n",
      "[CV]  max_depth=15, n_estimators=80, random_state=5, score=0.716, total=   0.4s\n",
      "[CV] max_depth=15, n_estimators=80, random_state=5 ...................\n",
      "[CV]  max_depth=15, n_estimators=80, random_state=5, score=0.715, total=   0.4s\n",
      "[CV] max_depth=15, n_estimators=80, random_state=5 ...................\n",
      "[CV]  max_depth=15, n_estimators=80, random_state=5, score=0.717, total=   0.4s\n",
      "[CV] max_depth=15, n_estimators=100, random_state=5 ..................\n",
      "[CV]  max_depth=15, n_estimators=100, random_state=5, score=0.726, total=   0.5s\n",
      "[CV] max_depth=15, n_estimators=100, random_state=5 ..................\n",
      "[CV]  max_depth=15, n_estimators=100, random_state=5, score=0.710, total=   0.4s\n",
      "[CV] max_depth=15, n_estimators=100, random_state=5 ..................\n",
      "[CV]  max_depth=15, n_estimators=100, random_state=5, score=0.716, total=   0.4s\n",
      "[CV] max_depth=15, n_estimators=100, random_state=5 ..................\n",
      "[CV]  max_depth=15, n_estimators=100, random_state=5, score=0.713, total=   0.4s\n",
      "[CV] max_depth=15, n_estimators=120, random_state=5 ..................\n",
      "[CV]  max_depth=15, n_estimators=120, random_state=5, score=0.727, total=   0.6s\n",
      "[CV] max_depth=15, n_estimators=120, random_state=5 ..................\n",
      "[CV]  max_depth=15, n_estimators=120, random_state=5, score=0.711, total=   0.6s\n",
      "[CV] max_depth=15, n_estimators=120, random_state=5 ..................\n",
      "[CV]  max_depth=15, n_estimators=120, random_state=5, score=0.718, total=   0.7s\n",
      "[CV] max_depth=15, n_estimators=120, random_state=5 ..................\n",
      "[CV]  max_depth=15, n_estimators=120, random_state=5, score=0.713, total=   0.6s\n",
      "[CV] max_depth=20, n_estimators=50, random_state=5 ...................\n",
      "[CV]  max_depth=20, n_estimators=50, random_state=5, score=0.721, total=   0.3s\n",
      "[CV] max_depth=20, n_estimators=50, random_state=5 ...................\n",
      "[CV]  max_depth=20, n_estimators=50, random_state=5, score=0.713, total=   0.4s\n",
      "[CV] max_depth=20, n_estimators=50, random_state=5 ...................\n",
      "[CV]  max_depth=20, n_estimators=50, random_state=5, score=0.710, total=   0.3s\n",
      "[CV] max_depth=20, n_estimators=50, random_state=5 ...................\n",
      "[CV]  max_depth=20, n_estimators=50, random_state=5, score=0.711, total=   0.4s\n",
      "[CV] max_depth=20, n_estimators=80, random_state=5 ...................\n",
      "[CV]  max_depth=20, n_estimators=80, random_state=5, score=0.728, total=   0.6s\n",
      "[CV] max_depth=20, n_estimators=80, random_state=5 ...................\n",
      "[CV]  max_depth=20, n_estimators=80, random_state=5, score=0.712, total=   0.5s\n",
      "[CV] max_depth=20, n_estimators=80, random_state=5 ...................\n",
      "[CV]  max_depth=20, n_estimators=80, random_state=5, score=0.721, total=   0.6s\n",
      "[CV] max_depth=20, n_estimators=80, random_state=5 ...................\n",
      "[CV]  max_depth=20, n_estimators=80, random_state=5, score=0.717, total=   0.6s\n",
      "[CV] max_depth=20, n_estimators=100, random_state=5 ..................\n",
      "[CV]  max_depth=20, n_estimators=100, random_state=5, score=0.727, total=   0.6s\n",
      "[CV] max_depth=20, n_estimators=100, random_state=5 ..................\n",
      "[CV]  max_depth=20, n_estimators=100, random_state=5, score=0.712, total=   0.6s\n",
      "[CV] max_depth=20, n_estimators=100, random_state=5 ..................\n"
     ]
    },
    {
     "name": "stdout",
     "output_type": "stream",
     "text": [
      "[CV]  max_depth=20, n_estimators=100, random_state=5, score=0.727, total=   0.7s\n",
      "[CV] max_depth=20, n_estimators=100, random_state=5 ..................\n",
      "[CV]  max_depth=20, n_estimators=100, random_state=5, score=0.722, total=   0.5s\n",
      "[CV] max_depth=20, n_estimators=120, random_state=5 ..................\n",
      "[CV]  max_depth=20, n_estimators=120, random_state=5, score=0.721, total=   0.8s\n",
      "[CV] max_depth=20, n_estimators=120, random_state=5 ..................\n",
      "[CV]  max_depth=20, n_estimators=120, random_state=5, score=0.711, total=   0.7s\n",
      "[CV] max_depth=20, n_estimators=120, random_state=5 ..................\n",
      "[CV]  max_depth=20, n_estimators=120, random_state=5, score=0.722, total=   0.7s\n",
      "[CV] max_depth=20, n_estimators=120, random_state=5 ..................\n",
      "[CV]  max_depth=20, n_estimators=120, random_state=5, score=0.724, total=   0.7s\n"
     ]
    },
    {
     "name": "stderr",
     "output_type": "stream",
     "text": [
      "[Parallel(n_jobs=1)]: Done  64 out of  64 | elapsed:   23.9s finished\n"
     ]
    }
   ],
   "source": [
    "parameters = {\"max_depth\": [5,10,15,20], \"n_estimators\": [50,80,100,120], \"random_state\": [5]}\n",
    "gridsearchcat  = GridSearchCV(rf_model, parameters,cv=4,verbose=3)\n",
    "gridsearchcat.fit(x_train, y_train)\n",
    "y_pred = gridsearchcat.predict(x_test)"
   ]
  },
  {
   "cell_type": "code",
   "execution_count": 38,
   "metadata": {},
   "outputs": [
    {
     "name": "stdout",
     "output_type": "stream",
     "text": [
      "0.7368238557558946\n"
     ]
    }
   ],
   "source": [
    "print(accuracy_score(y_pred,y_test))"
   ]
  },
  {
   "cell_type": "code",
   "execution_count": 39,
   "metadata": {},
   "outputs": [
    {
     "data": {
      "text/plain": [
       "{'max_depth': 20, 'n_estimators': 100, 'random_state': 5}"
      ]
     },
     "execution_count": 39,
     "metadata": {},
     "output_type": "execute_result"
    }
   ],
   "source": [
    "gridsearchcat.best_params_"
   ]
  },
  {
   "cell_type": "code",
   "execution_count": 40,
   "metadata": {
    "scrolled": false
   },
   "outputs": [
    {
     "data": {
      "image/png": "[encoded data removed]",
      "text/plain": [
       "<Figure size 360x360 with 1 Axes>"
      ]
     },
     "metadata": {
      "needs_background": "light"
     },
     "output_type": "display_data"
    }
   ],
   "source": [
    "feature_imp = pd.DataFrame(sorted(zip(rf_model.feature_importances_,x.columns)), columns=['Value','Feature'])\n",
    "feature_imp_top_10 = feature_imp.sort_values(by = 'Value',ascending=False).reset_index(drop=True)[:10]\n",
    "plt.figure(figsize=(5, 5))\n",
    "sns.barplot(x=\"Value\", y=\"Feature\", data=feature_imp_top_10)\n",
    "plt.title('RandomForest Top 10 Imp Features')\n",
    "plt.tight_layout()\n",
    "plt.savefig('RandomForest ROC', dpi=150)\n",
    "plt.show()"
   ]
  },
  {
   "cell_type": "code",
   "execution_count": 41,
   "metadata": {},
   "outputs": [],
   "source": [
    "y_pred_prob = rf_model.predict_proba(x_test)[:, 1]"
   ]
  },
  {
   "cell_type": "code",
   "execution_count": 42,
   "metadata": {},
   "outputs": [
    {
     "data": {
      "text/plain": [
       "<Figure size 432x288 with 0 Axes>"
      ]
     },
     "metadata": {},
     "output_type": "display_data"
    },
    {
     "data": {
      "image/png": "[encoded data removed]",
      "text/plain": [
       "<Figure size 360x360 with 1 Axes>"
      ]
     },
     "metadata": {
      "needs_background": "light"
     },
     "output_type": "display_data"
    }
   ],
   "source": [
    "plt.figure(0).clf()\n",
    "plt.figure(figsize=(5, 5))\n",
    "fpr, tpr, thresh = metrics.roc_curve(y_test, y_pred_prob)\n",
    "auc = metrics.roc_auc_score(y_test, y_pred_prob)\n",
    "plt.plot(fpr, tpr, color='orange', label='ROC')\n",
    "plt.plot([0, 1], [0, 1], color='darkblue', linestyle='--')\n",
    "plt.xlabel('False Positive Rate')\n",
    "plt.ylabel('True Positive Rate')\n",
    "plt.title('Receiver Operating Characteristic (ROC) Curve')\n",
    "plt.legend(loc=0)\n",
    "plt.savefig('RandomForestROC', dpi=150)"
   ]
  },
  {
   "cell_type": "code",
   "execution_count": 43,
   "metadata": {},
   "outputs": [
    {
     "data": {
      "text/plain": [
       "array([[1342,  283],\n",
       "       [ 476,  783]])"
      ]
     },
     "execution_count": 43,
     "metadata": {},
     "output_type": "execute_result"
    }
   ],
   "source": [
    "confusion_matrix(y_test, y_pred)"
   ]
  },
  {
   "cell_type": "code",
   "execution_count": null,
   "metadata": {},
   "outputs": [],
   "source": []
  }
 ],
 "metadata": {
  "kernelspec": {
   "display_name": "Python 3",
   "language": "python",
   "name": "python3"
  },
  "language_info": {
   "codemirror_mode": {
    "name": "ipython",
    "version": 3
   },
   "file_extension": ".py",
   "mimetype": "text/x-python",
   "name": "python",
   "nbconvert_exporter": "python",
   "pygments_lexer": "ipython3",
   "version": "3.7.3"
  }
 },
 "nbformat": 4,
 "nbformat_minor": 2
}
